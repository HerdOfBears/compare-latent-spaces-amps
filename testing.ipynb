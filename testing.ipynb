{
 "cells": [
  {
   "cell_type": "code",
   "execution_count": 1,
   "id": "6c4890eb-7c00-468b-93bd-90cf38fb09b4",
   "metadata": {},
   "outputs": [],
   "source": [
    "import pandas as pd\n",
    "import numpy as np\n",
    "import torch\n",
    "import os\n",
    "import pickle as pkl\n",
    "\n",
    "from transvae import trans_models\n",
    "from transvae.transformer_models import TransVAE\n",
    "from transvae.tvae_util import *\n",
    "from transvae import analysis\n",
    "from scripts.parsers import model_init, train_parser"
   ]
  },
  {
   "cell_type": "code",
   "execution_count": 2,
   "id": "2f056a98-6676-4429-8450-12789a599f7a",
   "metadata": {},
   "outputs": [
    {
     "data": {
      "text/plain": [
       "['.git',\n",
       " '.gitignore',\n",
       " '.ipynb_checkpoints',\n",
       " 'analysis_of_model_results.ipynb',\n",
       " 'checkpointz',\n",
       " 'data',\n",
       " 'data_and_pca_embeddings',\n",
       " 'input_data_analysis.ipynb',\n",
       " 'LICENSE',\n",
       " 'model_analyses',\n",
       " 'notebook_model_training.ipynb',\n",
       " 'output_graphing_notebook.ipynb',\n",
       " 'pipeline.ipynb',\n",
       " 'README.md',\n",
       " 'scripts',\n",
       " 'script_for_combined_model_analysis.ipynb',\n",
       " 'structure-assessment.ipynb',\n",
       " 'testing.ipynb',\n",
       " 'total_model_analysis.py',\n",
       " 'train_only_requirements.yml',\n",
       " 'transvae',\n",
       " 'trials']"
      ]
     },
     "execution_count": 2,
     "metadata": {},
     "output_type": "execute_result"
    }
   ],
   "source": [
    "os.listdir()"
   ]
  },
  {
   "cell_type": "code",
   "execution_count": 3,
   "id": "0be7eb19-95d9-42d3-a28a-08c4ce054336",
   "metadata": {},
   "outputs": [
    {
     "data": {
      "text/plain": [
       "['attn_weights_self_attn.npy',\n",
       " 'attn_weights_src_attn.npy',\n",
       " 'datasets',\n",
       " 'dataset_construction',\n",
       " 'function_test.txt',\n",
       " 'function_train.txt',\n",
       " 'peptide_test.txt',\n",
       " 'peptide_train.txt',\n",
       " 'sampled_physicochem_props.csv',\n",
       " 'test_physicochem_props.csv',\n",
       " 'train_physicochem_props.csv']"
      ]
     },
     "execution_count": 3,
     "metadata": {},
     "output_type": "execute_result"
    }
   ],
   "source": [
    "os.listdir(\"data/\")"
   ]
  },
  {
   "cell_type": "code",
   "execution_count": 4,
   "id": "334eae9d-6ac2-4d89-bcc3-2384238ff66d",
   "metadata": {},
   "outputs": [
    {
     "data": {
      "text/plain": [
       "['amp_aae', 'amp_rnn', 'amp_rnnattn', 'amp_trans', 'amp_wae']"
      ]
     },
     "execution_count": 4,
     "metadata": {},
     "output_type": "execute_result"
    }
   ],
   "source": [
    "os.listdir(\"checkpointz/\")"
   ]
  },
  {
   "cell_type": "code",
   "execution_count": 5,
   "id": "420c0005-f48d-40c3-9a11-f7f06eec0f09",
   "metadata": {},
   "outputs": [
    {
     "data": {
      "text/plain": [
       "['050_trans1x-128_peptide.ckpt',\n",
       " '100_trans1x-128_peptide.ckpt',\n",
       " '150_trans1x-128_peptide.ckpt',\n",
       " '200_trans1x-128_peptide.ckpt',\n",
       " '250_trans1x-128_peptide.ckpt',\n",
       " '300_trans1x-128_peptide.ckpt']"
      ]
     },
     "execution_count": 5,
     "metadata": {},
     "output_type": "execute_result"
    }
   ],
   "source": [
    "os.listdir(\"checkpointz/amp_trans/sunistarv4_emb128_latent64/\")"
   ]
  },
  {
   "cell_type": "code",
   "execution_count": 6,
   "id": "f8ab70b9-9c8d-4229-aacd-6db204731295",
   "metadata": {},
   "outputs": [],
   "source": [
    "model_src = \"checkpointz/amp_trans/sunistarv4_emb128_latent64/300_trans1x-128_peptide.ckpt\"\n",
    "\n",
    "\"\"\"\n",
    "\n",
    "\"\"\"\n",
    "model_obj=torch.load(model_src, map_location=torch.device(\"cpu\"))\n",
    "# model = TransVAE()\n",
    "model = TransVAE(load_fn=model_src, workaround=\"cpu\")\n",
    "# model = locals()[\"TransVAE\"](params={},load_fn=model_src)\n",
    "    #params=model_obj[\"params\"])\n",
    "model.params['HARDWARE']= 'cpu'\n",
    "# model.load(checkpoint_path=model_src)\n",
    "# model = locals()[\"TransVAE\"](load_fn=model_obj) #use locals to call model specific constructor\n"
   ]
  },
  {
   "cell_type": "code",
   "execution_count": 7,
   "id": "05a28100-2de7-4ebf-9ce6-65a3b151b56d",
   "metadata": {},
   "outputs": [
    {
     "data": {
      "text/plain": [
       "inf"
      ]
     },
     "execution_count": 7,
     "metadata": {},
     "output_type": "execute_result"
    }
   ],
   "source": [
    "model.best_loss"
   ]
  },
  {
   "cell_type": "code",
   "execution_count": 8,
   "id": "cf9f47c0-18a9-4d54-8998-8164df8b7a90",
   "metadata": {},
   "outputs": [],
   "source": [
    "total_parameters = 0\n",
    "for p in model.model.parameters():\n",
    "    total_parameters += len(p.flatten())"
   ]
  },
  {
   "cell_type": "code",
   "execution_count": 9,
   "id": "21e3a96d-2eb6-49c8-9d21-573c590cef76",
   "metadata": {},
   "outputs": [
    {
     "data": {
      "text/plain": [
       "1502007"
      ]
     },
     "execution_count": 9,
     "metadata": {},
     "output_type": "execute_result"
    }
   ],
   "source": [
    "total_parameters"
   ]
  },
  {
   "cell_type": "code",
   "execution_count": null,
   "id": "6a0cb14d-9d0b-4b33-9d3d-07c39cda63b1",
   "metadata": {},
   "outputs": [],
   "source": []
  },
  {
   "cell_type": "markdown",
   "id": "ab178700-f48b-4ae7-90e8-56fe189b8b9c",
   "metadata": {},
   "source": [
    "## grab some data to see if model was loaded"
   ]
  },
  {
   "cell_type": "code",
   "execution_count": 10,
   "id": "113f337d-60fd-415e-870f-e9e82776af23",
   "metadata": {},
   "outputs": [
    {
     "data": {
      "text/plain": [
       "['attn_weights_self_attn.npy',\n",
       " 'attn_weights_src_attn.npy',\n",
       " 'datasets',\n",
       " 'dataset_construction',\n",
       " 'function_test.txt',\n",
       " 'function_train.txt',\n",
       " 'peptide_test.txt',\n",
       " 'peptide_train.txt',\n",
       " 'sampled_physicochem_props.csv',\n",
       " 'test_physicochem_props.csv',\n",
       " 'train_physicochem_props.csv']"
      ]
     },
     "execution_count": 10,
     "metadata": {},
     "output_type": "execute_result"
    }
   ],
   "source": [
    "os.listdir(\"data/\")"
   ]
  },
  {
   "cell_type": "code",
   "execution_count": 11,
   "id": "499abd3c-640a-4729-830e-a2d1f7445b7e",
   "metadata": {},
   "outputs": [],
   "source": [
    "data_fpath = \"data/dataset_construction/final_dataset/\"\n",
    "train_seqs = pd.read_csv(data_fpath+\"peptide_train.txt\")\n",
    "train_fctn = pd.read_csv(data_fpath+\"function_train.txt\")\n",
    "with open(data_fpath+\"char_dict_peptide.pkl\", 'rb') as f:\n",
    "    char_dict = pkl.load(f)"
   ]
  },
  {
   "cell_type": "code",
   "execution_count": 12,
   "id": "2851ed17-5c33-4e2f-965e-ab545faae458",
   "metadata": {},
   "outputs": [
    {
     "data": {
      "text/html": [
       "<div>\n",
       "<style scoped>\n",
       "    .dataframe tbody tr th:only-of-type {\n",
       "        vertical-align: middle;\n",
       "    }\n",
       "\n",
       "    .dataframe tbody tr th {\n",
       "        vertical-align: top;\n",
       "    }\n",
       "\n",
       "    .dataframe thead th {\n",
       "        text-align: right;\n",
       "    }\n",
       "</style>\n",
       "<table border=\"1\" class=\"dataframe\">\n",
       "  <thead>\n",
       "    <tr style=\"text-align: right;\">\n",
       "      <th></th>\n",
       "      <th>peptides</th>\n",
       "    </tr>\n",
       "  </thead>\n",
       "  <tbody>\n",
       "    <tr>\n",
       "      <th>0</th>\n",
       "      <td>MKYCSQCGGTVALRIPDGDTRQRFVCGH</td>\n",
       "    </tr>\n",
       "    <tr>\n",
       "      <th>1</th>\n",
       "      <td>LTALCPPGRSYIRYSQICAQAVRAAMKPQYKAEAERAATATVKTVK...</td>\n",
       "    </tr>\n",
       "    <tr>\n",
       "      <th>2</th>\n",
       "      <td>MRGVVCLGLVLVHLL</td>\n",
       "    </tr>\n",
       "    <tr>\n",
       "      <th>3</th>\n",
       "      <td>SASEGPKFRETVTEFVEQIRALGPKSA</td>\n",
       "    </tr>\n",
       "    <tr>\n",
       "      <th>4</th>\n",
       "      <td>KINTINISYLVPGNRICIADSVNI</td>\n",
       "    </tr>\n",
       "  </tbody>\n",
       "</table>\n",
       "</div>"
      ],
      "text/plain": [
       "                                            peptides\n",
       "0                       MKYCSQCGGTVALRIPDGDTRQRFVCGH\n",
       "1  LTALCPPGRSYIRYSQICAQAVRAAMKPQYKAEAERAATATVKTVK...\n",
       "2                                    MRGVVCLGLVLVHLL\n",
       "3                        SASEGPKFRETVTEFVEQIRALGPKSA\n",
       "4                           KINTINISYLVPGNRICIADSVNI"
      ]
     },
     "execution_count": 12,
     "metadata": {},
     "output_type": "execute_result"
    }
   ],
   "source": [
    "train_seqs.head()"
   ]
  },
  {
   "cell_type": "code",
   "execution_count": 13,
   "id": "bce17345-3eab-48cd-aef4-f32844163d94",
   "metadata": {},
   "outputs": [
    {
     "data": {
      "text/html": [
       "<div>\n",
       "<style scoped>\n",
       "    .dataframe tbody tr th:only-of-type {\n",
       "        vertical-align: middle;\n",
       "    }\n",
       "\n",
       "    .dataframe tbody tr th {\n",
       "        vertical-align: top;\n",
       "    }\n",
       "\n",
       "    .dataframe thead th {\n",
       "        text-align: right;\n",
       "    }\n",
       "</style>\n",
       "<table border=\"1\" class=\"dataframe\">\n",
       "  <thead>\n",
       "    <tr style=\"text-align: right;\">\n",
       "      <th></th>\n",
       "      <th>peptides</th>\n",
       "    </tr>\n",
       "  </thead>\n",
       "  <tbody>\n",
       "    <tr>\n",
       "      <th>0</th>\n",
       "      <td>0</td>\n",
       "    </tr>\n",
       "    <tr>\n",
       "      <th>1</th>\n",
       "      <td>0</td>\n",
       "    </tr>\n",
       "    <tr>\n",
       "      <th>2</th>\n",
       "      <td>0</td>\n",
       "    </tr>\n",
       "    <tr>\n",
       "      <th>3</th>\n",
       "      <td>0</td>\n",
       "    </tr>\n",
       "    <tr>\n",
       "      <th>4</th>\n",
       "      <td>0</td>\n",
       "    </tr>\n",
       "  </tbody>\n",
       "</table>\n",
       "</div>"
      ],
      "text/plain": [
       "   peptides\n",
       "0         0\n",
       "1         0\n",
       "2         0\n",
       "3         0\n",
       "4         0"
      ]
     },
     "execution_count": 13,
     "metadata": {},
     "output_type": "execute_result"
    }
   ],
   "source": [
    "train_fctn.head()"
   ]
  },
  {
   "cell_type": "code",
   "execution_count": 14,
   "id": "871c2482-2999-494c-ac99-8cec5110be23",
   "metadata": {},
   "outputs": [
    {
     "data": {
      "text/plain": [
       "{'<start>': 0,\n",
       " 'M': 1,\n",
       " 'K': 2,\n",
       " 'Y': 3,\n",
       " 'C': 4,\n",
       " 'S': 5,\n",
       " 'Q': 6,\n",
       " 'G': 7,\n",
       " 'T': 8,\n",
       " 'V': 9,\n",
       " 'A': 10,\n",
       " 'L': 11,\n",
       " 'R': 12,\n",
       " 'I': 13,\n",
       " 'P': 14,\n",
       " 'D': 15,\n",
       " 'F': 16,\n",
       " 'H': 17,\n",
       " 'E': 18,\n",
       " 'N': 19,\n",
       " 'W': 20,\n",
       " '_': 21,\n",
       " '<end>': 22}"
      ]
     },
     "execution_count": 14,
     "metadata": {},
     "output_type": "execute_result"
    }
   ],
   "source": [
    "char_dict"
   ]
  },
  {
   "cell_type": "code",
   "execution_count": 15,
   "id": "d4d69ece-0ff0-4b86-96c6-7760ae058864",
   "metadata": {},
   "outputs": [],
   "source": [
    "def encode_seqs(df, stoi):\n",
    "    encoded_seqs = []\n",
    "    max_len = 50\n",
    "    for seq in df['peptides']:\n",
    "        temp_ = [stoi[aa] for aa in seq]\n",
    "        seq_len = len(seq)\n",
    "        temp_ += [22]\n",
    "        temp_ += [21] * (max_len - seq_len)\n",
    "        temp_ = [0] + temp_\n",
    "        encoded_seqs.append(temp_)\n",
    "    df = pd.DataFrame({\"encoded_peptides\":encoded_seqs})\n",
    "    return df\n",
    "def decode_seq(encoded_seq, stoi):\n",
    "    itos = {v:k for k,v in stoi.items()}\n",
    "    decoded_seq = []\n",
    "    for tok in encoded_seq:\n",
    "        decoded_seq.append(itos[tok])\n",
    "    decoded_seq = \"\".join(decoded_seq)\n",
    "    decoded_seq = decoded_seq.strip(\"_\")\n",
    "    decoded_seq = decoded_seq.strip(\"<start>\")\n",
    "    decoded_seq = decoded_seq.strip(\"<end>\")\n",
    "    return decoded_seq"
   ]
  },
  {
   "cell_type": "code",
   "execution_count": 16,
   "id": "3207bbfb-95f0-4a73-a644-fc88b8e71a88",
   "metadata": {},
   "outputs": [],
   "source": [
    "df = encode_seqs(train_seqs, char_dict)"
   ]
  },
  {
   "cell_type": "code",
   "execution_count": 17,
   "id": "2309bc69-ab02-48a6-b82b-e45e1227b10d",
   "metadata": {},
   "outputs": [
    {
     "data": {
      "text/plain": [
       "(243201, 1)"
      ]
     },
     "execution_count": 17,
     "metadata": {},
     "output_type": "execute_result"
    }
   ],
   "source": [
    "df.shape"
   ]
  },
  {
   "cell_type": "code",
   "execution_count": 18,
   "id": "6643d71a-6df9-4092-bcc1-f2db64b035d5",
   "metadata": {},
   "outputs": [
    {
     "data": {
      "text/plain": [
       "(243201, 1)"
      ]
     },
     "execution_count": 18,
     "metadata": {},
     "output_type": "execute_result"
    }
   ],
   "source": [
    "train_fctn.shape"
   ]
  },
  {
   "cell_type": "code",
   "execution_count": 19,
   "id": "9b68f828-d40d-48d2-98af-b00fd61ad287",
   "metadata": {},
   "outputs": [],
   "source": [
    "# put them in same dataframe\n",
    "df[\"amp_or_not\"] = train_fctn['peptides']"
   ]
  },
  {
   "cell_type": "code",
   "execution_count": 20,
   "id": "eba85fa7-e5fa-4cb5-9fc4-442bfda289aa",
   "metadata": {},
   "outputs": [
    {
     "name": "stdout",
     "output_type": "stream",
     "text": [
      "234584\n",
      "8617\n"
     ]
    }
   ],
   "source": [
    "print( (df['amp_or_not']==0).sum() )\n",
    "print(df['amp_or_not'].sum())"
   ]
  },
  {
   "cell_type": "code",
   "execution_count": 21,
   "id": "f5aa5fc8-99aa-4188-a5ad-7c0d391fcc72",
   "metadata": {},
   "outputs": [
    {
     "name": "stdout",
     "output_type": "stream",
     "text": [
      "MKYCSQCGGTVALRIPDGDTRQRFVCGH\n",
      "[0, 1, 2, 3, 4, 5, 6, 4, 7, 7, 8, 9, 10, 11, 12, 13, 14, 15, 7, 15, 8, 12, 6, 12, 16, 9, 4, 7, 17, 22, 21, 21, 21, 21, 21, 21, 21, 21, 21, 21, 21, 21, 21, 21, 21, 21, 21, 21, 21, 21, 21, 21]\n",
      "MKYCSQCGGTVALRIPDGDTRQRFVCGH\n"
     ]
    }
   ],
   "source": [
    "print(train_seqs.iloc[0,0])\n",
    "print(df.iloc[0,0])\n",
    "print(decode_seq(df.iloc[0,0],char_dict))"
   ]
  },
  {
   "cell_type": "markdown",
   "id": "b30a0f37-4d10-415c-8287-d3700ab93490",
   "metadata": {},
   "source": [
    "## Need to grab some amps and non-amps and put into torch tensor"
   ]
  },
  {
   "cell_type": "code",
   "execution_count": 22,
   "id": "acd815e2-337f-4e22-a6bc-340f191ae051",
   "metadata": {},
   "outputs": [],
   "source": [
    "n_amps     = 500\n",
    "n_non_amps = 500\n",
    "\n",
    "indices_amps     = np.random.randint(0,8600, size=n_amps)\n",
    "indices_non_amps = np.random.randint(0,200600, size=n_non_amps)\n",
    "some_amps     = df[df[\"amp_or_not\"]==1].iloc[indices_amps]\n",
    "some_non_amps = df[df[\"amp_or_not\"]==0].iloc[indices_non_amps]"
   ]
  },
  {
   "cell_type": "code",
   "execution_count": 23,
   "id": "e35e3917-fd6e-453c-96ea-aebd73465481",
   "metadata": {},
   "outputs": [],
   "source": [
    "sampled_peptides = []\n",
    "sampled_fctns = []\n",
    "for i,seq in enumerate(some_amps[\"encoded_peptides\"]):\n",
    "    sampled_peptides.append( [decode_seq(seq,char_dict)] )\n",
    "    sampled_fctns.append( [some_amps.iloc[i,1]])\n",
    "for i,seq in enumerate(some_non_amps[\"encoded_peptides\"]):\n",
    "    sampled_peptides.append( [decode_seq(seq,char_dict)] )\n",
    "    sampled_fctns.append( [some_non_amps.iloc[i,1]])"
   ]
  },
  {
   "cell_type": "code",
   "execution_count": 24,
   "id": "60722fdc-5fda-4b9d-9d40-e3b7a789be22",
   "metadata": {},
   "outputs": [],
   "source": [
    "sampled_peptides = np.array(sampled_peptides)\n",
    "sampled_fctns = np.array(sampled_fctns)"
   ]
  },
  {
   "cell_type": "code",
   "execution_count": 25,
   "id": "fb3cf12f-0917-44bb-8623-5260558f900a",
   "metadata": {},
   "outputs": [
    {
     "data": {
      "text/plain": [
       "(1000, 1)"
      ]
     },
     "execution_count": 25,
     "metadata": {},
     "output_type": "execute_result"
    }
   ],
   "source": [
    "sampled_peptides.shape"
   ]
  },
  {
   "cell_type": "code",
   "execution_count": 26,
   "id": "1d792ce1-2bba-49d3-8991-e5bfe52a6f3d",
   "metadata": {},
   "outputs": [
    {
     "data": {
      "text/plain": [
       "(1000, 1)"
      ]
     },
     "execution_count": 26,
     "metadata": {},
     "output_type": "execute_result"
    }
   ],
   "source": [
    "sampled_fctns.shape"
   ]
  },
  {
   "cell_type": "code",
   "execution_count": 27,
   "id": "a01e31f0-bd11-4bee-b445-4ee6b8b4187b",
   "metadata": {},
   "outputs": [
    {
     "data": {
      "text/html": [
       "<div>\n",
       "<style scoped>\n",
       "    .dataframe tbody tr th:only-of-type {\n",
       "        vertical-align: middle;\n",
       "    }\n",
       "\n",
       "    .dataframe tbody tr th {\n",
       "        vertical-align: top;\n",
       "    }\n",
       "\n",
       "    .dataframe thead th {\n",
       "        text-align: right;\n",
       "    }\n",
       "</style>\n",
       "<table border=\"1\" class=\"dataframe\">\n",
       "  <thead>\n",
       "    <tr style=\"text-align: right;\">\n",
       "      <th></th>\n",
       "      <th>encoded_peptides</th>\n",
       "      <th>amp_or_not</th>\n",
       "    </tr>\n",
       "  </thead>\n",
       "  <tbody>\n",
       "    <tr>\n",
       "      <th>235351</th>\n",
       "      <td>[0, 2, 11, 2, 11, 2, 16, 2, 11, 2, 6, 22, 21, ...</td>\n",
       "      <td>1</td>\n",
       "    </tr>\n",
       "    <tr>\n",
       "      <th>75117</th>\n",
       "      <td>[0, 4, 5, 4, 2, 19, 2, 9, 4, 3, 12, 19, 7, 9, ...</td>\n",
       "      <td>1</td>\n",
       "    </tr>\n",
       "    <tr>\n",
       "      <th>229443</th>\n",
       "      <td>[0, 16, 11, 14, 13, 11, 7, 19, 11, 11, 5, 7, 1...</td>\n",
       "      <td>1</td>\n",
       "    </tr>\n",
       "    <tr>\n",
       "      <th>187571</th>\n",
       "      <td>[0, 20, 13, 11, 10, 13, 14, 12, 12, 13, 12, 7,...</td>\n",
       "      <td>1</td>\n",
       "    </tr>\n",
       "    <tr>\n",
       "      <th>103721</th>\n",
       "      <td>[0, 10, 5, 5, 7, 20, 9, 4, 8, 11, 8, 13, 18, 4...</td>\n",
       "      <td>1</td>\n",
       "    </tr>\n",
       "  </tbody>\n",
       "</table>\n",
       "</div>"
      ],
      "text/plain": [
       "                                         encoded_peptides  amp_or_not\n",
       "235351  [0, 2, 11, 2, 11, 2, 16, 2, 11, 2, 6, 22, 21, ...           1\n",
       "75117   [0, 4, 5, 4, 2, 19, 2, 9, 4, 3, 12, 19, 7, 9, ...           1\n",
       "229443  [0, 16, 11, 14, 13, 11, 7, 19, 11, 11, 5, 7, 1...           1\n",
       "187571  [0, 20, 13, 11, 10, 13, 14, 12, 12, 13, 12, 7,...           1\n",
       "103721  [0, 10, 5, 5, 7, 20, 9, 4, 8, 11, 8, 13, 18, 4...           1"
      ]
     },
     "execution_count": 27,
     "metadata": {},
     "output_type": "execute_result"
    }
   ],
   "source": [
    "some_amps.head()"
   ]
  },
  {
   "cell_type": "code",
   "execution_count": 28,
   "id": "c25fa5b2-d6fb-42af-b23a-bed00fcdc091",
   "metadata": {},
   "outputs": [],
   "source": [
    "def convert_to_torch(data_amps, data_non_amps):\n",
    "    N = data_amps.shape[0] + data_non_amps.shape[0]\n",
    "    max_len = len(data_amps.iloc[0,0])\n",
    "    tensor = torch.zeros(N,max_len)\n",
    "    for i,seq in enumerate(data_amps[\"encoded_peptides\"]):\n",
    "        for ii in range(max_len):\n",
    "            tensor[i,ii] = seq[ii]\n",
    "    for j, seq in enumerate(data_non_amps[\"encoded_peptides\"]):\n",
    "        for jj in range(max_len):\n",
    "            tensor[i+j, jj] = seq[jj]\n",
    "    return tensor"
   ]
  },
  {
   "cell_type": "code",
   "execution_count": 29,
   "id": "a288a08b-ce86-4458-a785-bd94d191f6a6",
   "metadata": {},
   "outputs": [],
   "source": [
    "tst=convert_to_torch(some_amps, some_non_amps)"
   ]
  },
  {
   "cell_type": "code",
   "execution_count": 30,
   "id": "4f150b64-bac8-46cf-8251-c6025f6b21b7",
   "metadata": {},
   "outputs": [],
   "source": [
    "import time"
   ]
  },
  {
   "cell_type": "code",
   "execution_count": 32,
   "id": "c791579f-ec9b-44cb-a859-dc34508c7573",
   "metadata": {},
   "outputs": [
    {
     "name": "stdout",
     "output_type": "stream",
     "text": [
      "cpu\n",
      "decoding sequences of max length  125 current position:  0\n",
      "decoding sequences of max length  125 current position:  100\n",
      "time elapsed = 766.65501s\n"
     ]
    }
   ],
   "source": [
    "model.params[\"BATCH_SIZE\"] = n_amps + n_non_amps\n",
    "t0 = time.time()\n",
    "with torch.no_grad():\n",
    "    z, mu, logvar = model.calc_mems(sampled_peptides, log=False,save=False)\n",
    "    decoded_seqs  = model.reconstruct(np.c_[sampled_peptides,sampled_fctns],log=False,return_mems=False)\n",
    "print(f\"time elapsed = {round(time.time()-t0,5)}s\")"
   ]
  },
  {
   "cell_type": "code",
   "execution_count": null,
   "id": "37e8de0f-e2d6-4269-a403-01407651de3c",
   "metadata": {},
   "outputs": [],
   "source": [
    "mu.shape"
   ]
  },
  {
   "cell_type": "code",
   "execution_count": null,
   "id": "c8be0892-2e02-4789-9be7-3bb5bc04f974",
   "metadata": {},
   "outputs": [],
   "source": [
    "decoded_seqs[0][:5]"
   ]
  },
  {
   "cell_type": "code",
   "execution_count": null,
   "id": "b223d33a-fdee-4d85-a8bc-1b9cfa72c095",
   "metadata": {},
   "outputs": [],
   "source": [
    "sampled_peptides[:5]"
   ]
  },
  {
   "cell_type": "markdown",
   "id": "5562a391-827c-4284-b2e5-dc91e9e641ce",
   "metadata": {},
   "source": [
    "## project latent space using ..."
   ]
  },
  {
   "cell_type": "markdown",
   "id": "5b40d9e2-68e3-4b93-8ceb-1e15ebb43ef4",
   "metadata": {},
   "source": [
    "### PCA"
   ]
  },
  {
   "cell_type": "code",
   "execution_count": null,
   "id": "4f0c0e9a-4d77-4fb2-972d-f4f95f884fa1",
   "metadata": {},
   "outputs": [],
   "source": [
    "from sklearn.decomposition import PCA"
   ]
  },
  {
   "cell_type": "code",
   "execution_count": null,
   "id": "121d789b-5357-448a-a6b9-f638f938c53a",
   "metadata": {},
   "outputs": [],
   "source": [
    "pca = PCA(n_components=5)\n",
    "pca.fit(mu)"
   ]
  },
  {
   "cell_type": "code",
   "execution_count": null,
   "id": "6cf6a22a-8294-4aae-b966-d40912ba1717",
   "metadata": {},
   "outputs": [],
   "source": [
    "pca_mu = pca.transform(mu)"
   ]
  },
  {
   "cell_type": "code",
   "execution_count": null,
   "id": "10868ba4-1ef6-4bb2-8c25-fc7ee428dc07",
   "metadata": {},
   "outputs": [],
   "source": [
    "marker_sizes = [8 for _ in range(len(pca_mu[:,0]))]\n",
    "plt.scatter(pca_mu[:,0], \n",
    "            pca_mu[:,1], \n",
    "            c=sampled_fctns.reshape(-1,1), \n",
    "            s=marker_sizes\n",
    ")"
   ]
  },
  {
   "cell_type": "markdown",
   "id": "82400cc8-2026-4ddc-aa3c-b7e4c9d573c0",
   "metadata": {},
   "source": [
    "### UMAP"
   ]
  },
  {
   "cell_type": "code",
   "execution_count": null,
   "id": "22a7d663-f3e5-4c9c-a335-85a21b22fc25",
   "metadata": {},
   "outputs": [],
   "source": [
    "import umap\n",
    "import umap.plot\n",
    "\n",
    "import matplotlib.cm as cm\n",
    "import matplotlib.colors as colors\n",
    "\n",
    "SAVE_FIGURES = False"
   ]
  },
  {
   "cell_type": "code",
   "execution_count": null,
   "id": "97655f7a-e5ac-4324-bf0a-52edfbc2756b",
   "metadata": {},
   "outputs": [],
   "source": []
  },
  {
   "cell_type": "code",
   "execution_count": null,
   "id": "007344f5-618d-40cc-a1a1-8c5d8a094cf5",
   "metadata": {},
   "outputs": [],
   "source": [
    "for nneighbours in [5,15,30,45,60]:\n",
    "    mapper = umap.UMAP(n_neighbors=nneighbours)\n",
    "    mapper = mapper.fit(mu)\n",
    "    \n",
    "    values = sampled_fctns[:,0]\n",
    "    fig, ax = plt.subplots()\n",
    "    \n",
    "    cmap = \"rainbow\"\n",
    "    # create a scalar colour map for values\n",
    "    norm = colors.Normalize(values.min(), values.max())\n",
    "    scalar_map = cm.ScalarMappable(norm=norm, cmap=cmap)  # type: ignore\n",
    "    # plot using umaps helper function\n",
    "    ax = umap.plot.points(mapper, values=values, ax=ax, cmap=cmap)\n",
    "    # create a colorbar\n",
    "    cbar = fig.colorbar(scalar_map, ax=ax)  # type: ignore\n",
    "    plt.title(f\"64-dim'l latent space coloured by amp-or-not|{nneighbours}\")\n",
    "    plt.show()\n",
    "\n",
    "if SAVE_FIGURES:\n",
    "    plt.savefig(\n",
    "        figure_dir + \"umap-logP.\"+IMAGE_FTYPE,\n",
    "        dpi=DPI\n",
    "    )"
   ]
  },
  {
   "cell_type": "markdown",
   "id": "ea03e5bf-016d-49a3-bad7-cf7d5fb98304",
   "metadata": {},
   "source": [
    "### t-SNE"
   ]
  },
  {
   "cell_type": "code",
   "execution_count": 38,
   "id": "fcd49036-d9ea-463a-bdcf-2567b63786f0",
   "metadata": {},
   "outputs": [
    {
     "data": {
      "text/plain": [
       "8"
      ]
     },
     "execution_count": 38,
     "metadata": {},
     "output_type": "execute_result"
    }
   ],
   "source": [
    "os.cpu_count()"
   ]
  },
  {
   "cell_type": "code",
   "execution_count": null,
   "id": "faaf0ad3-b864-4dfe-b9a2-1c52164ba822",
   "metadata": {},
   "outputs": [],
   "source": []
  }
 ],
 "metadata": {
  "kernelspec": {
   "display_name": "Python 3 (ipykernel)",
   "language": "python",
   "name": "python3"
  },
  "language_info": {
   "codemirror_mode": {
    "name": "ipython",
    "version": 3
   },
   "file_extension": ".py",
   "mimetype": "text/x-python",
   "name": "python",
   "nbconvert_exporter": "python",
   "pygments_lexer": "ipython3",
   "version": "3.10.12"
  }
 },
 "nbformat": 4,
 "nbformat_minor": 5
}
