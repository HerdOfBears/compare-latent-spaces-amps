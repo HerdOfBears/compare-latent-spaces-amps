{
 "cells": [
  {
   "cell_type": "markdown",
   "id": "06e7c7a8-a400-4fe5-bc52-0e1307c4d79b",
   "metadata": {},
   "source": [
    "# "
   ]
  },
  {
   "cell_type": "code",
   "execution_count": 17,
   "id": "8a6be8bd-e989-447e-843d-add545b7cf6d",
   "metadata": {},
   "outputs": [],
   "source": [
    "import pandas as pd\n",
    "import numpy as np\n",
    "import pickle as pkl\n",
    "import peptides\n",
    "import propy\n",
    "\n",
    "import matplotlib.pyplot as plt\n",
    "\n",
    "from sklearn.svm import SVR\n",
    "from sklearn.linear_model import LinearRegression\n",
    "from sklearn.preprocessing import StandardScaler\n",
    "from sklearn.metrics import mean_squared_error\n",
    "from sklearn.model_selection import train_test_split, KFold"
   ]
  },
  {
   "cell_type": "code",
   "execution_count": 2,
   "id": "b1bfb97c-6819-4975-81fa-6a5c06905e4e",
   "metadata": {},
   "outputs": [],
   "source": [
    "# gets training and testing data, as used by Witten & Witten (2019). \n",
    "data_dir = \"models/Saved_variables/\"\n",
    "ecoli_train_with_c = pd.read_pickle(f'{data_dir}ecoli_train_with_c_df.pkl')\n",
    "ecoli_train_no_c = pd.read_pickle(f'{data_dir}ecoli_train_no_c_df.pkl')\n",
    "\n",
    "ecoli_test = pd.read_pickle(f'{data_dir}ecoli_test_df.pkl')\n",
    "\n",
    "ecoli_df = pd.read_pickle(f'{data_dir}ecoli_all_df.pkl')\n",
    "ecoli_df_no_c = pd.read_pickle(f'{data_dir}ecoli_all_no_c_df.pkl')\n",
    "\n",
    "all_df = pd.read_pickle(f'{data_dir}all_df.pkl')\n",
    "\n",
    "ecoli_train_train_no_c = pd.read_pickle(f'{data_dir}ecoli_train_train_no_c_df.pkl')\n",
    "ecoli_validate_no_c = pd.read_pickle(f'{data_dir}ecoli_validate_no_c_df.pkl')"
   ]
  },
  {
   "cell_type": "code",
   "execution_count": 3,
   "id": "fa143770-b272-493c-9cbd-0a1e4078aaeb",
   "metadata": {},
   "outputs": [
    {
     "data": {
      "text/html": [
       "<div>\n",
       "<style scoped>\n",
       "    .dataframe tbody tr th:only-of-type {\n",
       "        vertical-align: middle;\n",
       "    }\n",
       "\n",
       "    .dataframe tbody tr th {\n",
       "        vertical-align: top;\n",
       "    }\n",
       "\n",
       "    .dataframe thead th {\n",
       "        text-align: right;\n",
       "    }\n",
       "</style>\n",
       "<table border=\"1\" class=\"dataframe\">\n",
       "  <thead>\n",
       "    <tr style=\"text-align: right;\">\n",
       "      <th></th>\n",
       "      <th>level_0</th>\n",
       "      <th>index</th>\n",
       "      <th>sequence</th>\n",
       "      <th>bacterium</th>\n",
       "      <th>value</th>\n",
       "      <th>is_modified</th>\n",
       "      <th>has_unusual_modification</th>\n",
       "      <th>has_cterminal_amidation</th>\n",
       "      <th>_datasource_has_modifications</th>\n",
       "      <th>_sequence_has_modifications</th>\n",
       "      <th>modification_verified</th>\n",
       "    </tr>\n",
       "  </thead>\n",
       "  <tbody>\n",
       "    <tr>\n",
       "      <th>0</th>\n",
       "      <td>0</td>\n",
       "      <td>0</td>\n",
       "      <td>AAAAAAAAAAGIGKFLHSAKKFGKAFVGEIMNS</td>\n",
       "      <td>E. coli</td>\n",
       "      <td>2.09995</td>\n",
       "      <td>0.0</td>\n",
       "      <td>0.0</td>\n",
       "      <td>0.0</td>\n",
       "      <td>1.0</td>\n",
       "      <td>1.0</td>\n",
       "      <td>1.0</td>\n",
       "    </tr>\n",
       "    <tr>\n",
       "      <th>1</th>\n",
       "      <td>1</td>\n",
       "      <td>1</td>\n",
       "      <td>AAAAAAAIKMLMDLVNERIMALNKKAKK</td>\n",
       "      <td>E. coli</td>\n",
       "      <td>1.00000</td>\n",
       "      <td>1.0</td>\n",
       "      <td>0.0</td>\n",
       "      <td>1.0</td>\n",
       "      <td>1.0</td>\n",
       "      <td>1.0</td>\n",
       "      <td>1.0</td>\n",
       "    </tr>\n",
       "    <tr>\n",
       "      <th>2</th>\n",
       "      <td>2</td>\n",
       "      <td>2</td>\n",
       "      <td>AAAKAALNAVLVGANA</td>\n",
       "      <td>E. coli</td>\n",
       "      <td>1.90309</td>\n",
       "      <td>0.0</td>\n",
       "      <td>0.0</td>\n",
       "      <td>0.0</td>\n",
       "      <td>1.0</td>\n",
       "      <td>1.0</td>\n",
       "      <td>1.0</td>\n",
       "    </tr>\n",
       "  </tbody>\n",
       "</table>\n",
       "</div>"
      ],
      "text/plain": [
       "   level_0  index                           sequence bacterium    value  \\\n",
       "0        0      0  AAAAAAAAAAGIGKFLHSAKKFGKAFVGEIMNS   E. coli  2.09995   \n",
       "1        1      1       AAAAAAAIKMLMDLVNERIMALNKKAKK   E. coli  1.00000   \n",
       "2        2      2                   AAAKAALNAVLVGANA   E. coli  1.90309   \n",
       "\n",
       "   is_modified  has_unusual_modification  has_cterminal_amidation  \\\n",
       "0          0.0                       0.0                      0.0   \n",
       "1          1.0                       0.0                      1.0   \n",
       "2          0.0                       0.0                      0.0   \n",
       "\n",
       "   _datasource_has_modifications  _sequence_has_modifications  \\\n",
       "0                            1.0                          1.0   \n",
       "1                            1.0                          1.0   \n",
       "2                            1.0                          1.0   \n",
       "\n",
       "   modification_verified  \n",
       "0                    1.0  \n",
       "1                    1.0  \n",
       "2                    1.0  "
      ]
     },
     "execution_count": 3,
     "metadata": {},
     "output_type": "execute_result"
    }
   ],
   "source": [
    "\n",
    "ecoli_train_no_c.head(3)"
   ]
  },
  {
   "cell_type": "code",
   "execution_count": 4,
   "id": "d85b829c-3b34-4e58-ad24-3526c10a83f1",
   "metadata": {},
   "outputs": [
    {
     "name": "stdout",
     "output_type": "stream",
     "text": [
      "len(ecoli_train_with_c)=4050 len(ecoli_test)=509\n"
     ]
    }
   ],
   "source": [
    "print(\n",
    "    f\"{len(ecoli_train_with_c)=}\",\n",
    "    f\"{len(ecoli_test)=}\"\n",
    ")"
   ]
  },
  {
   "cell_type": "code",
   "execution_count": 5,
   "id": "9446f7e3-0356-4884-a18d-d1764d2ab47a",
   "metadata": {},
   "outputs": [],
   "source": [
    "titles=['Aliphatic Index', 'Boman Index', 'Charge pH 3', 'Charge pH 7', 'Charge pH 11', 'Hydrophobicity', 'Instability Index', 'Isoelectric Point', 'Molecular Weight']"
   ]
  },
  {
   "cell_type": "code",
   "execution_count": 8,
   "id": "7c4f36a9-af20-40a1-ac65-ea6bdd3da932",
   "metadata": {},
   "outputs": [],
   "source": [
    "class SVRonPhysicoChemicalProps():\n",
    "    def __init__(self, svr_C=1.0, svr_epsilon=0.1):\n",
    "        \n",
    "        self.svr_C = svr_C\n",
    "        self.svr_epsilon = svr_epsilon\n",
    "\n",
    "        self.scaler = StandardScaler()\n",
    "        self.svr = SVR(C=svr_C, epsilon=svr_epsilon)\n",
    "\n",
    "    def get_physico_chemical_props(self,sequences:list[str]|str):\n",
    "\n",
    "        if isinstance(sequences, str):\n",
    "            sequences = [sequences]\n",
    "\n",
    "        titles=[\n",
    "            'Aliphatic Index', 'Boman Index', \n",
    "            'Charge pH 3', 'Charge pH 7', 'Charge pH 11', \n",
    "            'Hydrophobicity', 'Instability Index', \n",
    "            'Isoelectric Point', 'Molecular Weight'\n",
    "        ]\n",
    "        physico_props = {\n",
    "            \"sequence\":[]\n",
    "        }\n",
    "        for title_ in titles:\n",
    "            physico_props[title_] = []\n",
    "            \n",
    "        for seq_ in sequences:\n",
    "            peptide_ = peptides.Peptide(seq_)\n",
    "            physico_props[\"sequence\"].append(seq_)\n",
    "            for title_ in titles:\n",
    "                if title_ == \"Aliphatic Index\":\n",
    "                    physico_props[title_].append(peptide_.aliphatic_index())\n",
    "                elif title_ == \"Boman Index\":\n",
    "                    physico_props[title_].append(peptide_.boman())\n",
    "                elif title_ == \"Charge pH 3\":\n",
    "                    physico_props[title_].append(peptide_.charge(pH=3))\n",
    "                elif title_ == 'Charge pH 7':\n",
    "                    physico_props[title_].append(peptide_.charge(pH=7))\n",
    "                elif title_ == \"Charge pH 11\":\n",
    "                    physico_props[title_].append(peptide_.charge(11))\n",
    "                elif title_ == \"Hydrophobicity\":\n",
    "                    physico_props[title_].append(peptide_.hydrophobicity())\n",
    "                elif title_ == \"Instability Index\":\n",
    "                    physico_props[title_].append(peptide_.instability_index())\n",
    "                elif title_ == \"Isoelectric Point\":\n",
    "                    physico_props[title_].append(peptide_.isoelectric_point())\n",
    "                elif title_ == \"Molecular Weight\":\n",
    "                    physico_props[title_].append(peptide_.molecular_weight())\n",
    "        \n",
    "        output = pd.DataFrame(data=physico_props)\n",
    "        return output[ output.columns[1:] ]\n",
    "\n",
    "    def fit(self, X, y, input_type=\"sequences\"):\n",
    "        \"\"\"\n",
    "        Arguments:\n",
    "        ----------\n",
    "            X: array, input values\n",
    "            y: array, target values\n",
    "            input_type: str, choices=[\"sequences\",\"physicochemical_properties\"]\n",
    "        \"\"\"\n",
    "        if input_type not in [\"sequences\", \"physicochemical_properties\"]:\n",
    "            raise ValueError(\"input_type must be one of ['sequences','physicochemical_properties']\")\n",
    "        \n",
    "        if input_type==\"sequences\":\n",
    "            physicochemical_props_ = self.get_physico_chemical_props(X)\n",
    "        else:\n",
    "            physicochemical_props_ = X\n",
    "\n",
    "        # standardize data\n",
    "        self.scaler.fit(physicochemical_props_)\n",
    "        physicochemical_props_ = self.scaler.transform(physicochemical_props_)\n",
    "\n",
    "        # fit svr model\n",
    "        self.svr.fit(physicochemical_props_, y)\n",
    "\n",
    "    def predict(self, sequences:list[str]|str):\n",
    "        \"\"\"\n",
    "        wrapper predict method to automatically get physicochemical properties given (a) new sequence(s)\n",
    "\n",
    "        Arguments:\n",
    "        ----------\n",
    "        sequences: str or list[str], sequences to predict off of\n",
    "\n",
    "        Returns:\n",
    "        --------\n",
    "        predicted values, \n",
    "        \"\"\"\n",
    "        if isinstance(sequences, str):\n",
    "            sequences = [sequences]\n",
    "        \n",
    "        physicochemical_props_ = self.get_physico_chemical_props(sequences)\n",
    "\n",
    "        # put through scaler\n",
    "        physicochemical_props_ = self.scaler.transform(physicochemical_props_)\n",
    "        \n",
    "        y_predicted = self.svr.predict(physicochemical_props_)\n",
    "        return y_predicted"
   ]
  },
  {
   "cell_type": "code",
   "execution_count": 9,
   "id": "b1644f8b-f90b-4df4-8ba4-f857e1c60800",
   "metadata": {},
   "outputs": [],
   "source": [
    "# train_X = ecoli_train_physico_props[ecoli_train_physico_props.columns[1:]] # ignore col=='sequence'\n",
    "train_X = ecoli_train_no_c.sequence\n",
    "train_Y = ecoli_train_no_c.value\n",
    "\n",
    "# test_X = ecoli_test_physico_props[ecoli_test_physico_props.columns[1:]] # ignore col=='sequence'\n",
    "test_X = ecoli_validate_no_c.sequence\n",
    "test_Y = ecoli_validate_no_c.value"
   ]
  },
  {
   "cell_type": "code",
   "execution_count": 10,
   "id": "783e5f05-d31e-42ef-aa2b-0a311af1b5a2",
   "metadata": {},
   "outputs": [],
   "source": [
    "# train_X = ecoli_train_physico_props[ecoli_train_physico_props.columns[1:]] # ignore col=='sequence'\n",
    "train_X = ecoli_train_with_c.sequence\n",
    "train_Y = ecoli_train_with_c.value\n",
    "\n",
    "# test_X = ecoli_test_physico_props[ecoli_test_physico_props.columns[1:]] # ignore col=='sequence'\n",
    "test_X = ecoli_test.sequence\n",
    "test_Y = ecoli_test.value"
   ]
  },
  {
   "cell_type": "code",
   "execution_count": 11,
   "id": "228a58ed-5bb1-42d8-a464-8465bcc41ed3",
   "metadata": {},
   "outputs": [],
   "source": [
    "C_values = [0.01,0.1,0.5,1.0,1.5,2.0,2.5,3.0,3.5,4.0,4.5,5.0,10,15,20,25,50,75,100,1e3,1e4]"
   ]
  },
  {
   "cell_type": "code",
   "execution_count": 12,
   "id": "513d3b3a-58a6-4c4d-aa2e-e8436bc47714",
   "metadata": {},
   "outputs": [
    {
     "name": "stdout",
     "output_type": "stream",
     "text": [
      "len(X_train)=3240 | len(X_valid)=810 \n"
     ]
    }
   ],
   "source": [
    "X_train, X_valid, y_train, y_valid = train_test_split(train_X, \n",
    "                                                      train_Y, \n",
    "                                                      test_size=0.2,\n",
    "                                                      random_state=42, \n",
    "                                                      shuffle=True\n",
    ")\n",
    "\n",
    "print(f\"{len(X_train)=} | {len(X_valid)=} \")"
   ]
  },
  {
   "cell_type": "code",
   "execution_count": 13,
   "id": "75d5f86c-605f-4129-95fd-049e900f1053",
   "metadata": {},
   "outputs": [],
   "source": [
    "N_SPLITS = 5\n",
    "kf = KFold(n_splits=N_SPLITS, shuffle=True, random_state=42)"
   ]
  },
  {
   "cell_type": "code",
   "execution_count": 14,
   "id": "9c1561de-68b4-4310-996d-1a41727ee18c",
   "metadata": {},
   "outputs": [
    {
     "name": "stdout",
     "output_type": "stream",
     "text": [
      "i=0\n",
      "c_=0.01, avg_train_mse=0.47473864605873795, avg_test_mse=0.47962084528075033\n",
      "i=1\n",
      "c_=0.1, avg_train_mse=0.4228978214577788, avg_test_mse=0.4392925066313168\n",
      "i=2\n",
      "c_=0.5, avg_train_mse=0.380225683644596, avg_test_mse=0.4131430627831881\n",
      "i=3\n",
      "c_=1.0, avg_train_mse=0.36326752502857784, avg_test_mse=0.40703667016486894\n",
      "i=4\n",
      "c_=1.5, avg_train_mse=0.353757836591585, avg_test_mse=0.40557255078051513\n",
      "i=5\n",
      "c_=2.0, avg_train_mse=0.34750089007764623, avg_test_mse=0.4047257916483623\n",
      "i=6\n",
      "c_=2.5, avg_train_mse=0.34278723173329717, avg_test_mse=0.40432221314044836\n",
      "i=7\n",
      "c_=3.0, avg_train_mse=0.33896086636570233, avg_test_mse=0.4045545216306802\n",
      "i=8\n",
      "c_=3.5, avg_train_mse=0.3358360350349702, avg_test_mse=0.40515221352023156\n",
      "i=9\n",
      "c_=4.0, avg_train_mse=0.33313083172784375, avg_test_mse=0.40539743516173116\n",
      "i=10\n",
      "c_=4.5, avg_train_mse=0.33071674056094447, avg_test_mse=0.4058710053590434\n",
      "i=11\n",
      "c_=5.0, avg_train_mse=0.3284290537204938, avg_test_mse=0.4059588405365241\n",
      "i=12\n",
      "c_=10, avg_train_mse=0.3133380469993349, avg_test_mse=0.4120865337516692\n",
      "i=13\n",
      "c_=15, avg_train_mse=0.30426516137610154, avg_test_mse=0.4196471489809014\n",
      "i=14\n",
      "c_=20, avg_train_mse=0.2978785206172565, avg_test_mse=0.4256364670254739\n",
      "i=15\n",
      "c_=25, avg_train_mse=0.29275509854923426, avg_test_mse=0.4312181399308657\n",
      "i=16\n",
      "c_=50, avg_train_mse=0.2759779522686824, avg_test_mse=0.4515719945006017\n",
      "i=17\n",
      "c_=75, avg_train_mse=0.2661125071308571, avg_test_mse=0.46887231426975956\n",
      "i=18\n",
      "c_=100, avg_train_mse=0.25885470133189414, avg_test_mse=0.4828106700062869\n",
      "i=19\n",
      "c_=1000.0, avg_train_mse=0.19668384615367324, avg_test_mse=0.7767720320758084\n",
      "i=20\n",
      "c_=10000.0, avg_train_mse=0.14192312021106374, avg_test_mse=1.7927193613139583\n"
     ]
    }
   ],
   "source": [
    "results = {}\n",
    "\n",
    "for i, c_ in enumerate(C_values):\n",
    "    avg_test_mse  = 0\n",
    "    avg_train_mse = 0\n",
    "    print(f\"{i=}\")\n",
    "    for ii, (train_index, test_index) in enumerate(kf.split(train_X)):\n",
    "        x_train_ = train_X.iloc[train_index]\n",
    "        y_train_ = train_Y.iloc[train_index]\n",
    "        \n",
    "        x_test_  = train_X.iloc[ test_index]\n",
    "        y_test_  = train_Y.iloc[ test_index]\n",
    "        \n",
    "        svr = SVRonPhysicoChemicalProps(svr_C=c_)\n",
    "        \n",
    "        svr.fit(x_train_, y_train_)\n",
    "        train_mse_ = mean_squared_error(y_train_, svr.predict(x_train_))\n",
    "        test_mse_  = mean_squared_error( y_test_, svr.predict( x_test_))\n",
    "\n",
    "        avg_train_mse += train_mse_ \n",
    "        avg_test_mse  +=  test_mse_\n",
    "        \n",
    "    avg_train_mse = avg_train_mse/N_SPLITS\n",
    "    avg_test_mse  =  avg_test_mse/N_SPLITS\n",
    "    \n",
    "    print(f\"{c_=}, {avg_train_mse=}, {avg_test_mse=}\")"
   ]
  },
  {
   "cell_type": "code",
   "execution_count": 41,
   "id": "7f286dbb-a012-4cf6-ae28-c06acb8ecb24",
   "metadata": {},
   "outputs": [],
   "source": [
    "svr.fit(train_X, train_Y)"
   ]
  },
  {
   "cell_type": "code",
   "execution_count": 42,
   "id": "12fc3830-1844-40f2-8071-f0a4ac239ae3",
   "metadata": {},
   "outputs": [
    {
     "data": {
      "text/plain": [
       "array([0.57234479])"
      ]
     },
     "execution_count": 42,
     "metadata": {},
     "output_type": "execute_result"
    }
   ],
   "source": [
    "svr.predict(\"GKVWDWIKSAAKKIWSSEPVSQLKGQVLNAAKNYVAEKIGATPT\")"
   ]
  },
  {
   "cell_type": "code",
   "execution_count": 52,
   "id": "bc05ddf3-8273-4e28-84eb-b14f4e5fc058",
   "metadata": {},
   "outputs": [
    {
     "data": {
      "text/plain": [
       "array([0.18111109, 0.5156799 , 0.40233027, 1.12336439, 0.13583254])"
      ]
     },
     "execution_count": 52,
     "metadata": {},
     "output_type": "execute_result"
    }
   ],
   "source": [
    "svr.predict(test_X)[0:5]"
   ]
  },
  {
   "cell_type": "code",
   "execution_count": 44,
   "id": "3f47cb35-18b3-4d10-87fe-238b0c2ce443",
   "metadata": {},
   "outputs": [
    {
     "data": {
      "text/plain": [
       "(4050,)"
      ]
     },
     "execution_count": 44,
     "metadata": {},
     "output_type": "execute_result"
    }
   ],
   "source": [
    "train_X.shape"
   ]
  },
  {
   "cell_type": "code",
   "execution_count": 45,
   "id": "f8659879-1c46-4b38-a4ce-222f8fb40330",
   "metadata": {},
   "outputs": [
    {
     "data": {
      "text/plain": [
       "(509, 10)"
      ]
     },
     "execution_count": 45,
     "metadata": {},
     "output_type": "execute_result"
    }
   ],
   "source": [
    "ecoli_test.shape"
   ]
  },
  {
   "cell_type": "code",
   "execution_count": 46,
   "id": "e0d16be8-98b7-4655-aa13-0bad836dbfb7",
   "metadata": {},
   "outputs": [
    {
     "data": {
      "text/plain": [
       "(509,)"
      ]
     },
     "execution_count": 46,
     "metadata": {},
     "output_type": "execute_result"
    }
   ],
   "source": [
    "test_X.shape"
   ]
  },
  {
   "cell_type": "code",
   "execution_count": 47,
   "id": "2bbaf8f7-745f-4337-90b7-8d1165e8f76d",
   "metadata": {},
   "outputs": [
    {
     "name": "stdout",
     "output_type": "stream",
     "text": [
      "train_mse=0.36311391112632696, test_mse=0.3716201825484443\n"
     ]
    }
   ],
   "source": [
    "train_mse = mean_squared_error(train_Y, svr.predict(train_X))\n",
    "test_mse  = mean_squared_error( test_Y, svr.predict( test_X))\n",
    "print(f\"{train_mse=}, {test_mse=}\")"
   ]
  },
  {
   "cell_type": "markdown",
   "id": "d577d141-f5c5-48f1-9b4e-6871f46fdff4",
   "metadata": {},
   "source": [
    "### what are some baseline errors?"
   ]
  },
  {
   "cell_type": "markdown",
   "id": "8f704241-77e5-453c-a9ab-076eb18ef936",
   "metadata": {},
   "source": [
    "always predicting the average"
   ]
  },
  {
   "cell_type": "code",
   "execution_count": 58,
   "id": "2d4cbd81-c30c-4e07-9846-bce7dfbc371a",
   "metadata": {},
   "outputs": [],
   "source": [
    "class PredictMean():\n",
    "    def __init__(self):\n",
    "        self.mean = None\n",
    "        \n",
    "    def fit(self, X, y, input_type=\"sequences\"):\n",
    "\n",
    "        self.mean = y.mean()\n",
    "\n",
    "    def predict(self, X):\n",
    "        return self.mean*np.ones_like(X)"
   ]
  },
  {
   "cell_type": "code",
   "execution_count": 59,
   "id": "3b1f43d2-9647-4459-9946-718af528c25b",
   "metadata": {},
   "outputs": [
    {
     "name": "stdout",
     "output_type": "stream",
     "text": [
      "0.5984786684010958 0.6123846394238136\n"
     ]
    }
   ],
   "source": [
    "mean_predictor = PredictMean()\n",
    "mean_predictor.fit(train_X, train_Y)\n",
    "print(\n",
    "    mean_squared_error(train_Y, mean_predictor.predict(train_X)),\n",
    "    mean_squared_error( test_Y, mean_predictor.predict( test_X))\n",
    ")"
   ]
  },
  {
   "cell_type": "markdown",
   "id": "71ee8eb6-8f76-4a1f-95b1-ec09d38343f5",
   "metadata": {},
   "source": [
    "multi-variable linear regression"
   ]
  },
  {
   "cell_type": "code",
   "execution_count": 53,
   "id": "8da5d3bd-63f8-4835-9393-795387c7d1a2",
   "metadata": {},
   "outputs": [],
   "source": [
    "class LinearRegPhysico():\n",
    "    def __init__(self):\n",
    "        \n",
    "        self.scaler = StandardScaler()\n",
    "        self.reg = LinearRegression()\n",
    "\n",
    "    def get_physico_chemical_props(self,sequences:list[str]|str):\n",
    "\n",
    "        if isinstance(sequences, str):\n",
    "            sequences = [sequences]\n",
    "\n",
    "        titles=[\n",
    "            'Aliphatic Index', 'Boman Index', \n",
    "            'Charge pH 3', 'Charge pH 7', 'Charge pH 11', \n",
    "            'Hydrophobicity', 'Instability Index', \n",
    "            'Isoelectric Point', 'Molecular Weight'\n",
    "        ]\n",
    "        physico_props = {\n",
    "            \"sequence\":[]\n",
    "        }\n",
    "        for title_ in titles:\n",
    "            physico_props[title_] = []\n",
    "            \n",
    "        for seq_ in sequences:\n",
    "            peptide_ = peptides.Peptide(seq_)\n",
    "            physico_props[\"sequence\"].append(seq_)\n",
    "            for title_ in titles:\n",
    "                if title_ == \"Aliphatic Index\":\n",
    "                    physico_props[title_].append(peptide_.aliphatic_index())\n",
    "                elif title_ == \"Boman Index\":\n",
    "                    physico_props[title_].append(peptide_.boman())\n",
    "                elif title_ == \"Charge pH 3\":\n",
    "                    physico_props[title_].append(peptide_.charge(pH=3))\n",
    "                elif title_ == 'Charge pH 7':\n",
    "                    physico_props[title_].append(peptide_.charge(pH=7))\n",
    "                elif title_ == \"Charge pH 11\":\n",
    "                    physico_props[title_].append(peptide_.charge(11))\n",
    "                elif title_ == \"Hydrophobicity\":\n",
    "                    physico_props[title_].append(peptide_.hydrophobicity())\n",
    "                elif title_ == \"Instability Index\":\n",
    "                    physico_props[title_].append(peptide_.instability_index())\n",
    "                elif title_ == \"Isoelectric Point\":\n",
    "                    physico_props[title_].append(peptide_.isoelectric_point())\n",
    "                elif title_ == \"Molecular Weight\":\n",
    "                    physico_props[title_].append(peptide_.molecular_weight())\n",
    "        \n",
    "        output = pd.DataFrame(data=physico_props)\n",
    "        return output[ output.columns[1:] ]\n",
    "\n",
    "    def fit(self, X, y, input_type=\"sequences\"):\n",
    "        \"\"\"\n",
    "        Arguments:\n",
    "        ----------\n",
    "            X: array, input values\n",
    "            y: array, target values\n",
    "            input_type: str, choices=[\"sequences\",\"physicochemical_properties\"]\n",
    "        \"\"\"\n",
    "        if input_type not in [\"sequences\", \"physicochemical_properties\"]:\n",
    "            raise ValueError(\"input_type must be one of ['sequences','physicochemical_properties']\")\n",
    "        \n",
    "        if input_type==\"sequences\":\n",
    "            physicochemical_props_ = self.get_physico_chemical_props(X)\n",
    "        else:\n",
    "            physicochemical_props_ = X\n",
    "\n",
    "        # standardize data\n",
    "        self.scaler.fit(physicochemical_props_)\n",
    "        physicochemical_props_ = self.scaler.transform(physicochemical_props_)\n",
    "\n",
    "        # fit linear regression model\n",
    "        self.reg.fit(physicochemical_props_, y)\n",
    "\n",
    "    def predict(self, sequences:list[str]|str):\n",
    "        \"\"\"\n",
    "        wrapper predict method to automatically get physicochemical properties given (a) new sequence(s)\n",
    "\n",
    "        Arguments:\n",
    "        ----------\n",
    "        sequences: str or list[str], sequences to predict off of\n",
    "\n",
    "        Returns:\n",
    "        --------\n",
    "        predicted values, \n",
    "        \"\"\"\n",
    "        if isinstance(sequences, str):\n",
    "            sequences = [sequences]\n",
    "        \n",
    "        physicochemical_props_ = self.get_physico_chemical_props(sequences)\n",
    "\n",
    "        # put through scaler\n",
    "        physicochemical_props_ = self.scaler.transform(physicochemical_props_)\n",
    "        \n",
    "        y_predicted = self.reg.predict(physicochemical_props_)\n",
    "        return y_predicted"
   ]
  },
  {
   "cell_type": "code",
   "execution_count": 54,
   "id": "f875b7bf-4340-4594-8b40-44c31d11d538",
   "metadata": {},
   "outputs": [],
   "source": [
    "linear_regression = LinearRegPhysico()"
   ]
  },
  {
   "cell_type": "code",
   "execution_count": 55,
   "id": "a936613b-90f2-4f22-9ca4-9f289a101faa",
   "metadata": {},
   "outputs": [],
   "source": [
    "linear_regression.fit(train_X, train_Y)"
   ]
  },
  {
   "cell_type": "code",
   "execution_count": 61,
   "id": "6821e0db-ed48-43de-bb85-de9186b7602a",
   "metadata": {},
   "outputs": [
    {
     "name": "stdout",
     "output_type": "stream",
     "text": [
      "using SVR..\n",
      "0.36311391112632696 0.3716201825484443\n"
     ]
    }
   ],
   "source": [
    "print('using SVR..')\n",
    "print(\n",
    "    mean_squared_error(train_Y, svr.predict(train_X)),\n",
    "    mean_squared_error( test_Y, svr.predict( test_X))\n",
    ")"
   ]
  },
  {
   "cell_type": "code",
   "execution_count": 56,
   "id": "155e6f36-fb46-488a-a247-b5ff39f48975",
   "metadata": {},
   "outputs": [
    {
     "name": "stdout",
     "output_type": "stream",
     "text": [
      "using linear regression..\n",
      "train_mse=0.46687513744798514, test_mse=0.44147638488603846\n"
     ]
    }
   ],
   "source": [
    "train_mse = mean_squared_error(train_Y, linear_regression.predict(train_X))\n",
    "test_mse  = mean_squared_error( test_Y, linear_regression.predict( test_X))\n",
    "print(\"using linear regression..\")\n",
    "print(f\"{train_mse=}, {test_mse=}\")"
   ]
  },
  {
   "cell_type": "code",
   "execution_count": 60,
   "id": "7c3b9f0a-d6f9-4cc0-a6ab-3ea3e299723a",
   "metadata": {},
   "outputs": [
    {
     "name": "stdout",
     "output_type": "stream",
     "text": [
      "using mean...\n",
      "0.5984786684010958 0.6123846394238136\n"
     ]
    }
   ],
   "source": [
    "print(\"using mean...\")\n",
    "print(\n",
    "    mean_squared_error(train_Y, mean_predictor.predict(train_X)),\n",
    "    mean_squared_error( test_Y, mean_predictor.predict( test_X))\n",
    ")"
   ]
  },
  {
   "cell_type": "code",
   "execution_count": null,
   "id": "5c3bfbd3-7133-4cd1-a1ea-ac89e777ec33",
   "metadata": {},
   "outputs": [],
   "source": []
  }
 ],
 "metadata": {
  "kernelspec": {
   "display_name": "Python 3 (ipykernel)",
   "language": "python",
   "name": "python3"
  },
  "language_info": {
   "codemirror_mode": {
    "name": "ipython",
    "version": 3
   },
   "file_extension": ".py",
   "mimetype": "text/x-python",
   "name": "python",
   "nbconvert_exporter": "python",
   "pygments_lexer": "ipython3",
   "version": "3.10.12"
  }
 },
 "nbformat": 4,
 "nbformat_minor": 5
}
