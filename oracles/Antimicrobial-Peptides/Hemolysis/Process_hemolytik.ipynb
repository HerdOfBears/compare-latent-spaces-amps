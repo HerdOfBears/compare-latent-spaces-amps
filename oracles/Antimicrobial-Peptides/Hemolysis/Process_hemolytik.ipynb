{
 "cells": [
  {
   "cell_type": "code",
   "execution_count": 802,
   "metadata": {
    "collapsed": false,
    "jupyter": {
     "outputs_hidden": false
    }
   },
   "outputs": [],
   "source": [
    "# Preliminary stuff\n",
    "import pandas as pd\n",
    "import os\n",
    "import ast\n",
    "import numpy as np\n",
    "import math\n",
    "import random\n",
    "from copy import deepcopy\n",
    "%matplotlib inline\n",
    "from Bio.SeqUtils.ProtParam import ProteinAnalysis\n",
    "from sklearn.linear_model import LinearRegression\n",
    "from sklearn.model_selection import cross_val_score\n",
    "pd.options.display.max_colwidth = 100\n",
    "pd.options.display.float_format = '{:.2f}'.format\n",
    "import matplotlib.pyplot as plt\n",
    "import pickle\n",
    "from Bio import pairwise2\n",
    "from Bio.SubsMat import MatrixInfo as matlist\n",
    "import seaborn as sns\n",
    "from scipy.stats import spearmanr\n",
    "from scipy.optimize import curve_fit"
   ]
  },
  {
   "cell_type": "code",
   "execution_count": 803,
   "metadata": {
    "collapsed": true,
    "jupyter": {
     "outputs_hidden": true
    }
   },
   "outputs": [],
   "source": [
    "CHARACTER_DICT = set([u'A', u'C', u'E', u'D', u'G', u'F', u'I', u'H', u'K', u'M', u'L', u'N', u'Q', u'P', u'S', u'R', u'T', u'W', u'V', u'Y'])\n",
    "MAX_SEQUENCE_LENGTH=46\n",
    "MAX_MIC = 4\n",
    "FONT_TO_USE = 'Arial'"
   ]
  },
  {
   "cell_type": "code",
   "execution_count": 804,
   "metadata": {
    "collapsed": true,
    "jupyter": {
     "outputs_hidden": true
    }
   },
   "outputs": [],
   "source": [
    "fname = 'Hemolysis/Hemolytik_data.csv'\n",
    "hemolysis_df = pd.read_csv(fname)"
   ]
  },
  {
   "cell_type": "code",
   "execution_count": 805,
   "metadata": {
    "collapsed": false,
    "jupyter": {
     "outputs_hidden": false
    }
   },
   "outputs": [
    {
     "data": {
      "text/plain": [
       "Index([u'ID', u'PMID', u'Year', u'Sequence', u'Name', u'C-ter MOD',\n",
       "       u'N-ter MOD', u'Linear Cyclic', u'Stereochemistry', u'Modified',\n",
       "       u'Length', u'Function', u'Activity', u'Source', u'DSSP'],\n",
       "      dtype='object')"
      ]
     },
     "execution_count": 805,
     "metadata": {},
     "output_type": "execute_result"
    }
   ],
   "source": [
    "hemolysis_df.columns"
   ]
  },
  {
   "cell_type": "code",
   "execution_count": 806,
   "metadata": {
    "collapsed": false,
    "jupyter": {
     "outputs_hidden": false
    }
   },
   "outputs": [
    {
     "name": "stdout",
     "output_type": "stream",
     "text": [
      "set(['Linear'])\n",
      "set(['K*: Acetylated Lysin', '*=palmitate(PAL)', 'Nala', 'Spacer = 8-amino-3,6-dioxaoctanoic acid', 'Tic= tetrahydroisoquinolinecarboxylic acid, Oic= octahydroindolecarboxylic acid', '*=_-GalNAc', 'Acm=acetamidomethyl', 'Modified somehow??? -JW', 'Met (O)= methionine sulfoxide', 'Spacer = 8-amino-octanoic acid', 'Tic= tetrahydroisoquinolinecarboxylic acid, Oic= octahydroindolecarboxylic acid, GABA= _-aminobutyric acid', 'Tic= tetrahydroisoquinolinecarboxylic acid', 'Aib (_-aminoisobutyric acid)', 'O= Orinithine', '_F = _, _-dehydrophenylalanine (_Phe)', 'l, lauric acid', 'X: Pcm arg', 'X; Nle', 'Met (O2)=methionine sulfone', 'Z= pyroglutamic acid', 'Abu 2 =aminobutyric acid', 'l, lauric acid; alK, aminolauryl-lysine', 'Tic- tetrahydroisoquinolinecarboxylic acid, Oic- octahydroindolecarboxylic acid, _Ala- _-alanine', 'Nle= norleucine', \"Modified somehow??? There's an X -JW\", 'Nle= norleucine, Met (O)= methionine sulfoxide', 'Tic= tetrahydroisoquinolinecarboxylic acid, Oic= octahydroindolecarboxylic acid, Ahx= 6-aminohexanoic acid', 'D*=_-aspartic acid', 'None', 'a, amino; l, lauric acid', 'Nleu', 'Nlys', 'p*=amino-functionalized D-proline', '_F=_,_-didehydrophenylalanine', 'X: Pcm arg; K*: Acetylated Lysin', 'W*=6-bromotryptophan,R**=dihydroxyarginine, Y* = 3,4-dihydroxyphenylalanine,K* = 5-hydroxylysine, K**= dihydroxylysine', 'Tic= tetrahydroisoquinolinecarboxylic acid, Oic= octahydroindolecarboxylic acid, _Ala- _-alanine', 'a, amino; l, lauric acid; alK, aminolauryl-lysine', 'Nle =norleucine', 'Cystein is protected by Acm', 'O=Ornithine', 'Something! (JW)', 'Aib= _-aminoisobutyric acid, Nle= norleucine, Orn= ornithine', 'Chg: cyclohexylglycine', 'CF3-Bpg ie [3-(trifluoromethyl)-bicyclopent-[1.1.1]-1-ylglycine]', 'Tic- tetrahydroisoquinolinecarboxylic acid, Oic- octahydroindolecarboxylic acid', '_-But= 2,3-dehydro-2-aminobutyric acid; Hse= L-homoserine; dab= D-2,4-diaminobutyric acid', 'a=Nala (Ala-peptoid)', 'Aca 1 =aminocyclohexane carboxylic acid', 'Ornithine', 'Oic= octahydroindolecarboxylic acid', 'Nphe', 'Nle', 'Acm= acetamidomethyl', 'X=H', 'Tic= tetrahydroisoquinolinecarboxylic acid, Oic= octahydroindolecarboxylic acid, GABA= _-aminobutyric acid,', 'Aib = _- methylalanine'])\n",
      "set(['Lac=p-amidophenyl-_-D-lactopyranoside', 'NH(CH2)2NH2', 'Dansylation', 'OH', 'Free', '[NH(CH2)2NH2]2', 'Pheol', 'Lol (leucinol)', 'Amidation', 'Methoxy (OMe)'])\n",
      "set(['H2N-CH2-CO-P', 'HPPA= 3-(4-hydroxyphenyl) propionic acid', 'H2N-(CH2)3-CO-P', 'Dansylation', 'X=H, NBD, Rhodamine', '_-hydroxyoctanoyl-_-But', 'palmitate(pal)', 'Palmitoylation', 'Benzoylation', 'H2N-(CH2)11-CO-P', 'Free', 'Hydroxy cinnamic acid (pHCA)', 'H2N-(CH2)6-CO-P', 'Biotin', 'Acetylation (CH3(CH2)6CO)', 'Lac=p-amidophenyl-_-D-lactopyranoside and Suc=Succinyl', 'Acetylation', 'CIN= Cinnamic acid', 'Fmoc', 'pHCA= Hydroxy cinnamic acid', 'Acetylated by n-octanoyl', 'Formylation', 'Acetylation (CH3(CH2)4CO)', 'H2N-C((CH2)4-NH2)H-CO-P', 'Conjugated with lauric acid', 'Tosylation'])\n",
      "set(['Mix', 'L', 'D'])\n"
     ]
    }
   ],
   "source": [
    "print set(hemolysis_df['Linear Cyclic'])\n",
    "print set(hemolysis_df['Modified'])\n",
    "print set(hemolysis_df['C-ter MOD'])\n",
    "print set(hemolysis_df['N-ter MOD'])\n",
    "print set(hemolysis_df['Stereochemistry'])"
   ]
  },
  {
   "cell_type": "code",
   "execution_count": 807,
   "metadata": {
    "collapsed": false,
    "jupyter": {
     "outputs_hidden": false
    }
   },
   "outputs": [],
   "source": [
    "hemolysis_df = hemolysis_df.loc[hemolysis_df['N-ter MOD']=='Free'].reset_index(drop=True)\n",
    "hemolysis_df = hemolysis_df[hemolysis_df['Modified']=='None'].reset_index(drop=True)\n",
    "for cterm_mod in set(hemolysis_df['C-ter MOD']):\n",
    "    if cterm_mod != 'Free' and cterm_mod != 'Amidation':\n",
    "        hemolysis_df = hemolysis_df[hemolysis_df['C-ter MOD'] != cterm_mod].reset_index(drop=True)\n",
    "acceptable_animals = ['Sheep','Horse','Rabbit','Guinea-pig','Dog','Bovine','Rat','Human','Porcine','Pig','Mouse']\n",
    "for animal in set(hemolysis_df['Source']):\n",
    "    if animal not in acceptable_animals:\n",
    "        hemolysis_df = hemolysis_df[hemolysis_df['Source'] != animal].reset_index(drop=True)\n",
    "hemolysis_df = hemolysis_df[hemolysis_df['Linear Cyclic']=='Linear']"
   ]
  },
  {
   "cell_type": "code",
   "execution_count": 808,
   "metadata": {
    "collapsed": false,
    "jupyter": {
     "outputs_hidden": false
    }
   },
   "outputs": [
    {
     "name": "stdout",
     "output_type": "stream",
     "text": [
      "set(['Linear'])\n",
      "set(['None'])\n",
      "set(['Amidation', 'Free'])\n",
      "set(['Free'])\n",
      "set(['Sheep', 'Horse', 'Rabbit', 'Guinea-pig', 'Dog', 'Bovine', 'Rat', 'Human', 'Porcine', 'Pig', 'Mouse'])\n"
     ]
    }
   ],
   "source": [
    "print set(hemolysis_df['Linear Cyclic'])\n",
    "print set(hemolysis_df['Modified'])\n",
    "print set(hemolysis_df['C-ter MOD'])\n",
    "print set(hemolysis_df['N-ter MOD'])\n",
    "print set(hemolysis_df['Source'])"
   ]
  },
  {
   "cell_type": "code",
   "execution_count": 809,
   "metadata": {
    "collapsed": false,
    "jupyter": {
     "outputs_hidden": false
    }
   },
   "outputs": [],
   "source": [
    "def str_to_float_with_scientific(string):\n",
    "    try:\n",
    "        return float(string)\n",
    "    except:\n",
    "        if 'x10' in string:\n",
    "            before = float(string[0:string.index('x10')])\n",
    "            if 'g' in string:\n",
    "                after = float(string[string.index('x10')+3:string.index('g')])\n",
    "            else:\n",
    "                after = float(string[string.index('x10')+3:])\n",
    "            return before*np.power(10,after)\n",
    "        else:\n",
    "            return \n",
    "\n",
    "# Returns: percent hemolysis, concentration, units, hemolysis greater than/less than/equal, concentration greater than/less than/equal\n",
    "# For MHC (\"minimun hemolytic concentration\"): https://www.ncbi.nlm.nih.gov/pmc/articles/PMC1855469/\n",
    "# The hemolytic activity was determined as the maximal peptide concentration that caused no hemolysis of erythrocytes after 18 h. The control for no release of hemoglobin was a sample of 1% erythrocytes without any peptide added. Since erythrocytes were in an isotonic medium, no detectable release (<1% of that released upon complete hemolysis) of hemoglobin was observed from this control during the course of the assay.\n",
    "# So I called it 1% hemolysis at the MHC, pretty arbitrarily\n",
    "# However! \"The minimal hemolytic concentration (MHC) value was determined as the lowest peptide concentration that produces 5% or more hemolysis (Chen et al., 2002; Dathe et al., 2002; Zhu et al., 2007)\"\n",
    "# in https://www.ncbi.nlm.nih.gov/pmc/articles/PMC3906872/\n",
    "# So as a compromise I just went for 3%\n",
    "\n",
    "def parse_activity(activity,mhc_percent_hemolysis=3.0):\n",
    "    hemo_gle = 'ERROR'\n",
    "    conc_gle = 'ERROR'\n",
    "    percent_hemolysis = 'ERROR'\n",
    "    conc = 'ERROR'\n",
    "    units = 'ERROR'\n",
    "    if activity=='<20% hemolysis at 2.15 to 215microM':\n",
    "        return 'ERROR','ERROR','ERROR','ERROR','ERROR'\n",
    "    if 'Non hemolytic' in activity or 'non-hemolytic' in activity or 'Non-hemolytic' in activity or 'non hemolytic' in activity or 'Not detected hemolysis' in activity or 'Non hemolysis' in activity or 'Low hemolytic activity' in activity or 'No hemolysis' in activity:\n",
    "        if 'up to' not in activity:\n",
    "            return 'non','non','non','non','non'\n",
    "    if 'EC50' in activity or 'IC50' in activity or 'HC10' in activity or 'HL50' in activity or 'HC50' in activity or 'LC50' in activity or 'HD50' in activity or 'LD50' in activity or 'EC25' in activity or 'MHC' in activity:\n",
    "        hemo_gle = 'Equal'\n",
    "        if 'EC25' in activity:\n",
    "            percent_hemolysis = 25\n",
    "        if 'HC10' in activity:\n",
    "            percent_hemolysis = 10\n",
    "        elif 'MHC' in activity:\n",
    "            percent_hemolysis = mhc_percent_hemolysis\n",
    "        else:\n",
    "            percent_hemolysis = 50\n",
    "        if '=' in activity:\n",
    "            conc_gle = 'Equal'\n",
    "            start_parse = activity.index('=')+1\n",
    "            if '+' in activity:\n",
    "                end_parse = activity.index('+')\n",
    "            else:\n",
    "                if 'm' in activity[start_parse:]:\n",
    "                    end_parse = activity.index('m')\n",
    "                elif 'M' in activity[start_parse:]:\n",
    "                    end_parse = activity.index('M')\n",
    "            if '-' in activity[start_parse:end_parse] and 'x' not in activity[start_parse:end_parse]:\n",
    "                newstr = activity[start_parse:end_parse]\n",
    "                dash_ind = newstr.index('-')\n",
    "                lower = float(newstr[0:dash_ind])\n",
    "                upper = float(newstr[dash_ind+1:])\n",
    "                conc_gle = 'Equal'\n",
    "                conc = (lower+upper)/2\n",
    "            else:\n",
    "                to_convert = activity[start_parse:end_parse]\n",
    "                conc = str_to_float_with_scientific(to_convert)\n",
    "        if '~' in activity:\n",
    "            conc_gle = 'Equal'\n",
    "            start_parse = activity.index('~')+1\n",
    "            if '+' in activity:\n",
    "                end_parse = activity.index('+')\n",
    "            else:\n",
    "                if 'm' in activity[start_parse:]:\n",
    "                    end_parse = activity.index('m')\n",
    "                elif 'M' in activity[start_parse:]:\n",
    "                    end_parse = activity.index('M')\n",
    "            to_convert = activity[start_parse:end_parse]\n",
    "            conc = str_to_float_with_scientific(to_convert)\n",
    "        elif '>' in activity:\n",
    "            conc_gle = 'Greater'\n",
    "            start_parse = activity.rfind('>')+1\n",
    "            if '+' in activity:\n",
    "                end_parse = activity.index('+')\n",
    "            else:\n",
    "                end_parse = activity.index('m')\n",
    "            to_convert = activity[start_parse:end_parse]\n",
    "            conc = str_to_float_with_scientific(to_convert)\n",
    "        elif '<' in activity:\n",
    "            conc_gle = 'Less'\n",
    "            start_parse = activity.index('<')+1\n",
    "            if '+' in activity:\n",
    "                end_parse = activity.index('+')\n",
    "            else:\n",
    "                end_parse = activity.index('m')\n",
    "            to_convert = activity[start_parse:end_parse]\n",
    "            conc = str_to_float_with_scientific(to_convert)\n",
    "    if '%' in activity or 'fraction' in activity or 'Negligible' in activity or 'No hemolysis' in activity or 'little hemolysis' in activity or 'Little hemolysis' in activity or 'Low hemolytic activity' in activity or 'Non-hemolytic' in activity:\n",
    "        parse=True\n",
    "        if '+-' in activity:\n",
    "            end_hemo_parse = min(activity.index('%'),activity.index('+'))\n",
    "        elif '%' in activity:\n",
    "            end_hemo_parse = activity.index('%')\n",
    "        elif 'fraction' in activity:\n",
    "            end_hemo_parse = activity.index('fraction')\n",
    "        elif 'Negligible' in activity or 'No hemolysis' in activity or 'little hemolysis' in activity or 'Little hemolysis' in activity or 'Low hemolytic activity' in activity or 'Non-hemolytic' in activity:\n",
    "            percent_hemolysis = 0\n",
    "            hemo_gle = 'Equal'\n",
    "            parse = False\n",
    "        if parse:\n",
    "            try:\n",
    "                percent_hemolysis = float(activity[0:end_hemo_parse])\n",
    "                if 'fraction' in activity:\n",
    "                    percent_hemolysis = percent_hemolysis*100\n",
    "                hemo_gle = 'Equal'\n",
    "            except:\n",
    "                if '-' in activity[0:end_hemo_parse]:\n",
    "                    try:\n",
    "                        dash_ind = activity[0:end_hemo_parse].index('-')\n",
    "                        lower = float(activity[0:dash_ind])\n",
    "                        upper = float(activity[dash_ind+1])\n",
    "                        hemo_gle = 'Equal'\n",
    "                        percent_hemolysis = (lower+upper)/2\n",
    "                    except:\n",
    "                        dash_ind = activity[0:end_hemo_parse].index('-')\n",
    "                        lower = float(activity[1:dash_ind])\n",
    "                        upper = float(activity[dash_ind+1])\n",
    "                        hemo_gle = 'Equal'\n",
    "                        percent_hemolysis = (lower+upper)/2\n",
    "                        if activity[0]=='>':\n",
    "                            hemo_gle = 'Greater'\n",
    "                        elif activity[0]=='<':\n",
    "                            hemo_gle = 'Less'\n",
    "                        elif activity[0]=='~':\n",
    "                            hemo_gle = 'Equal'\n",
    "    #                     print 'Does this work: '+activity+',' + repr(percent_hemolysis)+','+repr(hemo_gle)\n",
    "                else:\n",
    "                    try:\n",
    "                        percent_hemolysis = float(activity[1:end_hemo_parse])\n",
    "                        if activity[0]=='>':\n",
    "                            hemo_gle = 'Greater'\n",
    "                        elif activity[0]=='<':\n",
    "                            hemo_gle = 'Less'\n",
    "                        elif activity[0]=='~':\n",
    "                            hemo_gle = 'Equal'\n",
    "                    except:\n",
    "                        return 'Per_hemo_parse_error: '+activity[0:end_hemo_parse],'ERROR','ERROR','ERROR','ERROR'\n",
    "        if 'at' in activity:\n",
    "            if '~' in activity[activity.index('at'):] and activity.index('~')>activity.index('at'):\n",
    "                start_parse = activity.index('~')+1\n",
    "            else:\n",
    "                start_parse = activity.index('at')+2\n",
    "        elif 'up to' in activity:\n",
    "            start_parse = activity.index('up to')+5\n",
    "        elif 'upto' in activity:\n",
    "            start_parse = activity.index('upto')+4\n",
    "        else:\n",
    "            try:\n",
    "                start_parse = activity.index('hemolysis')+len('hemolysis')\n",
    "            except:\n",
    "                print activity\n",
    "        if 'micro' in activity:\n",
    "            end_parse = activity.index('micro')\n",
    "        elif 'mM' in activity:\n",
    "            end_parse = activity.index('mM')\n",
    "        elif 'g/l' in activity:\n",
    "            end_parse = activity.index('g/l')\n",
    "        elif 'M' in activity:\n",
    "            end_parse = activity.index('M')\n",
    "        elif 'mg/' in activity:\n",
    "            end_parse = activity.index('mg/')\n",
    "        else:\n",
    "            print 'ERROR in end parse: '+activity\n",
    "        if '-' in activity[start_parse:end_parse]: #and hemo_gle == 'Less':\n",
    "            newstr = activity[start_parse:end_parse]\n",
    "            start_parse = newstr.index('-')+1+start_parse\n",
    "        if '>' in activity[start_parse:end_parse]:\n",
    "            newstr = activity[start_parse:end_parse]\n",
    "            start_parse = newstr.index('>')+1+start_parse\n",
    "        conc = str_to_float_with_scientific(activity[start_parse:end_parse])\n",
    "        conc_gle = 'Equal'\n",
    "    if 'microg/ml' in activity or 'microg/mL' in activity:\n",
    "        units = 'ug/ml'\n",
    "    elif 'microM' in activity:\n",
    "        units = 'uM'\n",
    "    elif 'mM' in activity:\n",
    "        units = 'mM'\n",
    "    elif 'g/l' in activity:\n",
    "        units = 'mg/ml'\n",
    "    elif 'mg/ml' in activity or 'mg/mL' in activity:\n",
    "        units = 'mg/ml'\n",
    "    elif 'g/ml' in activity:\n",
    "        units = 'g/ml'\n",
    "    elif activity.endswith('microg'):\n",
    "        units = 'ug/ml'\n",
    "    elif activity.endswith('M'):\n",
    "        units = 'M'\n",
    "    elif activity.endswith('mg/L'):\n",
    "        units = 'ug/ml'\n",
    "    return percent_hemolysis,hemo_gle,conc,conc_gle,units\n",
    "        \n",
    "# Standardize units of MIC\n",
    "def standardize_to_uM(concentration, unit, sequence):\n",
    "    if unit == 'uM':\n",
    "        return concentration\n",
    "    elif unit == 'mM':\n",
    "        return concentration*1000\n",
    "    elif unit == 'M':\n",
    "        return concentration*1000000\n",
    "    elif unit == 'ug/ml' or unit == u'\\xb5g/ml' or unit == u'ug/ml)':\n",
    "        try:\n",
    "            molWt = ProteinAnalysis(sequence).molecular_weight()\n",
    "        except ValueError:\n",
    "            return None\n",
    "#         print concentration\n",
    "#         print sequence\n",
    "        return concentration * 1000/molWt\n",
    "    elif unit == 'mg/ml':\n",
    "        try:\n",
    "            molWt = ProteinAnalysis(sequence).molecular_weight()\n",
    "        except ValueError:\n",
    "            return None\n",
    "        return concentration * 1000000/molWt\n",
    "    elif unit == 'g/ml':\n",
    "        try:\n",
    "            molWt = ProteinAnalysis(sequence).molecular_weight()\n",
    "        except ValueError:\n",
    "            return None\n",
    "        return concentration * 1000000000/molWt\n",
    "    else:\n",
    "        # print 'Unit not recognized: ' + unit\n",
    "        return None"
   ]
  },
  {
   "cell_type": "code",
   "execution_count": 811,
   "metadata": {
    "collapsed": false,
    "jupyter": {
     "outputs_hidden": false
    }
   },
   "outputs": [
    {
     "name": "stdout",
     "output_type": "stream",
     "text": [
      "(50, 'Equal', 40.0, 'Equal', 'uM')\n",
      "(50, 'Equal', 5.0, 'Equal', 'uM')\n",
      "(10.2, 'Equal', 200.0, 'Equal', 'ug/ml')\n",
      "(7.62, 'Equal', 100.0, 'Equal', 'ug/ml')\n",
      "(10.0, 'Less', 100.0, 'Equal', 'uM')\n",
      "(3.0, 'Equal', 62.5, 'Equal', 'ug/ml')\n",
      "(1.5, 'Equal', 80.0, 'Equal', 'ug/ml')\n",
      "(20.0, 'Equal', 5.0, 'Equal', 'uM')\n",
      "(0, 'Equal', 800.0, 'Equal', 'uM')\n",
      "(0, 'Equal', 250.0, 'Equal', 'uM')\n",
      "(50, 'Equal', 0.6, 'Equal', 'uM')\n",
      "(1.0, 'Less', 100.0, 'Equal', 'ug/ml')\n",
      "(1.75, 'Equal', 100.0, 'Equal', 'ug/ml')\n",
      "(50.0, 'Equal', 18.0, 'Equal', 'ug/ml')\n",
      "(50, 'Equal', 10.5, 'Equal', 'ug/ml')\n",
      "(1.2, 'Equal', 200.0, 'Equal', 'ug/ml')\n",
      "(100.0, 'Equal', 25.0, 'Equal', 'uM')\n",
      "(50, 'Equal', 100.0, 'Greater', 'uM')\n",
      "(1.4, 'Equal', 100.0, 'Equal', 'ug/ml')\n",
      "(90.0, 'Equal', 20.0, 'Equal', 'uM')\n"
     ]
    }
   ],
   "source": [
    "print parse_activity('LC50 =40microM')\n",
    "print parse_activity('LC50 =5 +- 1microM')\n",
    "print parse_activity('10.2% hemolysis up to 200microg/ml')\n",
    "print parse_activity('7.62 +- 1.60% hemolysis at 100microg/ml')\n",
    "print parse_activity('<10% hemolysis at 100microM')\n",
    "print parse_activity('MHC =62.5microg/ml')\n",
    "print parse_activity('0-3% hemolysis upto 80microg/ml')\n",
    "print parse_activity('0.2 fractions hemolysis at 5.0microM')\n",
    "print parse_activity('No or little hemolysis upto 800microM')\n",
    "print parse_activity('Non-hemolytic up to 250microM')\n",
    "print parse_activity('HC50=0.6 +- 0.1microMol/L')\n",
    "print parse_activity('<1% hemolysis at 3-100microg/ml')\n",
    "print parse_activity('1.5-2.3% hemolysis at 3-100microg/ml')\n",
    "print parse_activity('50% hemolysis at >18microg/ml')\n",
    "print parse_activity('EC50 =7-14microg/ml')\n",
    "print parse_activity('1.2% hemolysis at 200microg/ml')\n",
    "print parse_activity('100% hemolysis at ~25microM')\n",
    "print parse_activity('IC50>>100microM')\n",
    "print parse_activity('~1.4% hemolytic at 100microg/ml')\n",
    "print parse_activity('~90% hemolysis at 20microM')"
   ]
  },
  {
   "cell_type": "code",
   "execution_count": 812,
   "metadata": {
    "collapsed": false,
    "jupyter": {
     "outputs_hidden": false
    }
   },
   "outputs": [],
   "source": [
    "wrong=0\n",
    "right=0\n",
    "for i,activity in enumerate(hemolysis_df.Activity[0:]):\n",
    "#     print activity\n",
    "    a,b,c,d,e = parse_activity(activity)\n",
    "    if c==None or a==None or b==None or d==None:\n",
    "        print i\n",
    "        print activity\n",
    "        print repr(a)+','+repr(b)+','+repr(c)+','+repr(d)+','+repr(e)\n",
    "        wrong += 1\n",
    "    else:\n",
    "        right += 1"
   ]
  },
  {
   "cell_type": "code",
   "execution_count": 813,
   "metadata": {
    "collapsed": false,
    "jupyter": {
     "outputs_hidden": false
    }
   },
   "outputs": [
    {
     "name": "stdout",
     "output_type": "stream",
     "text": [
      "[61.91720048065085, 61.91720048065085, 61.91720048065085, 200.0, 200.0, 25.0, 50.0, 109935.83292787621, 0.78, 6.25, 5.0, 0.5, 0.5, 5.0, 0.5, 5.0, 15.0, 100.0, 50.0, 10.0, 60.0, 60.0, 10.0, 14.0, 14.0, 50.0, 50.0, 50.0, 200.0, 50.0, 50.0, 200.0, 50.0, 50.0, 200.0, 50.0, 50.0, 200.0, 50.0, 50.0, 200.0, 50.0, 50.0, 200.0, 50.0, 50.0, 200.0, 50.0, 50.0, 200.0, 50.0, 50.0, 43.46096151727431, 38.158989046271394, 33.19714343560308, 29.995422698496206, 12.5, 16.0, 32.0, 200.0, 200.0, 0.9146715746053623, 1.8264208758094296, 3.652841751618859, 0.9146715746053623, 1.8264208758094296, 1.25, 1.25, 1.25, 1.25, 1.25, 1.25, 1.25, 250.0, 250.0, 400.0, 400.0, 125.0, 200.0, 165.15891032940576, 107.45969052683722, 98.40358873951988, 200.0, 100.0, 421.0873712870786, 429.57483099586455, 319.5950092043363, 254.45053871154832, 128.7625731622905, 213.4839533785737, 12.5, 50.0, 12.5, 100.0, 100.0, 800.0, 800.0, 800.0, 800.0, 800.0, 32.0, 8.0, 8.0, 32.429401598088475, 38.49493627342941, 38.49493627342941, 38.49493627342941, 128.3164542447647, 128.3164542447647, 3.8879905686679983, 3.930803240381236, 4.013010179000318, 1.25, 5.0, 40.536751997610594, 6.205392227701555, 26.67648218936662, 25.71456732553303, 100.0, 8.049740959335928, 12.951492257986473, 1.0, 50.0, 40.24350864156911, 1000.0, 52.43575348630905, 368.35117278527093, 368.35117278527093, 1.9984873848681408, 3.9969747697362816, 399.80252953461223, 300.0, 37.6651239031916, 38.09596373264254, 25.0, 100.0, 40.0, 100.0, 47.539945677054874, 44.37303738055665, 56.49714003002597, 39.13466830296541, 400.0, 100.0, 6.25, 100.0, 1.5, 0.78, 100.0, 100.0]\n"
     ]
    }
   ],
   "source": [
    "# First pick what value to assign for 'non-hemolytic'\n",
    "sequence_dict = {}\n",
    "all_zeros = []\n",
    "for i,row in hemolysis_df.iterrows():\n",
    "    percent_hemolysis,hemo_gle,conc,conc_gle,units = parse_activity(row['Activity'])\n",
    "    if percent_hemolysis=='ERROR' or hemo_gle=='ERROR' or conc=='ERROR' or conc_gle=='ERROR' or units=='ERROR':\n",
    "        pass\n",
    "    elif percent_hemolysis=='non':\n",
    "        pass\n",
    "#         seq = row['Sequence']\n",
    "#         if seq not in sequence_dict:\n",
    "#             sequence_dict[seq]=[]\n",
    "#         sequence_dict[seq].append(['max'])\n",
    "    else:\n",
    "        seq = row['Sequence']\n",
    "        if seq not in sequence_dict:\n",
    "            sequence_dict[seq]=[]\n",
    "        conc_in_uM = standardize_to_uM(conc,units,seq)\n",
    "        if percent_hemolysis == 0:\n",
    "            all_zeros.append(conc_in_uM)\n",
    "            if conc_in_uM==None:\n",
    "                print repr(conc)+' is none??? Seq: '+seq+', units = '+units\n",
    "        if percent_hemolysis==None:\n",
    "            print repr(percent_hemolysis)+' is none??? Seq: '+seq+', units = '+units\n",
    "        sequence_dict[seq].append([percent_hemolysis,conc_in_uM,hemo_gle,conc_gle])\n",
    "print all_zeros"
   ]
  },
  {
   "cell_type": "code",
   "execution_count": 814,
   "metadata": {
    "collapsed": false,
    "jupyter": {
     "outputs_hidden": false
    }
   },
   "outputs": [
    {
     "name": "stdout",
     "output_type": "stream",
     "text": [
      "[52.430980774450674, 8.662200062172634, 16.289725851944056, 34.96580878671852, 34.965808786718526, 2.0, 25.0, 64.0, 200.0, 50.0, 50.0, 770.0, 770.0, 770.0, 770.0, 5000000.0, 5000000.0, 100.0, 100.0, 100.0, 100.0, 5.0, 20.0, 100.0, 41.10514976825739, 46.28297708400213, 3000000.0, 200.0, 139.27913160575676, 100.0, 19.596392696032513, 225.0, 50.0, 50.0, 50.0, 50.0, 50.0, 100.0, 1.0, 1.0, 5.0, 50.0, 50.0, 50.0, 50.0, 50.0, 50.0, 40.33964366379166, 100.0, 0.4, 40.0, 40.0, 100.0, 200.0, 48.0, 48.0, 32.0, 64.0, 120.0, 80.0, 80.0, 42.45885084140378, 10.0, 1.0, 10.0, 40.0, 100.0, 100.0, 100.0, 50.0, 25.0, 90.0, 20.0, 25.336382279795043, 30.0, 10.933996166759623, 10.0, 70.0, 70.0, 80.0, 1.0, 90.0, 58.24076206872351, 4.1226265854701625, 16.781870819566052, 28.47957467789474, 40.0, 175.0, 85.0, 63.0, 330.0, 365.0, 54.018927151695415, 61.207945481303945, 100.0, 25.0, 25.0]\n"
     ]
    }
   ],
   "source": [
    "# First pick what value to assign for 'non-hemolytic'\n",
    "sequence_dict = {}\n",
    "all_hundreds = []\n",
    "for i,row in hemolysis_df.iterrows():\n",
    "    percent_hemolysis,hemo_gle,conc,conc_gle,units = parse_activity(row['Activity'])\n",
    "    if percent_hemolysis=='ERROR' or hemo_gle=='ERROR' or conc=='ERROR' or conc_gle=='ERROR' or units=='ERROR':\n",
    "        pass\n",
    "    elif percent_hemolysis=='non':\n",
    "        pass\n",
    "#         seq = row['Sequence']\n",
    "#         if seq not in sequence_dict:\n",
    "#             sequence_dict[seq]=[]\n",
    "#         sequence_dict[seq].append(['max'])\n",
    "    else:\n",
    "        seq = row['Sequence']\n",
    "        if seq not in sequence_dict:\n",
    "            sequence_dict[seq]=[]\n",
    "        conc_in_uM = standardize_to_uM(conc,units,seq)\n",
    "        if percent_hemolysis == 100:\n",
    "            all_hundreds.append(conc_in_uM)\n",
    "            if conc_in_uM==None:\n",
    "                print repr(conc)+' is none??? Seq: '+seq+', units = '+units\n",
    "        sequence_dict[seq].append([percent_hemolysis,conc_in_uM,hemo_gle,conc_gle])\n",
    "print all_hundreds"
   ]
  },
  {
   "cell_type": "code",
   "execution_count": 815,
   "metadata": {
    "collapsed": false,
    "jupyter": {
     "outputs_hidden": false
    }
   },
   "outputs": [],
   "source": [
    "NON_HEMOLYTIC_VAL = 1000\n",
    "ALL_HEMOLYTIC_VAL = 1"
   ]
  },
  {
   "cell_type": "code",
   "execution_count": 816,
   "metadata": {
    "collapsed": false,
    "jupyter": {
     "outputs_hidden": false
    }
   },
   "outputs": [],
   "source": [
    "# Just sequence dict for fitting\n",
    "sequence_dict = {}\n",
    "all_zeros = []\n",
    "for i,row in hemolysis_df.iterrows():\n",
    "    percent_hemolysis,hemo_gle,conc,conc_gle,units = parse_activity(row['Activity'])\n",
    "    if percent_hemolysis=='ERROR' or hemo_gle=='ERROR' or conc=='ERROR' or conc_gle=='ERROR' or units=='ERROR':\n",
    "        pass\n",
    "    elif percent_hemolysis=='non':\n",
    "        seq = row['Sequence']\n",
    "        if seq not in sequence_dict:\n",
    "            sequence_dict[seq]=[]\n",
    "        sequence_dict[seq].append([0,NON_HEMOLYTIC_VAL,'Non','Non'])\n",
    "    else:\n",
    "        seq = row['Sequence']\n",
    "        if seq not in sequence_dict:\n",
    "            sequence_dict[seq]=[]\n",
    "        conc_in_uM = standardize_to_uM(conc,units,seq)\n",
    "        if percent_hemolysis == 0:\n",
    "            all_zeros.append(conc_in_uM)\n",
    "        if conc_in_uM==None:\n",
    "            print repr(conc)+' is none??? Seq: '+seq+', units = '+units\n",
    "        if row['Source']=='Human':\n",
    "            sequence_dict[seq].append([percent_hemolysis,conc_in_uM,hemo_gle,conc_gle])"
   ]
  },
  {
   "cell_type": "code",
   "execution_count": 817,
   "metadata": {
    "collapsed": false,
    "jupyter": {
     "outputs_hidden": false
    }
   },
   "outputs": [
    {
     "name": "stdout",
     "output_type": "stream",
     "text": [
      "[  1.16383723 147.83091644]\n"
     ]
    },
    {
     "data": {
      "image/png": "[encoded data removed]",
      "text/plain": [
       "<matplotlib.figure.Figure at 0x11243d2d0>"
      ]
     },
     "metadata": {},
     "output_type": "display_data"
    },
    {
     "name": "stdout",
     "output_type": "stream",
     "text": [
      "[  1.27881467 103.73841444]\n"
     ]
    },
    {
     "data": {
      "image/png": "[encoded data removed]",
      "text/plain": [
       "<matplotlib.figure.Figure at 0x1134df0d0>"
      ]
     },
     "metadata": {},
     "output_type": "display_data"
    },
    {
     "name": "stdout",
     "output_type": "stream",
     "text": [
      "[ 3.23022525 12.7794951 ]\n"
     ]
    },
    {
     "name": "stderr",
     "output_type": "stream",
     "text": [
      "/Users/jacobwitten/anaconda/lib/python2.7/site-packages/ipykernel/__main__.py:6: RuntimeWarning: invalid value encountered in power\n"
     ]
    },
    {
     "data": {
      "image/png": "[encoded data removed]",
      "text/plain": [
       "<matplotlib.figure.Figure at 0x11174c2d0>"
      ]
     },
     "metadata": {},
     "output_type": "display_data"
    },
    {
     "name": "stdout",
     "output_type": "stream",
     "text": [
      "[ 1.07084879 99.99629116]\n"
     ]
    },
    {
     "data": {
      "image/png": "[encoded data removed]",
      "text/plain": [
       "<matplotlib.figure.Figure at 0x108d03490>"
      ]
     },
     "metadata": {},
     "output_type": "display_data"
    },
    {
     "name": "stdout",
     "output_type": "stream",
     "text": [
      "[  1.45435411 105.84556799]\n"
     ]
    },
    {
     "data": {
      "image/png": "[encoded data removed]",
      "text/plain": [
       "<matplotlib.figure.Figure at 0x112493250>"
      ]
     },
     "metadata": {},
     "output_type": "display_data"
    },
    {
     "name": "stdout",
     "output_type": "stream",
     "text": [
      "[ 5.62595101 24.72077029]\n"
     ]
    },
    {
     "data": {
      "image/png": "[encoded data removed]",
      "text/plain": [
       "<matplotlib.figure.Figure at 0x111d52050>"
      ]
     },
     "metadata": {},
     "output_type": "display_data"
    },
    {
     "name": "stdout",
     "output_type": "stream",
     "text": [
      "[  2.6449569  129.20568307]\n"
     ]
    },
    {
     "data": {
      "image/png": "[encoded data removed]",
      "text/plain": [
       "<matplotlib.figure.Figure at 0x113dba8d0>"
      ]
     },
     "metadata": {},
     "output_type": "display_data"
    },
    {
     "name": "stdout",
     "output_type": "stream",
     "text": [
      "[ 0.95788981 15.4111158 ]\n"
     ]
    },
    {
     "data": {
      "image/png": "[encoded data removed]",
      "text/plain": [
       "<matplotlib.figure.Figure at 0x113a69a10>"
      ]
     },
     "metadata": {},
     "output_type": "display_data"
    },
    {
     "name": "stdout",
     "output_type": "stream",
     "text": [
      "[ 1.31508942 27.13965687]\n"
     ]
    },
    {
     "data": {
      "image/png": "[encoded data removed]",
      "text/plain": [
       "<matplotlib.figure.Figure at 0x1139c9850>"
      ]
     },
     "metadata": {},
     "output_type": "display_data"
    },
    {
     "name": "stdout",
     "output_type": "stream",
     "text": [
      "[ 1.4591001  90.20191697]\n"
     ]
    },
    {
     "data": {
      "image/png": "[encoded data removed]",
      "text/plain": [
       "<matplotlib.figure.Figure at 0x11263d490>"
      ]
     },
     "metadata": {},
     "output_type": "display_data"
    },
    {
     "name": "stdout",
     "output_type": "stream",
     "text": [
      "10\n"
     ]
    }
   ],
   "source": [
    "plots = []\n",
    "counter=0\n",
    "k_vals=[]\n",
    "n_vals=[]\n",
    "def hill_function(x,n,k):\n",
    "    return 100*np.power(x,n)/(np.power(k,n)+np.power(x,n))\n",
    "\n",
    "for key,val in sequence_dict.items():\n",
    "    if len(val)>=4:\n",
    "        hemo_vals = [row[0] for row in val if row[2]=='Equal' and row[3]=='Equal']\n",
    "        conc_vals = [row[1] for row in val if row[2]=='Equal' and row[3]=='Equal']\n",
    "        if len(hemo_vals)>=4 and max(hemo_vals)-min(hemo_vals)>20 and max(conc_vals)-min(conc_vals)>5:\n",
    "#             print key\n",
    "#             print hemo_vals\n",
    "#             print conc_vals\n",
    "            if spearmanr(hemo_vals,conc_vals)[0]==1:\n",
    "                counter+=1\n",
    "                fit,cov = curve_fit(hill_function,conc_vals,hemo_vals,p0=[2,40])\n",
    "                print fit\n",
    "                plt.plot(conc_vals,hemo_vals,'.')\n",
    "                conc_vals.sort()\n",
    "                plt.plot(range(int(max(conc_vals)*1.2)),hill_function(range(int(max(conc_vals)*1.2)),*fit))\n",
    "                plt.show()\n",
    "                k_vals.append(fit[1])\n",
    "                n_vals.append(fit[0])\n",
    "print counter"
   ]
  },
  {
   "cell_type": "code",
   "execution_count": 818,
   "metadata": {
    "collapsed": false,
    "jupyter": {
     "outputs_hidden": false
    }
   },
   "outputs": [
    {
     "data": {
      "text/plain": [
       "[<matplotlib.lines.Line2D at 0x1124c4050>]"
      ]
     },
     "execution_count": 818,
     "metadata": {},
     "output_type": "execute_result"
    },
    {
     "data": {
      "image/png": "[encoded data removed]",
      "text/plain": [
       "<matplotlib.figure.Figure at 0x1135a4450>"
      ]
     },
     "metadata": {},
     "output_type": "display_data"
    }
   ],
   "source": [
    "plt.plot(k_vals,n_vals,'.')"
   ]
  },
  {
   "cell_type": "code",
   "execution_count": 819,
   "metadata": {
    "collapsed": false,
    "jupyter": {
     "outputs_hidden": false
    }
   },
   "outputs": [
    {
     "name": "stdout",
     "output_type": "stream",
     "text": [
      "2.020106729484931\n",
      "1.3892767268071264\n"
     ]
    }
   ],
   "source": [
    "print np.mean(n_vals)\n",
    "print np.std(n_vals)"
   ]
  },
  {
   "cell_type": "code",
   "execution_count": 820,
   "metadata": {
    "collapsed": true,
    "jupyter": {
     "outputs_hidden": true
    }
   },
   "outputs": [],
   "source": [
    "n_for_conversion = np.mean(n_vals)\n",
    "std_of_n_for_conversion = np.std(n_vals)"
   ]
  },
  {
   "cell_type": "code",
   "execution_count": 821,
   "metadata": {
    "collapsed": true,
    "jupyter": {
     "outputs_hidden": true
    }
   },
   "outputs": [],
   "source": [
    "# Just sequence dict for fitting\n",
    "sequence_dict = {}\n",
    "all_zeros = []\n",
    "for i,row in hemolysis_df.iterrows():\n",
    "    percent_hemolysis,hemo_gle,conc,conc_gle,units = parse_activity(row['Activity'])\n",
    "    if percent_hemolysis=='ERROR' or hemo_gle=='ERROR' or conc=='ERROR' or conc_gle=='ERROR' or units=='ERROR':\n",
    "        pass\n",
    "    elif percent_hemolysis=='non':\n",
    "        seq = row['Sequence']\n",
    "        if seq not in sequence_dict:\n",
    "            sequence_dict[seq]=[]\n",
    "        sequence_dict[seq].append([0,NON_HEMOLYTIC_VAL,'Non','Non'])\n",
    "    else:\n",
    "        seq = row['Sequence']\n",
    "        if seq not in sequence_dict:\n",
    "            sequence_dict[seq]=[]\n",
    "        conc_in_uM = standardize_to_uM(conc,units,seq)\n",
    "        if percent_hemolysis == 0:\n",
    "            all_zeros.append(conc_in_uM)\n",
    "        if conc_in_uM==None:\n",
    "            print repr(conc)+' is none??? Seq: '+seq+', units = '+units\n",
    "#         if row['Source']=='Human':\n",
    "        sequence_dict[seq].append([percent_hemolysis,conc_in_uM,hemo_gle,conc_gle])"
   ]
  },
  {
   "cell_type": "code",
   "execution_count": 822,
   "metadata": {
    "collapsed": false,
    "jupyter": {
     "outputs_hidden": false
    }
   },
   "outputs": [
    {
     "name": "stderr",
     "output_type": "stream",
     "text": [
      "/Users/jacobwitten/anaconda/lib/python2.7/site-packages/ipykernel/__main__.py:6: RuntimeWarning: invalid value encountered in power\n",
      "/Users/jacobwitten/anaconda/lib/python2.7/site-packages/ipykernel/__main__.py:43: RuntimeWarning: divide by zero encountered in log\n"
     ]
    },
    {
     "name": "stdout",
     "output_type": "stream",
     "text": [
      "GLLCYCRKGHCKRGERVRGTCGIRFLYCCPRR\n",
      "[4.2, 4.1, 3.4, 3.0, 3.1]\n",
      "[0.0, 3.3231178917012887, 6.646235783402577, 13.292471566805155, 26.58494313361031]\n",
      "[3.1208943916831577, nan]\n",
      "c0 (all):1449\n",
      "c1 (success):1093\n",
      "c2 (success):215\n",
      "c3 (failure):19\n",
      "c4 (failure):22\n",
      "c5 (success):34\n",
      "c6 (unaddressed):0\n",
      "c7 (failure):29\n",
      "c8 (success):35\n",
      "c9 (failure):2\n",
      "Failures: 72\n",
      "successes: 1377\n",
      "Total: 1449\n",
      "1377\n"
     ]
    },
    {
     "name": "stderr",
     "output_type": "stream",
     "text": [
      "/Users/jacobwitten/anaconda/lib/python2.7/site-packages/ipykernel/__main__.py:44: RuntimeWarning: divide by zero encountered in log\n",
      "/Users/jacobwitten/anaconda/lib/python2.7/site-packages/ipykernel/__main__.py:45: RuntimeWarning: divide by zero encountered in log\n",
      "/Users/jacobwitten/anaconda/lib/python2.7/site-packages/ipykernel/__main__.py:16: RuntimeWarning: invalid value encountered in double_scalars\n"
     ]
    }
   ],
   "source": [
    "def combine_ranges(all_ranges):\n",
    "    avg = np.average([ran[0] for ran in all_ranges])\n",
    "    if avg<-10000000:\n",
    "        return [np.log((NON_HEMOLYTIC_VAL-ALL_HEMOLYTIC_VAL)/2),np.log((NON_HEMOLYTIC_VAL-ALL_HEMOLYTIC_VAL)/2)]\n",
    "    elif avg>np.log(NON_HEMOLYTIC_VAL):\n",
    "        return [np.log(NON_HEMOLYTIC_VAL),0]\n",
    "    elif avg < np.log(ALL_HEMOLYTIC_VAL):\n",
    "        return [np.log(ALL_HEMOLYTIC_VAL),0]\n",
    "    if np.average([ran[1] for ran in all_ranges])<-0.0001:\n",
    "        print 'WTFFFFFF: '+repr([ran[1] for ran in all_ranges])\n",
    "        print 'Returning: '+repr([np.average([ran[0] for ran in all_ranges]),np.average([ran[1] for ran in all_ranges])])\n",
    "    return [np.average([ran[0] for ran in all_ranges]),np.average([ran[1] for ran in all_ranges])]\n",
    "\n",
    "def range_to_val_and_uncertainty(ranges):\n",
    "    first_val = max(min(ranges[0],np.log(NON_HEMOLYTIC_VAL)),np.log(ALL_HEMOLYTIC_VAL))\n",
    "    return [first_val,float(ranges[2]-ranges[1])/2]\n",
    "\n",
    "def row_to_hc50_with_error(row):\n",
    "    if abs(row[0]-50)<0.01 and row[2]=='Equal' and row[3]=='Equal':\n",
    "        low_n_estimate = np.log(row[1])\n",
    "        high_n_estimate = np.log(row[1])\n",
    "        point_estimate = np.log(row[1])\n",
    "        low_estimate = min(low_n_estimate, high_n_estimate)\n",
    "        high_estimate = max(low_n_estimate,high_n_estimate)\n",
    "        return [point_estimate,low_estimate,high_estimate]\n",
    "    elif abs(row[0]-3)<0.01 and row[2]=='Equal' and row[3]=='Equal':\n",
    "        y = float(row[0])/100\n",
    "        x = row[1]\n",
    "#             print repr(x)+','+repr(np.log(x*np.power((1-y)/y,1/n_for_conversion)))+','+repr(np.log(x*np.power((1-y)/y,1/(n_for_conversion-1))))+','+repr(np.log(x*np.power((1-y)/y,1/(n_for_conversion+1))))\n",
    "#             print repr(np.log(x*np.power((1-.01)/.01,1/n_for_conversion)))\n",
    "        low_n_estimate = np.log(x*np.power((1-y)/y,1/n_low))\n",
    "        high_n_estimate = np.log(x*np.power((1-y)/y,1/n_high))\n",
    "        point_estimate = np.log(x*np.power((1-y)/y,1/n_estimate))\n",
    "        low_estimate = min(low_n_estimate, high_n_estimate)\n",
    "        high_estimate = max(low_n_estimate,high_n_estimate)\n",
    "        return [point_estimate,low_estimate,high_estimate]\n",
    "    elif row[0]>=0.1 and row[0]<=99.9 and row[2]=='Equal' and row[3]=='Equal':\n",
    "        y = float(row[0])/100\n",
    "        x = row[1]\n",
    "#             print x\n",
    "#             print y\n",
    "#             print x*np.power((1-y)/y,1/n_for_conversion)\n",
    "        low_n_estimate = np.log(x*np.power((1-y)/y,1/n_low))\n",
    "        high_n_estimate = np.log(x*np.power((1-y)/y,1/n_high))\n",
    "        point_estimate = np.log(x*np.power((1-y)/y,1/n_estimate))\n",
    "        low_estimate = min(low_n_estimate, high_n_estimate)\n",
    "        high_estimate = max(low_n_estimate,high_n_estimate)\n",
    "        return [point_estimate,low_estimate,high_estimate]\n",
    "    elif abs(row[0]-50)<0.001 and row[2]=='Greater' and row[3]=='Equal':\n",
    "        x = row[1]\n",
    "        max_y = 0.99\n",
    "        point_y = 0.75\n",
    "        high_estimate = np.log(x)\n",
    "        low_estimate = np.log(x*np.power((1-max_y)/max_y,1/n_low))\n",
    "        point_estimate = np.log(x*np.power((1-point_y)/point_y,1/n_estimate))\n",
    "        return [point_estimate,low_estimate,high_estimate]\n",
    "#             print key\n",
    "#             print row\n",
    "#             print repr([point_estimate,low_estimate,high_estimate])\n",
    "    elif (row[2]=='Equal' and row[3]=='Greater') or row[2]=='Non' or (row[0]<0.1 and row[1]):\n",
    "        return [np.log(NON_HEMOLYTIC_VAL),np.log(NON_HEMOLYTIC_VAL),np.log(NON_HEMOLYTIC_VAL)]\n",
    "    elif row[2]=='Less' and row[3]=='Equal':\n",
    "        max_y = float(row[0])/100\n",
    "        x = float(row[1])\n",
    "        low_estimate = np.log(x*np.power((1-max_y)/max_y,1/n_low))\n",
    "#             print key\n",
    "#             print row\n",
    "#             print repr(low_estimate) + 'vs. '+repr(np.log(NON_HEMOLYTIC_VAL))\n",
    "        if low_estimate>=np.log(NON_HEMOLYTIC_VAL):\n",
    "            return [np.log(NON_HEMOLYTIC_VAL),np.log(NON_HEMOLYTIC_VAL),np.log(NON_HEMOLYTIC_VAL)]\n",
    "    elif abs(row[0]-50)<0.01 and row[2]=='Equal' and row[3]=='Less' and row[1]<5.1:\n",
    "        return [np.log(ALL_HEMOLYTIC_VAL),np.log(ALL_HEMOLYTIC_VAL),np.log(ALL_HEMOLYTIC_VAL)]\n",
    "    elif row[0]>50.1 and row[2]=='Greater' and row[3]=='Equal':\n",
    "        x = float(row[1])\n",
    "        max_y = 0.99\n",
    "        min_y = float(row[0])/100\n",
    "        point_y = (1+float(row[0]/100))/2\n",
    "        high_estimate = np.log(x*np.power((1-min_y)/min_y,1/n_high))\n",
    "        low_estimate = np.log(x*np.power((1-max_y)/max_y,1/n_low))\n",
    "        point_estimate = np.log(x*np.power((1-point_y)/point_y,1/n_estimate))\n",
    "        return [point_estimate,low_estimate,high_estimate]\n",
    "    elif row[0]>99.9 and row[2]=='Equal' and row[3]=='Equal':\n",
    "        y=0.99\n",
    "        x=float(row[1])\n",
    "        high_estimate = max(np.log(ALL_HEMOLYTIC_VAL),np.log(x*np.power((1-y)/y,1/n_high)))\n",
    "        low_estimate = np.log(ALL_HEMOLYTIC_VAL)\n",
    "        point_estimate = np.average([high_estimate,low_estimate])\n",
    "#         print key\n",
    "#         print row\n",
    "#         print repr([point_estimate,low_estimate,high_estimate])\n",
    "        return [point_estimate,low_estimate,high_estimate]\n",
    "#         print key\n",
    "#         print row\n",
    "#         print repr([point_estimate,low_estimate,high_estimate])\n",
    "#     elif abs(row[0]-50)<48:\n",
    "#         pass\n",
    "#         print key\n",
    "#         print row\n",
    "    else:\n",
    "        pass\n",
    "#         print key\n",
    "#         print row\n",
    "\n",
    "sequence_log_hc50_dict={}\n",
    "c0=0\n",
    "c1=0\n",
    "c2=0\n",
    "c3=0\n",
    "c4=0\n",
    "c5=0\n",
    "c6=0\n",
    "c7=0\n",
    "c8=0\n",
    "c9=0\n",
    "c10=0\n",
    "lengths = []\n",
    "n_low = n_for_conversion - std_of_n_for_conversion\n",
    "n_estimate = n_for_conversion\n",
    "n_high = n_for_conversion + std_of_n_for_conversion\n",
    "for key,val in sequence_dict.items():\n",
    "    c0+=1\n",
    "    if len(val)==1:\n",
    "        row = val[0]\n",
    "        estimate_with_error = row_to_hc50_with_error(row)\n",
    "        if not estimate_with_error is None:\n",
    "            vals_with_uncertainty = range_to_val_and_uncertainty(estimate_with_error)\n",
    "            sequence_log_hc50_dict[key] = vals_with_uncertainty\n",
    "            c1+=1\n",
    "        else:\n",
    "            c3 +=1\n",
    "    elif len(val)>1 and len(val)<4:\n",
    "        all_ranges = []\n",
    "        for row in val:\n",
    "            if row[0]<99.9 and row[0]>0.1:\n",
    "                estimate_with_error = row_to_hc50_with_error(row)\n",
    "                if not estimate_with_error is None:\n",
    "                    vals_with_uncertainty = range_to_val_and_uncertainty(estimate_with_error)\n",
    "                    all_ranges.append(vals_with_uncertainty)\n",
    "        if len(all_ranges)>0:\n",
    "            sequence_log_hc50_dict[key] = combine_ranges(all_ranges)\n",
    "            c2 +=1\n",
    "        else:\n",
    "            c4 +=1\n",
    "    else:\n",
    "        hemo_vals = [row[0] for row in val if row[2]=='Equal' and row[3]=='Equal']\n",
    "        conc_vals = [row[1] for row in val if row[2]=='Equal' and row[3]=='Equal']\n",
    "        rows_in_case = [row for row in val if row[2]=='Equal' and row[3]=='Equal']\n",
    "        if len(hemo_vals)>=4 and max(hemo_vals)-min(hemo_vals)>3 and max(conc_vals)-min(conc_vals)>5:\n",
    "            try:\n",
    "                fit,cov = curve_fit(hill_function,conc_vals,hemo_vals,p0=[2,40])\n",
    "                if fit[1]>NON_HEMOLYTIC_VAL:\n",
    "                    to_set = [np.log(NON_HEMOLYTIC_VAL),0]\n",
    "                elif fit[1]<ALL_HEMOLYTIC_VAL:\n",
    "                    to_set = [np.log(ALL_HEMOLYTIC_VAL),0]\n",
    "                else:\n",
    "                    to_set = [np.log(fit[1]),cov[1][1]/fit[1]]\n",
    "                if to_set[1]<np.log(NON_HEMOLYTIC_VAL-ALL_HEMOLYTIC_VAL):   \n",
    "                    sequence_log_hc50_dict[key] = to_set\n",
    "#                     print key\n",
    "#     #                 print conc_vals\n",
    "#     #                 print hemo_vals\n",
    "#                     print to_set\n",
    "#                     print np.exp(to_set[0])\n",
    "#                     plt.plot(conc_vals,hemo_vals,'.')\n",
    "#                     conc_vals.sort()\n",
    "#                     plt.plot(range(int(max(conc_vals)*1.2)),hill_function(range(int(max(conc_vals)*1.2)),*fit))\n",
    "#                     plt.show()\n",
    "                    c5+=1\n",
    "                else:\n",
    "                    c7+=1\n",
    "            except:\n",
    "                c7+=1\n",
    "        elif len(rows_in_case)>0:\n",
    "            all_ranges = []\n",
    "            for row in rows_in_case:\n",
    "                if row[0]<99.9 and row[0]>0.1:\n",
    "                    estimate_with_error = row_to_hc50_with_error(row)\n",
    "                    if not estimate_with_error is None:\n",
    "                        vals_with_uncertainty = range_to_val_and_uncertainty(estimate_with_error)\n",
    "                        all_ranges.append(vals_with_uncertainty)\n",
    "            if len(all_ranges)>0:\n",
    "                if combine_ranges(all_ranges)[1]>-0.01:\n",
    "                    sequence_log_hc50_dict[key] = combine_ranges(all_ranges)\n",
    "                    c8 +=1\n",
    "                else:\n",
    "                    print key\n",
    "                    print hemo_vals\n",
    "                    print conc_vals\n",
    "                    print combine_ranges(all_ranges)\n",
    "                    c9+=1\n",
    "            else:\n",
    "                c9 +=1\n",
    "        else:\n",
    "#             print key\n",
    "#             print len(val)\n",
    "#             print hemo_vals\n",
    "#             print conc_vals\n",
    "            c6+=1\n",
    "        \n",
    "            \n",
    "print 'c0 (all):'+repr(c0)\n",
    "print 'c1 (success):'+repr(c1)\n",
    "print 'c2 (success):'+repr(c2)\n",
    "print 'c3 (failure):'+repr(c3)\n",
    "print 'c4 (failure):'+repr(c4)\n",
    "print 'c5 (success):'+repr(c5)\n",
    "print 'c6 (unaddressed):'+repr(c6)\n",
    "print 'c7 (failure):'+repr(c7)\n",
    "print 'c8 (success):'+repr(c8)\n",
    "print 'c9 (failure):'+repr(c9)\n",
    "print 'Failures: '+repr(c3+c4+c7+c9)\n",
    "print 'successes: '+repr(c1+c2+c5+c8)\n",
    "print 'Total: '+repr(c1+c2+c3+c4+c5+c6+c7+c8+c9)\n",
    "# print c1+c2+c3\n",
    "print len(sequence_log_hc50_dict)"
   ]
  },
  {
   "cell_type": "code",
   "execution_count": 823,
   "metadata": {
    "collapsed": false,
    "jupyter": {
     "outputs_hidden": false
    }
   },
   "outputs": [],
   "source": [
    "seqs = []\n",
    "vals = []\n",
    "uncertainties = []\n",
    "for key, val in sequence_log_hc50_dict.items():\n",
    "    seqs.append(key)\n",
    "    vals.append(np.log10(np.exp(val[0])))\n",
    "    uncertainties.append(np.log10(np.exp(val[1])))\n",
    "d = {'Sequence':seqs,'log10_HC50':vals,'Uncertainty':uncertainties,'Units':'uM'}\n",
    "cleaned_hemolysis_df = pd.DataFrame(data=d)"
   ]
  },
  {
   "cell_type": "code",
   "execution_count": 824,
   "metadata": {
    "collapsed": false,
    "jupyter": {
     "outputs_hidden": false
    }
   },
   "outputs": [],
   "source": [
    "fname = 'Hemolysis/Cleaned_hemolytic_data.csv'\n",
    "cleaned_hemolysis_df.to_csv(fname)"
   ]
  },
  {
   "cell_type": "code",
   "execution_count": 789,
   "metadata": {
    "collapsed": false,
    "jupyter": {
     "outputs_hidden": false
    }
   },
   "outputs": [
    {
     "data": {
      "image/png": "[encoded data removed]",
      "text/plain": [
       "<matplotlib.figure.Figure at 0x1135a4ed0>"
      ]
     },
     "metadata": {},
     "output_type": "display_data"
    },
    {
     "name": "stdout",
     "output_type": "stream",
     "text": [
      "[[1.         0.03723521]\n",
      " [0.03723521 1.        ]]\n"
     ]
    },
    {
     "data": {
      "image/png": "[encoded data removed]",
      "text/plain": [
       "<matplotlib.figure.Figure at 0x1121731d0>"
      ]
     },
     "metadata": {},
     "output_type": "display_data"
    },
    {
     "name": "stdout",
     "output_type": "stream",
     "text": [
      "[[ 1.         -0.00175849]\n",
      " [-0.00175849  1.        ]]\n"
     ]
    }
   ],
   "source": [
    "charges = []\n",
    "for seq in hemolysis_df.Sequence:\n",
    "    charges.append(seq.count('K')+seq.count('R') - seq.count('E') - seq.count('D'))\n",
    "plt.plot(charges,hemolysis_df.ln_HC50,'.')\n",
    "plt.show()\n",
    "print np.corrcoef(charges,hemolysis_df.ln_HC50)\n",
    "\n",
    "ws = []\n",
    "for seq in hemolysis_df.Sequence:\n",
    "    ws.append(seq.count('N'))\n",
    "plt.plot(ws,hemolysis_df.ln_HC50,'.')\n",
    "plt.show()\n",
    "print np.corrcoef(ws,hemolysis_df.ln_HC50)"
   ]
  },
  {
   "cell_type": "code",
   "execution_count": 827,
   "metadata": {
    "collapsed": false,
    "jupyter": {
     "outputs_hidden": false
    }
   },
   "outputs": [
    {
     "name": "stdout",
     "output_type": "stream",
     "text": [
      "A: -0.06998906169845417\n",
      "C: -0.01759162684145096\n",
      "E: 0.09452578127690595\n",
      "D: 0.038446262290412356\n",
      "G: -0.0718318247905693\n",
      "F: -0.09345430933931342\n",
      "I: -0.1175629324484615\n",
      "H: 0.04639300978888201\n",
      "K: 0.05341748645171271\n",
      "M: 0.043700071102789374\n",
      "L: -0.2033334068207046\n",
      "N: -0.0056547384490858756\n",
      "Q: -0.00664707178765429\n",
      "P: 0.0159442056175713\n",
      "S: 0.021099649864485145\n",
      "R: 0.027508646613986304\n",
      "T: -0.0765479365911777\n",
      "W: -0.07399751099877293\n",
      "V: -0.04744541111426545\n",
      "Y: 0.03902026158378757\n"
     ]
    }
   ],
   "source": [
    "for char in CHARACTER_DICT:\n",
    "    counts = []\n",
    "    for seq in cleaned_hemolysis_df.Sequence:\n",
    "        counts.append(seq.count(char))\n",
    "#     plt.plot(ws,hemolysis_df.ln_HC50,'.')\n",
    "#     plt.show()\n",
    "    print char +': '+ repr(np.corrcoef(counts,cleaned_hemolysis_df.log10_HC50)[0,1])"
   ]
  },
  {
   "cell_type": "code",
   "execution_count": 689,
   "metadata": {
    "collapsed": false,
    "jupyter": {
     "outputs_hidden": false
    }
   },
   "outputs": [
    {
     "name": "stdout",
     "output_type": "stream",
     "text": [
      "244\n",
      "[0, 0, 148, 38, 14, 13, 18, 7, 2, 1]\n"
     ]
    }
   ],
   "source": [
    "print len(lengths)\n",
    "print [lengths.count(i) for i in range(10)]"
   ]
  },
  {
   "cell_type": "code",
   "execution_count": 598,
   "metadata": {
    "collapsed": false,
    "jupyter": {
     "outputs_hidden": false
    }
   },
   "outputs": [
    {
     "data": {
      "text/plain": [
       "[[3.0, 13.84, 'Equal', 'Equal']]"
      ]
     },
     "execution_count": 598,
     "metadata": {},
     "output_type": "execute_result"
    }
   ],
   "source": [
    "sequence_dict['SWLRDLWDWICEVLSDFK']"
   ]
  },
  {
   "cell_type": "code",
   "execution_count": null,
   "metadata": {
    "collapsed": true,
    "jupyter": {
     "outputs_hidden": true
    }
   },
   "outputs": [],
   "source": []
  }
 ],
 "metadata": {
  "kernelspec": {
   "display_name": "Python 3 (ipykernel)",
   "language": "python",
   "name": "python3"
  },
  "language_info": {
   "codemirror_mode": {
    "name": "ipython",
    "version": 3
   },
   "file_extension": ".py",
   "mimetype": "text/x-python",
   "name": "python",
   "nbconvert_exporter": "python",
   "pygments_lexer": "ipython3",
   "version": "3.10.12"
  }
 },
 "nbformat": 4,
 "nbformat_minor": 4
}
