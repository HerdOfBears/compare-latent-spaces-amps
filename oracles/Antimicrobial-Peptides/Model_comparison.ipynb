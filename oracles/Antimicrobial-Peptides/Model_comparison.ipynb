{
 "cells": [
  {
   "cell_type": "code",
   "execution_count": 3,
   "metadata": {
    "collapsed": false,
    "jupyter": {
     "outputs_hidden": false
    }
   },
   "outputs": [],
   "source": [
    "import pandas as pd\n",
    "import os\n",
    "import ast\n",
    "import numpy as np\n",
    "import math\n",
    "from keras.optimizers import Adam\n",
    "import random\n",
    "from copy import deepcopy\n",
    "%matplotlib inline\n",
    "from Bio.SeqUtils.ProtParam import ProteinAnalysis\n",
    "from sklearn.linear_model import LinearRegression\n",
    "from sklearn.linear_model import RidgeCV\n",
    "from sklearn.model_selection import cross_val_score\n",
    "from sklearn.manifold import TSNE\n",
    "pd.options.display.max_colwidth = 100\n",
    "pd.options.display.float_format = '{:.2f}'.format\n",
    "import matplotlib.pyplot as plt\n",
    "import pickle\n",
    "from Bio import pairwise2\n",
    "import seaborn as sns\n",
    "from scipy.stats import kendalltau\n",
    "from sklearn.model_selection import train_test_split\n",
    "from sklearn.linear_model import LinearRegression\n",
    "from sklearn.model_selection import cross_val_score\n",
    "import keras\n",
    "from keras.layers import Dense, Dropout, LSTM, Conv2D, Conv1D, MaxPooling1D, MaxPooling2D, Flatten, ZeroPadding1D, SimpleRNN, Bidirectional\n",
    "from keras.wrappers.scikit_learn import KerasRegressor\n",
    "from sklearn.model_selection import KFold\n",
    "from sklearn.model_selection import cross_val_score\n",
    "import json\n",
    "from keras.models import model_from_json\n",
    "from Bio import pairwise2\n",
    "from Bio import SeqIO\n",
    "# from Bio.SubsMat import MatrixInfo as matlist"
   ]
  },
  {
   "cell_type": "code",
   "execution_count": 4,
   "metadata": {},
   "outputs": [],
   "source": [
    "CHARACTER_LIST = [u'A', u'C', u'E', u'D', u'G', u'F', u'I', u'H', u'K', u'M', u'L', u'N', u'Q', u'P', u'S', u'R', u'T', u'W', u'V', u'Y']\n",
    "nchar = len(CHARACTER_LIST)\n",
    "CHARACTER_LIST.sort()\n",
    "CHARACTER_DICT = set([u'A', u'C', u'E', u'D', u'G', u'F', u'I', u'H', u'K', u'M', u'L', u'N', u'Q', u'P', u'S', u'R', u'T', u'W', u'V', u'Y'])\n",
    "MAX_SEQUENCE_LENGTH=46\n",
    "MAX_MIC = 4\n",
    "FONT_TO_USE = 'Arial'"
   ]
  },
  {
   "cell_type": "code",
   "execution_count": 5,
   "metadata": {},
   "outputs": [],
   "source": [
    "def generate_embedding(matrix_dict,min_corr=0.99):\n",
    "    distance_matrix = np.zeros([len(CHARACTER_LIST),len(CHARACTER_LIST)])\n",
    "    for i,char1 in enumerate(CHARACTER_LIST):\n",
    "        for j,char2 in enumerate(CHARACTER_LIST):\n",
    "            if (char1,char2) in matrix_dict.keys():\n",
    "                distance_matrix[i,j] = (matrix_dict[(char1,char1)]+matrix_dict[(char2,char2)]-2*matrix_dict[(char1,char2)]+0.)\n",
    "            else:\n",
    "                distance_matrix[i,j] = (matrix_dict[(char1,char1)]+matrix_dict[(char2,char2)]-2*matrix_dict[(char2,char1)]+0.)\n",
    "    G_matrix = np.zeros([nchar,nchar])\n",
    "    for i in range(nchar):\n",
    "        for j in range(nchar):\n",
    "            G_matrix[i,i] += distance_matrix[i,j]**2/nchar\n",
    "            for k in range(nchar):\n",
    "                G_matrix[i,i] -= distance_matrix[j,k]**2/(2*(nchar**2))\n",
    "\n",
    "    for i in range(nchar):\n",
    "        for j in range(nchar):\n",
    "            G_matrix[i,j] = (G_matrix[i,i]+G_matrix[j,j]-distance_matrix[i,j]**2)/2\n",
    "    values,vectors = np.linalg.eigh(G_matrix)\n",
    "    corr = 0\n",
    "    n_dimensions = 0\n",
    "    while corr<min_corr:\n",
    "        n_dimensions += 1\n",
    "        sqrt_lambda_matrix = np.zeros([n_dimensions,n_dimensions])\n",
    "        for i in range(n_dimensions):\n",
    "            sqrt_lambda_matrix[i,i] = np.sqrt(values[i-n_dimensions])\n",
    "        u_matrix = vectors[:,nchar-n_dimensions:nchar]\n",
    "        product = np.matmul(sqrt_lambda_matrix,np.transpose(u_matrix))\n",
    "        embedding_matrix = np.zeros([n_dimensions,nchar])\n",
    "        for i in range(nchar):\n",
    "            for j in range(n_dimensions):\n",
    "                embedding_matrix[j,i] = product[n_dimensions-1-j,i]\n",
    "        embedding_matrix = np.transpose(embedding_matrix)\n",
    "        reconst_dist_matrix = np.zeros([nchar,nchar])\n",
    "        for i in range(nchar):\n",
    "            for j in range(nchar):\n",
    "                to_set = np.linalg.norm(embedding_matrix[i,:]-embedding_matrix[j,:])\n",
    "                reconst_dist_matrix[i,j] = to_set\n",
    "        old=[]\n",
    "        reconst=[]\n",
    "        for i in range(nchar-1):\n",
    "            for j in range(i+1,nchar):\n",
    "                old.append(distance_matrix[i,j])\n",
    "                reconst.append(reconst_dist_matrix[i,j])\n",
    "        corr = np.corrcoef(old,reconst)[0,1]\n",
    "    embedding_dict = {}\n",
    "    for i,char in enumerate(CHARACTER_LIST):\n",
    "        embedding_dict[char] = embedding_matrix[i].tolist()\n",
    "    return embedding_dict"
   ]
  },
  {
   "cell_type": "code",
   "execution_count": 10,
   "metadata": {
    "collapsed": false,
    "jupyter": {
     "outputs_hidden": false
    }
   },
   "outputs": [],
   "source": [
    "# Each amino acid its own group\n",
    "character_to_index = {\n",
    "    (character): i\n",
    "    for i, character in enumerate(CHARACTER_DICT)\n",
    "}\n",
    "\n",
    "index2character = {\n",
    "    value: key\n",
    "    for key, value in character_to_index.items()\n",
    "}\n",
    "\n",
    "# Generate the input vectors for our model\n",
    "# Each vector is two dimensional\n",
    "# The first dimension represents the number of characters in the sequence (46 characters)\n",
    "# Each character is a vector of length equal to the number of groupings of amino acids\n",
    "# This grouping can be 1-1 (each amino acid gets its own group), or coarser\n",
    "def df_to_input_vec(df,shuffle = False,embed_dict=None):\n",
    "    cterminal_amidation = np.array(df.has_cterminal_amidation)\n",
    "\n",
    "    vectors = []\n",
    "    for row in df.iterrows():\n",
    "        vectors.append(row_to_vector(row[1],embed_dict=embed_dict, shuffle_sequence=shuffle))\n",
    "\n",
    "    vectors = np.array(vectors)\n",
    "\n",
    "    labels = np.array(df.value)\n",
    "    sample_weights = np.full(len(labels), 1)\n",
    "    return vectors, labels, sample_weights\n",
    "\n",
    "def generate_random_sequence(alphabet, length_of_sequence_min=0, length_of_sequence_max=MAX_SEQUENCE_LENGTH, include_C = True):\n",
    "        sequence = ''\n",
    "        choices = [char for char in alphabet if (include_C or char !='C')]\n",
    "        counter = 0\n",
    "        length_to_use = -10\n",
    "        while counter<20 and (length_to_use < length_of_sequence_min or length_to_use > length_of_sequence_max):\n",
    "            length_to_use = random.choice(SEQ_LENGTHS)\n",
    "            counter += 1\n",
    "        for _ in range(length_to_use):\n",
    "            sequence += random.choice(choices)\n",
    "        has_cterminal_amidation = random.uniform(0, 1)\n",
    "\n",
    "        return {\n",
    "            'sequence': sequence,\n",
    "            'has_cterminal_amidation': has_cterminal_amidation>0.5\n",
    "#             Used to be 0.5 but only 34% of positive data has amidation OOPS\n",
    "        }\n",
    "\n",
    "def add_random_negative_examples(vectors, labels, sample_weights, ratio, max_mic = None, include_cysteine = True):\n",
    "    if not max_mic:\n",
    "        max_mic = max(labels)\n",
    "    # We will add randomly chosen sequences as negative examples\n",
    "    # We will double the length of our training set\n",
    "\n",
    "    len_vectors = ratio * len(vectors)\n",
    "    negative_rows = []\n",
    "    for i in range(len_vectors):\n",
    "        negative_rows.append(row_to_vector(generate_random_sequence(list(CHARACTER_DICT),include_C = include_cysteine)))\n",
    "    negative_vectors = np.array(negative_rows)\n",
    "    vectors = np.concatenate((vectors, negative_vectors))\n",
    "    negative_labels = np.full(len_vectors, max_mic)\n",
    "    labels = np.concatenate((labels, negative_labels))\n",
    "    # Weight all samples equally\n",
    "    sample_weights = np.concatenate((sample_weights, np.full(len_vectors, 1)))\n",
    "    return vectors, labels, sample_weights\n",
    "\n",
    "def generate_train_test_splits(\n",
    "        vectors, labels,\n",
    "        extra_training_vectors=[], extra_training_labels=[], extra_sample_weights=[],\n",
    "        cutoff=0.85\n",
    "):\n",
    "    cutoff = int(cutoff * len(labels))\n",
    "    idx = range(len(vectors))\n",
    "    random.shuffle(idx)\n",
    "    reordered_vectors = vectors[idx]\n",
    "    reordered_labels = labels[idx]\n",
    "    reordered_sample_weights = sample_weights[idx]\n",
    "    if len(extra_training_vectors) > 0:\n",
    "        train_x = np.concatenate((reordered_vectors[:cutoff], extra_training_vectors))\n",
    "        train_y = np.concatenate((reordered_labels[:cutoff], extra_training_labels))\n",
    "        train_sample_weights = np.concatenate((reordered_sample_weights[:cutoff], pa_sample_weights))\n",
    "    else:\n",
    "        train_x = reordered_vectors[:cutoff]\n",
    "        train_y = reordered_labels[:cutoff]\n",
    "        train_sample_weights = reordered_sample_weights[:cutoff]\n",
    "    test_x = reordered_vectors[cutoff:]\n",
    "    test_y = reordered_labels[cutoff:]\n",
    "    return train_x, train_y, test_x, test_y, train_sample_weights\n",
    "\n",
    "# Convolutional NN\n",
    "def conv_model(embed_length = (len(character_to_index)+1),kernelsize = 5):\n",
    "    model = keras.models.Sequential()\n",
    "    model.add(ZeroPadding1D(\n",
    "        kernelsize, input_shape = (MAX_SEQUENCE_LENGTH, embed_length)\n",
    "    ))\n",
    "    model.add(Conv1D(\n",
    "        64,\n",
    "        kernel_size = kernelsize,\n",
    "        strides = 1,\n",
    "        activation = 'relu',\n",
    "        #input_shape = (MAX_SEQUENCE_LENGTH, len(character_to_index) + 1)\n",
    "    ))\n",
    "    model.add(MaxPooling1D(pool_size=2, strides=2))\n",
    "    #model.add(Dropout(0.5))\n",
    "    model.add(Conv1D(64, kernelsize, activation='relu'))\n",
    "    model.add(MaxPooling1D(pool_size=2))\n",
    "    model.add(Flatten())\n",
    "    model.add(Dropout(0.5))\n",
    "    model.add(Dense(100, activation='relu'))\n",
    "    #model.add(Dense(100, activation='relu'))\n",
    "    model.add(Dense(20, activation='relu'))\n",
    "    model.add(Dense(1))\n",
    "    model.compile(loss='mean_squared_error', optimizer='adam')\n",
    "    return model\n",
    "\n",
    "# Convolutional NN\n",
    "def conv_model_set_dropout(dropout_level=0.5,embed_length = (len(character_to_index)+1)):\n",
    "    model = keras.models.Sequential()\n",
    "    model.add(ZeroPadding1D(\n",
    "        5, input_shape = (MAX_SEQUENCE_LENGTH, embed_length)\n",
    "    ))\n",
    "    model.add(Conv1D(\n",
    "        64,\n",
    "        kernel_size = 5,\n",
    "        strides = 1,\n",
    "        activation = 'relu',\n",
    "        #input_shape = (MAX_SEQUENCE_LENGTH, len(character_to_index) + 1)\n",
    "    ))\n",
    "    model.add(MaxPooling1D(pool_size=2, strides=2))\n",
    "    #model.add(Dropout(0.5))\n",
    "    model.add(Conv1D(64, 5, activation='relu'))\n",
    "    model.add(MaxPooling1D(pool_size=2))\n",
    "    model.add(Flatten())\n",
    "    model.add(Dropout(dropout_level))\n",
    "    model.add(Dense(100, activation='relu'))\n",
    "    #model.add(Dense(100, activation='relu'))\n",
    "    model.add(Dense(20, activation='relu'))\n",
    "    model.add(Dense(1))\n",
    "    model.compile(loss='mean_squared_error', optimizer='adam')\n",
    "    return model\n",
    "\n",
    "# Convolutional NN\n",
    "def conv_model_move_dropout(embed_length = (len(character_to_index)+1)):\n",
    "    model = keras.models.Sequential()\n",
    "    model.add(ZeroPadding1D(\n",
    "        5, input_shape = (MAX_SEQUENCE_LENGTH, embed_length)\n",
    "    ))\n",
    "    model.add(Conv1D(\n",
    "        64,\n",
    "        kernel_size = 5,\n",
    "        strides = 1,\n",
    "        activation = 'relu',\n",
    "        #input_shape = (MAX_SEQUENCE_LENGTH, len(character_to_index) + 1)\n",
    "    ))\n",
    "    model.add(MaxPooling1D(pool_size=2, strides=2))\n",
    "    #model.add(Dropout(0.5))\n",
    "    model.add(Conv1D(64, 5, activation='relu'))\n",
    "    model.add(MaxPooling1D(pool_size=2))\n",
    "    model.add(Flatten())\n",
    "    model.add(Dense(100, activation='relu'))\n",
    "    model.add(Dropout(0.5))\n",
    "    #model.add(Dense(100, activation='relu'))\n",
    "    model.add(Dense(20, activation='relu'))\n",
    "    model.add(Dense(1))\n",
    "    model.compile(loss='mean_squared_error', optimizer='adam')\n",
    "    return model\n",
    "\n",
    "# Convolutional NN\n",
    "def one_layer_conv_model(embed_length = (len(character_to_index)+1)):\n",
    "    model = keras.models.Sequential()\n",
    "    model.add(ZeroPadding1D(\n",
    "        5, input_shape = (MAX_SEQUENCE_LENGTH, embed_length)\n",
    "    ))\n",
    "    model.add(Conv1D(\n",
    "        64,\n",
    "        kernel_size = 5,\n",
    "        strides = 1,\n",
    "        activation = 'relu',\n",
    "        #input_shape = (MAX_SEQUENCE_LENGTH, len(character_to_index) + 1)\n",
    "    ))\n",
    "    model.add(MaxPooling1D(pool_size=2, strides=2))\n",
    "    model.add(Flatten())\n",
    "    model.add(Dropout(0.5))\n",
    "    model.add(Dense(100, activation='relu'))\n",
    "    #model.add(Dense(100, activation='relu'))\n",
    "    model.add(Dense(20, activation='relu'))\n",
    "    model.add(Dense(1))\n",
    "    model.compile(loss='mean_squared_error', optimizer='adam')\n",
    "    return model\n",
    "\n",
    "def lstm_model(embed_length = (len(character_to_index)+1),learn_rate=None):\n",
    "    model = keras.models.Sequential()\n",
    "#     model = keras.models.Sequential()\n",
    "    model.add(LSTM(\n",
    "        64,\n",
    "        input_shape=(MAX_SEQUENCE_LENGTH, embed_length),\n",
    "    ))\n",
    "#     model.add(Flatten())\n",
    "    model.add(Dropout(0.5))\n",
    "#     model.add(Dense(100, kernel_initializer='normal'))\n",
    "# #     model.add(Dropout(0.5))\n",
    "#     model.add(Dense(20, kernel_initializer='normal'))\n",
    "    model.add(Dense(100, activation='relu'))\n",
    "    #model.add(Dense(100, activation='relu'))\n",
    "    model.add(Dense(20, activation='relu'))\n",
    "    model.add(Dense(1))\n",
    "#     model.add(Dense(1, kernel_initializer='normal'))\n",
    "    if learn_rate is None:\n",
    "        model.compile(loss='mean_squared_error', optimizer='adam')\n",
    "    else:\n",
    "        model.compile(loss='mean_squared_error',optimizer=Adam(lr=learn_rate))\n",
    "    return model\n",
    "\n",
    "def two_layer_recurrent_model(embed_length = (len(character_to_index)+1)):\n",
    "    model = keras.models.Sequential()\n",
    "#     model = keras.models.Sequential()\n",
    "    model.add(SimpleRNN(\n",
    "        64,\n",
    "        input_shape=(MAX_SEQUENCE_LENGTH, embed_length),return_sequences=True\n",
    "    ))\n",
    "    model.add(SimpleRNN(64))\n",
    "#     model.add(Flatten())\n",
    "    model.add(Dropout(0.5))\n",
    "#     model.add(Dense(100, kernel_initializer='normal'))\n",
    "#     model.add(Dense(20, kernel_initializer='normal'))\n",
    "#     model.add(Dense(1, kernel_initializer='normal'))\n",
    "    model.add(Dense(100, activation='relu'))\n",
    "    #model.add(Dense(100, activation='relu'))\n",
    "    model.add(Dense(20, activation='relu'))\n",
    "    model.add(Dense(1))\n",
    "    model.compile(loss='mean_squared_error', optimizer='adam')\n",
    "    return model\n",
    "\n",
    "def three_layer_recurrent_model(embed_length = (len(character_to_index)+1)):\n",
    "    model = keras.models.Sequential()\n",
    "#     model = keras.models.Sequential()\n",
    "    model.add(SimpleRNN(\n",
    "        64,\n",
    "        input_shape=(MAX_SEQUENCE_LENGTH, embed_length),return_sequences=True\n",
    "    ))\n",
    "    model.add(SimpleRNN(64,return_sequences=True))\n",
    "    model.add(SimpleRNN(64))\n",
    "#     model.add(Flatten())\n",
    "    model.add(Dropout(0.5))\n",
    "#     model.add(Dense(100, kernel_initializer='normal'))\n",
    "#     model.add(Dense(20, kernel_initializer='normal'))\n",
    "#     model.add(Dense(100, activation='relu'))\n",
    "    #model.add(Dense(100, activation='relu'))\n",
    "#     model.add(Dense(20, activation='relu'))\n",
    "#     model.add(Dense(1, kernel_initializer='normal'))\n",
    "    model.add(Dense(100, activation='relu'))\n",
    "    #model.add(Dense(100, activation='relu'))\n",
    "    model.add(Dense(20, activation='relu'))\n",
    "    model.add(Dense(1))\n",
    "    model.compile(loss='mean_squared_error', optimizer='adam')\n",
    "    return model\n",
    "\n",
    "def one_layer_recurrent_model(embed_length = (len(character_to_index)+1), learn_rate = None):\n",
    "    model = keras.models.Sequential()\n",
    "#     model = keras.models.Sequential()\n",
    "    model.add(SimpleRNN(\n",
    "        64,\n",
    "        input_shape=(MAX_SEQUENCE_LENGTH, embed_length),return_sequences=False\n",
    "    ))\n",
    "#     model.add(Flatten())\n",
    "    model.add(Dropout(0.5))\n",
    "#     model.add(Dense(100, kernel_initializer='normal'))\n",
    "#     model.add(Dense(20, kernel_initializer='normal'))\n",
    "#     model.add(Dense(1, kernel_initializer='normal'))\n",
    "    model.add(Dense(100, activation='relu'))\n",
    "    #model.add(Dense(100, activation='relu'))\n",
    "    model.add(Dense(20, activation='relu'))\n",
    "    model.add(Dense(1))\n",
    "    if learn_rate is None:\n",
    "        model.compile(loss='mean_squared_error',optimizer='adam')\n",
    "    else:\n",
    "        model.compile(loss='mean_squared_error', optimizer=Adam(lr=learn_rate))\n",
    "    return model\n",
    "\n",
    "def bilstm_model(embed_length = (len(character_to_index)+1)):\n",
    "    model = keras.models.Sequential()\n",
    "#     model = keras.models.Sequential()\n",
    "    model.add(Bidirectional(LSTM(\n",
    "        64\n",
    "    ),input_shape=(MAX_SEQUENCE_LENGTH, embed_length)))\n",
    "#     model.add(Flatten())\n",
    "    model.add(Dropout(0.5))\n",
    "#     model.add(Dense(100, kernel_initializer='normal'))\n",
    "# #     model.add(Dropout(0.5))\n",
    "#     model.add(Dense(20, kernel_initializer='normal'))\n",
    "#     model.add(Dense(1, kernel_initializer='normal'))\n",
    "    model.add(Dense(100, activation='relu'))\n",
    "    #model.add(Dense(100, activation='relu'))\n",
    "    model.add(Dense(20, activation='relu'))\n",
    "    model.add(Dense(1))\n",
    "    model.compile(loss='mean_squared_error', optimizer='adam')\n",
    "    return model\n",
    "\n",
    "def birecurrent_model(embed_length = (len(character_to_index)+1),learn_rate=None):\n",
    "    model = keras.models.Sequential()\n",
    "#     model = keras.models.Sequential()\n",
    "    model.add(Bidirectional(SimpleRNN(\n",
    "        64,return_sequences=False\n",
    "    ),input_shape=(MAX_SEQUENCE_LENGTH, embed_length)))\n",
    "#     model.add(Flatten())\n",
    "    model.add(Dropout(0.5))\n",
    "#     model.add(Dense(100, kernel_initializer='normal'))\n",
    "#     model.add(Dense(20, kernel_initializer='normal'))\n",
    "#     model.add(Dense(1, kernel_initializer='normal'))\n",
    "    model.add(Dense(100, activation='relu'))\n",
    "    #model.add(Dense(100, activation='relu'))\n",
    "    model.add(Dense(20, activation='relu'))\n",
    "    model.add(Dense(1))\n",
    "    if learn_rate is None:\n",
    "        model.compile(loss='mean_squared_error', optimizer='adam')\n",
    "    else:\n",
    "        model.compile(loss='mean_squared_error',optimizer=Adam(lr=learn_rate))\n",
    "    return model\n",
    "\n",
    "class EnsembleModel:\n",
    "    def __init__(self,models,predict_method,max_mic_buffer=0.1):\n",
    "        self.models = models\n",
    "        self.predict_method = predict_method\n",
    "        self.max_mic_buffer = max_mic_buffer\n",
    "        \n",
    "    def combine_predictions(self,predictions):\n",
    "        if self.predict_method == 'average':\n",
    "            return np.mean(predictions)\n",
    "        elif self.predict_method == 'classify_then_average':\n",
    "            actual_predictions = []\n",
    "            for prediction in predictions:\n",
    "                if prediction < MAX_MIC - self.max_mic_buffer:\n",
    "                    actual_predictions.append(prediction)\n",
    "            if float(len(actual_predictions))/float(len(predictions))>=0.49:\n",
    "                return np.mean(predictions)\n",
    "            else:\n",
    "                return MAX_MIC\n",
    "        else:\n",
    "            print('predict_method not recognized')\n",
    "            return -100\n",
    "        \n",
    "    def predict(self,test_x):\n",
    "        all_predictions = []\n",
    "        combined_predictions = []\n",
    "        for model in self.models:\n",
    "            all_predictions.append(model.predict(test_x))\n",
    "        for i in range(len(test_x)):\n",
    "            combined_predictions.append(self.combine_predictions([all_predictions[k][i] for k in range(len(self.models))]))\n",
    "        return combined_predictions\n",
    "    \n",
    "    def evaluate(self,test_x,test_y):\n",
    "        predictions = self.predict(test_x)\n",
    "        correctly_classified_error = np.mean([(actual - predicted) ** 2 for actual, predicted in zip(test_y, predictions) if actual < MAX_MIC and predicted < MAX_MIC - self.max_mic_buffer])    \n",
    "        all_error = np.mean([(actual - predicted) ** 2 for actual, predicted in zip(test_y, predictions)])    \n",
    "        all_active_error = np.mean([(actual - predicted) ** 2 for actual, predicted in zip(test_y, predictions) if actual < MAX_MIC])    \n",
    "        return correctly_classified_error,all_active_error, all_error\n",
    "    \n",
    "    def evaluate_as_classifier(self,test_x,test_y):\n",
    "        true_positives=0\n",
    "        true_negatives=0\n",
    "        false_positives=0\n",
    "        false_negatives=0\n",
    "        all_predicted=self.predict(test_x)\n",
    "        for i in range(len(test_y)):\n",
    "            actual=test_y[i]\n",
    "            predicted=all_predicted[i]\n",
    "            if actual<MAX_MIC-0.0001:\n",
    "                if predicted<MAX_MIC - self.max_mic_buffer:\n",
    "                    true_positives+=1\n",
    "                else:\n",
    "                    false_negatives+=1\n",
    "            else:\n",
    "                if predicted<MAX_MIC - self.max_mic_buffer:\n",
    "                    false_positives += 1\n",
    "        #             print vector_to_amp(test_x[i])\n",
    "        #             print 'predicted: '+repr(predicted)+', actual: '+repr(actual)\n",
    "#                     print '>p'+repr(false_positives)+'_'+repr(predicted)\n",
    "#                     print vector_to_amp(test_x[i])['sequence'].replace('_','')\n",
    "                else:\n",
    "                    true_negatives += 1\n",
    "        return true_positives,true_negatives,false_positives,false_negatives\n",
    "        \n",
    "                                             "
   ]
  },
  {
   "cell_type": "code",
   "execution_count": 11,
   "metadata": {
    "collapsed": false,
    "jupyter": {
     "outputs_hidden": false
    }
   },
   "outputs": [],
   "source": [
    "# Enter an element of a result dictionary into df-ready row\n",
    "# Standardize units of MIC\n",
    "def standardize_to_uM(concentration, unit, sequence):\n",
    "    concentration = concentration.replace(' ', '')\n",
    "    try:\n",
    "        concentration = float(concentration)\n",
    "    except:\n",
    "        return None\n",
    "    if unit == 'uM' or unit == u'\\xb5M' or unit == u'uM)':\n",
    "        return concentration\n",
    "    elif unit == 'ug/ml' or unit == u'\\xb5g/ml' or unit == u'ug/ml)':\n",
    "        try:\n",
    "            molWt = ProteinAnalysis(sequence).molecular_weight()\n",
    "        except ValueError:\n",
    "            return None\n",
    "        return concentration * 1000/molWt\n",
    "    elif unit == 'nmol/g' or unit == 'pmol/mg':\n",
    "        #1g, at density of 1g/mL, is 1mL, so nmol/g is nmol/mL = umol/L = uM yay!\n",
    "        return concentration\n",
    "    else:\n",
    "        # print 'Unit not recognized: ' + unit\n",
    "        return None\n",
    "    \n",
    "def convert_result_to_rows(sequence, result):\n",
    "    rows = []\n",
    "    if 'bacteria' not in result:\n",
    "        return rows\n",
    "    for bacterium, strain in result['bacteria']:\n",
    "        \n",
    "        rows.append({\n",
    "            'bacterium': bacterium,\n",
    "            'strain': strain,\n",
    "            'sequence': sequence.upper(),\n",
    "            'url_source': result['url_sources'][0],\n",
    "            'value': standardize_to_uM(\n",
    "                result['bacteria'][(bacterium, strain)]['value'],\n",
    "                result['bacteria'][(bacterium, strain)]['unit'],\n",
    "                sequence\n",
    "            ),\n",
    "            'modifications': result['modifications'] if 'modifications' in result else [],\n",
    "            'unit': 'uM'\n",
    "        })\n",
    "        if rows[-1]['value']:\n",
    "            rows[-1]['value'] = np.log10(rows[-1]['value'])\n",
    "    return rows\n",
    "\n",
    "# Remove sequences with amino acids that aren't well-defined\n",
    "def strip_sequences_with_char(df, bad_char):\n",
    "    return df[~df.sequence.str.contains(bad_char)]\n",
    "\n",
    "# We'll want to strip off any sequences with modifications that could be hard to replicate\n",
    "# Their effects are too complex for the model\n",
    "def is_modified(modifications_list):\n",
    "    return len(modifications_list) > 0\n",
    "\n",
    "# However, C-Terminal Amidation is common enough that we make an exception\n",
    "CTERM_AMIDATION_TERMS = ['C-Terminal amidation','C-Terminus: AMD','C-Terminal','C-termianal amidation']\n",
    "\n",
    "def has_non_cterminal_modification(modifications_list):\n",
    "    return any(['C-Term' not in modification for modification in modifications_list])\n",
    "\n",
    "def has_unusual_modification(modifications_list):\n",
    "    return any([is_uncommon_modification(mod) for mod in modifications_list])\n",
    "\n",
    "def has_cterminal_amidation(modifications_list):\n",
    "    return any([is_cterminal_amidation(mod) for mod in modifications_list])\n",
    "\n",
    "def has_disulfide_bonds(modifications_list):\n",
    "    return any([is_disulfide_bond(mod) for mod in modifications_list])\n",
    "\n",
    "def is_cterminal_amidation(mod):\n",
    "    for term in CTERM_AMIDATION_TERMS:\n",
    "        if term in mod:\n",
    "            return True\n",
    "    return False\n",
    "\n",
    "def is_disulfide_bond(mod):\n",
    "    return 'disulfide' in mod.lower()\n",
    "\n",
    "def is_uncommon_modification(mod):\n",
    "    return (not is_cterminal_amidation(mod)) and (not is_disulfide_bond(mod))\n",
    "\n",
    "def datasource_has_modifications(cell):\n",
    "    # Everything except CAMP and YADAMP has modification data\n",
    "    return not any([s in cell for s in no_modification_data_sources])\n",
    "\n",
    "def sequence_has_modification_data(cell):\n",
    "    # If the sequence is labeled modifictationless in another database it's OK\n",
    "    return cell in sequences_containing_modifications\n",
    "\n",
    "def sequence_to_vector(sequence, cterminal_amidation,embed_dict=None):\n",
    "# It looks like this truncates any sequence after max_sequence_length (which is length of 95th percentile longest peptide)\n",
    "# I just add cterminal amidation as the amino acid after the last real amino acid (if the amino acid gets truncated\n",
    "# then the cterminal amidation also gets cut off)\n",
    "    if embed_dict==None:\n",
    "        default = np.zeros([MAX_SEQUENCE_LENGTH, len(character_to_index) + 1])\n",
    "        for i, character in enumerate(sequence[:MAX_SEQUENCE_LENGTH]):\n",
    "            default[i][character_to_index[character]] = 1\n",
    "        if len(sequence)<MAX_SEQUENCE_LENGTH:\n",
    "            default[len(sequence)][-1]=cterminal_amidation\n",
    "    else:\n",
    "        default = np.zeros([MAX_SEQUENCE_LENGTH,len(embed_dict['A'])+1])\n",
    "        for i, character in enumerate(sequence[:MAX_SEQUENCE_LENGTH]):\n",
    "            embedding = deepcopy(embed_dict[character])\n",
    "            embedding.append(0)\n",
    "            for k,val in enumerate(embedding):\n",
    "                default[i,k] = val\n",
    "            if len(sequence)<MAX_SEQUENCE_LENGTH:\n",
    "                for i in range(len(sequence),MAX_SEQUENCE_LENGTH):\n",
    "                    default[i,-1]=1\n",
    "    return default\n",
    "\n",
    "def find_character(character2index, character):\n",
    "    for key in character2index:\n",
    "        if character in key:\n",
    "            return character2index[key]\n",
    "    return -2\n",
    "\n",
    "def row_to_vector(row, embed_dict=None,shuffle_sequence=False):\n",
    "    sequence = list(row['sequence'])\n",
    "    if shuffle_sequence:\n",
    "        random.shuffle(sequence)\n",
    "    cterminal_amidation = row['has_cterminal_amidation']\n",
    "    return sequence_to_vector(sequence,cterminal_amidation,embed_dict=embed_dict)\n",
    "\n",
    "def old_row_to_vector(row, shuffle_sequence=False):\n",
    "    sequence = list(row['sequence'])\n",
    "    if shuffle_sequence:\n",
    "        random.shuffle(sequence)\n",
    "    cterminal_amidation = row['has_cterminal_amidation']\n",
    "    default = np.zeros([MAX_SEQUENCE_LENGTH, len(character_to_index) + 1])\n",
    "\n",
    "    for i, character in enumerate(sequence[:MAX_SEQUENCE_LENGTH]):\n",
    "        default[i][find_character(character_to_index, character)] = 1\n",
    "        default[i][-1] = cterminal_amidation\n",
    "\n",
    "    return default\n",
    "\n",
    "def vector_to_amp(vector):\n",
    "    sequence = ''\n",
    "    has_cterm = False\n",
    "    for v in vector:\n",
    "        nonzeros = np.argwhere(v[:len(character_to_index)])\n",
    "        if len(nonzeros) > 1:\n",
    "            print(\"?????\")\n",
    "        elif len(nonzeros) == 0:\n",
    "            sequence += '_'\n",
    "        else:\n",
    "            sequence += index2character[np.argwhere(v)[0][0]]  # First one\n",
    "        if v[-1]>0:\n",
    "            has_cterm=True\n",
    "    return {\n",
    "        'sequence': sequence,\n",
    "        'cterminal_amidation': has_cterm\n",
    "    }\n",
    "\n",
    "def bacterium_to_sample_weight(bacterium, intended_bacterium='E. coli'):\n",
    "    if intended_bacterium in bacterium:\n",
    "        return 1\n",
    "    else:\n",
    "        return 0.5\n",
    "    \n",
    "def containing_bacterium(bacterium, df):\n",
    "    return df.loc[df.bacterium.str.contains(bacterium)]\n",
    "\n",
    "def average_over_databases(bacterium_df):\n",
    "    return bacterium_df.groupby('sequence')['value'].mean().dropna()\n",
    "\n",
    "def get_bacterium_df(bacterium, df):\n",
    "    bdf = df.loc[(df.bacterium.str.contains(bacterium))].groupby(['sequence', 'bacterium'])\n",
    "    return bdf.mean().reset_index().dropna()\n",
    "\n",
    "def strip_bad_amino_acids(df, bad_amino_acids=('U', 'X', 'Z')):\n",
    "    for b in bad_amino_acids:\n",
    "        df = df.loc[~df.sequence.str.contains(b)]\n",
    "    return df.reset_index()\n",
    "\n",
    "def split_dataframe(df_to_split,cutoff=0.85):\n",
    "    train_indices = []\n",
    "    test_indices = []\n",
    "    for i in range(len(df_to_split)):\n",
    "        if 'C' not in df_to_split['sequence'][i] and random.random()>cutoff:\n",
    "            test_indices.append(i)\n",
    "        else:\n",
    "            train_indices.append(i)\n",
    "    train_df = df_to_split.iloc[train_indices]\n",
    "    test_df = df_to_split.iloc[test_indices]\n",
    "    return train_df, test_df"
   ]
  },
  {
   "cell_type": "code",
   "execution_count": 12,
   "metadata": {},
   "outputs": [],
   "source": [
    "data_dir = \"models/Saved_variables/\"\n",
    "ecoli_train_with_c = pd.read_pickle(f'{data_dir}ecoli_train_with_c_df.pkl')\n",
    "ecoli_train_no_c = pd.read_pickle(f'{data_dir}ecoli_train_no_c_df.pkl')\n",
    "ecoli_test = pd.read_pickle(f'{data_dir}ecoli_test_df.pkl')\n",
    "ecoli_df = pd.read_pickle(f'{data_dir}ecoli_all_df.pkl')\n",
    "ecoli_df_no_c = pd.read_pickle(f'{data_dir}ecoli_all_no_c_df.pkl')\n",
    "all_df = pd.read_pickle(f'{data_dir}all_df.pkl')\n",
    "ecoli_train_train_no_c = pd.read_pickle(f'{data_dir}ecoli_train_train_no_c_df.pkl')\n",
    "ecoli_validate_no_c = pd.read_pickle(f'{data_dir}ecoli_validate_no_c_df.pkl')"
   ]
  },
  {
   "cell_type": "code",
   "execution_count": 81,
   "metadata": {
    "collapsed": true,
    "jupyter": {
     "outputs_hidden": true
    }
   },
   "outputs": [],
   "source": [
    "#Generating the train-test split (only do this once)\n",
    "# ecoli_train_train_no_c, ecoli_validate_no_c = train_test_split(ecoli_train_no_c,test_size=0.2)\n",
    "# ecoli_train_train_no_c.to_pickle('Saved_variables/ecoli_train_train_no_c_df.pkl')\n",
    "# ecoli_validate_no_c.to_pickle('Saved_variables/ecoli_validate_no_c_df.pkl')"
   ]
  },
  {
   "cell_type": "code",
   "execution_count": 16,
   "metadata": {},
   "outputs": [
    {
     "name": "stdout",
     "output_type": "stream",
     "text": [
      "Collecting blosum\n",
      "  Downloading blosum-2.0.3-py3-none-any.whl (21 kB)\n",
      "Installing collected packages: blosum\n",
      "Successfully installed blosum-2.0.3\n"
     ]
    }
   ],
   "source": [
    "!pip install blosum"
   ]
  },
  {
   "cell_type": "code",
   "execution_count": 18,
   "metadata": {},
   "outputs": [],
   "source": [
    "import blosum as bl\n",
    "b62_matrix = bl.BLOSUM(62)"
   ]
  },
  {
   "cell_type": "code",
   "execution_count": 27,
   "metadata": {},
   "outputs": [
    {
     "name": "stdout",
     "output_type": "stream",
     "text": [
      "-2.0\n"
     ]
    }
   ],
   "source": [
    "val = b62_matrix[\"A\"][\"Y\"]\n",
    "print(val)"
   ]
  },
  {
   "cell_type": "code",
   "execution_count": 19,
   "metadata": {},
   "outputs": [
    {
     "ename": "TypeError",
     "evalue": "unsupported operand type(s) for +: 'collections.defaultdict' and 'collections.defaultdict'",
     "output_type": "error",
     "traceback": [
      "\u001b[0;31m---------------------------------------------------------------------------\u001b[0m",
      "\u001b[0;31mTypeError\u001b[0m                                 Traceback (most recent call last)",
      "Cell \u001b[0;32mIn[19], line 1\u001b[0m\n\u001b[0;32m----> 1\u001b[0m b62_embedding \u001b[38;5;241m=\u001b[39m \u001b[43mgenerate_embedding\u001b[49m\u001b[43m(\u001b[49m\u001b[43mb62_matrix\u001b[49m\u001b[43m,\u001b[49m\u001b[43m \u001b[49m\u001b[38;5;241;43m0.997\u001b[39;49m\u001b[43m)\u001b[49m\n",
      "Cell \u001b[0;32mIn[5], line 8\u001b[0m, in \u001b[0;36mgenerate_embedding\u001b[0;34m(matrix_dict, min_corr)\u001b[0m\n\u001b[1;32m      6\u001b[0m             distance_matrix[i,j] \u001b[38;5;241m=\u001b[39m (matrix_dict[(char1,char1)]\u001b[38;5;241m+\u001b[39mmatrix_dict[(char2,char2)]\u001b[38;5;241m-\u001b[39m\u001b[38;5;241m2\u001b[39m\u001b[38;5;241m*\u001b[39mmatrix_dict[(char1,char2)]\u001b[38;5;241m+\u001b[39m\u001b[38;5;241m0.\u001b[39m)\n\u001b[1;32m      7\u001b[0m         \u001b[38;5;28;01melse\u001b[39;00m:\n\u001b[0;32m----> 8\u001b[0m             distance_matrix[i,j] \u001b[38;5;241m=\u001b[39m (\u001b[43mmatrix_dict\u001b[49m\u001b[43m[\u001b[49m\u001b[43m(\u001b[49m\u001b[43mchar1\u001b[49m\u001b[43m,\u001b[49m\u001b[43mchar1\u001b[49m\u001b[43m)\u001b[49m\u001b[43m]\u001b[49m\u001b[38;5;241;43m+\u001b[39;49m\u001b[43mmatrix_dict\u001b[49m\u001b[43m[\u001b[49m\u001b[43m(\u001b[49m\u001b[43mchar2\u001b[49m\u001b[43m,\u001b[49m\u001b[43mchar2\u001b[49m\u001b[43m)\u001b[49m\u001b[43m]\u001b[49m\u001b[38;5;241m-\u001b[39m\u001b[38;5;241m2\u001b[39m\u001b[38;5;241m*\u001b[39mmatrix_dict[(char2,char1)]\u001b[38;5;241m+\u001b[39m\u001b[38;5;241m0.\u001b[39m)\n\u001b[1;32m      9\u001b[0m G_matrix \u001b[38;5;241m=\u001b[39m np\u001b[38;5;241m.\u001b[39mzeros([nchar,nchar])\n\u001b[1;32m     10\u001b[0m \u001b[38;5;28;01mfor\u001b[39;00m i \u001b[38;5;129;01min\u001b[39;00m \u001b[38;5;28mrange\u001b[39m(nchar):\n",
      "\u001b[0;31mTypeError\u001b[0m: unsupported operand type(s) for +: 'collections.defaultdict' and 'collections.defaultdict'"
     ]
    }
   ],
   "source": [
    "b62_embedding = generate_embedding(b62_matrix, 0.997)"
   ]
  },
  {
   "cell_type": "code",
   "execution_count": 13,
   "metadata": {
    "collapsed": false,
    "jupyter": {
     "outputs_hidden": false
    }
   },
   "outputs": [
    {
     "ename": "NameError",
     "evalue": "name 'matlist' is not defined",
     "output_type": "error",
     "traceback": [
      "\u001b[0;31m---------------------------------------------------------------------------\u001b[0m",
      "\u001b[0;31mNameError\u001b[0m                                 Traceback (most recent call last)",
      "Cell \u001b[0;32mIn[13], line 1\u001b[0m\n\u001b[0;32m----> 1\u001b[0m b62_embedding \u001b[38;5;241m=\u001b[39m generate_embedding(\u001b[43mmatlist\u001b[49m\u001b[38;5;241m.\u001b[39mblosum62,\u001b[38;5;241m0.997\u001b[39m)\n",
      "\u001b[0;31mNameError\u001b[0m: name 'matlist' is not defined"
     ]
    }
   ],
   "source": [
    "b62_embedding = generate_embedding(matlist.blosum62,0.997)"
   ]
  },
  {
   "cell_type": "code",
   "execution_count": 100,
   "metadata": {
    "collapsed": false,
    "jupyter": {
     "outputs_hidden": false
    }
   },
   "outputs": [],
   "source": [
    "ecoli_train_input_embed = df_to_input_vec(ecoli_train_no_c,embed_dict=b62_embedding)\n",
    "ecoli_test_one_hot = df_to_input_vec(ecoli_test)\n",
    "ecoli_train_input_one_hot = df_to_input_vec(ecoli_train_no_c)\n",
    "ecoli_train_input_one_hot_ridge = [vec.flatten() for vec in ecoli_train_input_one_hot[0]]"
   ]
  },
  {
   "cell_type": "markdown",
   "metadata": {},
   "source": [
    "# Generating test and training sets (different featurizations for different ML approaches)"
   ]
  },
  {
   "cell_type": "code",
   "execution_count": 244,
   "metadata": {
    "collapsed": false,
    "jupyter": {
     "outputs_hidden": false
    }
   },
   "outputs": [],
   "source": [
    "ecoli_train_no_c = ecoli_train_no_c.reset_index(drop=True)\n",
    "ecoli_test = ecoli_test.reset_index(drop=True)\n",
    "train_x_aa_counts = []\n",
    "train_x_seqs = []\n",
    "train_x = []\n",
    "train_y = []\n",
    "train_x_ridge=[]\n",
    "test_x = []\n",
    "test_x_seqs = []\n",
    "test_x_aa_counts = []\n",
    "test_y = []\n",
    "test_x_ridge=[]\n",
    "lengths_1=[]\n",
    "lengths_2=[]\n",
    "for i in range(len(ecoli_train_no_c)):\n",
    "    lengths_1.append(len(ecoli_train_no_c.sequence[i]))\n",
    "    if True:#len(ecoli_train_no_c.sequence[i])<MAX_SEQUENCE_LENGTH:\n",
    "        train_x_seqs.append(ecoli_train_no_c.sequence[i])\n",
    "        train_x_aa_counts.append(sequence_to_aa_counts(ecoli_train_no_c.sequence[i],ecoli_train_no_c.has_cterminal_amidation[i])) \n",
    "        train_y.append(ecoli_train_no_c.value[i])\n",
    "        train_x.append(sequence_to_vector(ecoli_train_no_c.sequence[i],ecoli_train_no_c.has_cterminal_amidation[i]))\n",
    "        train_x_ridge.append(sequence_to_vector(ecoli_train_no_c.sequence[i],ecoli_train_no_c.has_cterminal_amidation[i]).flatten())\n",
    "        lengths_2.append(len(ecoli_train_no_c.sequence[i]))\n",
    "for i in range(len(ecoli_test)):\n",
    "    if len(ecoli_test.sequence[i])<MAX_SEQUENCE_LENGTH:\n",
    "        test_x_seqs.append(ecoli_test.sequence[i])\n",
    "        test_x_aa_counts.append(sequence_to_aa_counts(ecoli_test.sequence[i],ecoli_test.has_cterminal_amidation[i])) \n",
    "        test_y.append(ecoli_test.value[i])\n",
    "        test_x.append(sequence_to_vector(ecoli_test.sequence[i],ecoli_test.has_cterminal_amidation[i]))\n",
    "        test_x_ridge.append(sequence_to_vector(ecoli_test.sequence[i],ecoli_test.has_cterminal_amidation[i]).flatten())\n",
    "        \n",
    "train_x = np.array(train_x)\n",
    "test_x = np.array(test_x)\n",
    "test_y = np.array(test_y)\n",
    "train_y = np.array(train_y)"
   ]
  },
  {
   "cell_type": "markdown",
   "metadata": {},
   "source": [
    "# Ridge regression"
   ]
  },
  {
   "cell_type": "markdown",
   "metadata": {},
   "source": [
    "## Ridge regression on the whole 21x46 variables"
   ]
  },
  {
   "cell_type": "code",
   "execution_count": 246,
   "metadata": {
    "collapsed": false,
    "jupyter": {
     "outputs_hidden": false
    }
   },
   "outputs": [
    {
     "name": "stdout",
     "output_type": "stream",
     "text": [
      "10.0\n"
     ]
    }
   ],
   "source": [
    "alphas_to_test = [0.0001,0.001,0.01,0.1,1,10,100,1000]\n",
    "ridge_train_one_hot = RidgeCV(alphas=alphas_to_test)\n",
    "ridge_train_one_hot.fit(train_x_ridge,train_y)\n",
    "print ridge_train_one_hot.alpha_"
   ]
  },
  {
   "cell_type": "code",
   "execution_count": 247,
   "metadata": {
    "collapsed": false,
    "jupyter": {
     "outputs_hidden": false
    }
   },
   "outputs": [
    {
     "name": "stdout",
     "output_type": "stream",
     "text": [
      "29.0\n"
     ]
    }
   ],
   "source": [
    "alphas_to_test = [0.0001,2,4,8,16,24,26,27,28,29,30,31,32,36,40,64]\n",
    "ridge_train_one_hot = RidgeCV(alphas=alphas_to_test)\n",
    "ridge_train_one_hot.fit(train_x_ridge,train_y)\n",
    "print ridge_train_one_hot.alpha_"
   ]
  },
  {
   "cell_type": "code",
   "execution_count": 248,
   "metadata": {
    "collapsed": true,
    "jupyter": {
     "outputs_hidden": true
    }
   },
   "outputs": [],
   "source": [
    "ridge_predicted = ridge_train_one_hot.predict(test_x_ridge)"
   ]
  },
  {
   "cell_type": "code",
   "execution_count": 249,
   "metadata": {
    "collapsed": false,
    "jupyter": {
     "outputs_hidden": false
    }
   },
   "outputs": [
    {
     "data": {
      "image/png": "[encoded data removed]",
      "text/plain": [
       "<matplotlib.figure.Figure at 0x1448ad950>"
      ]
     },
     "metadata": {},
     "output_type": "display_data"
    },
    {
     "name": "stdout",
     "output_type": "stream",
     "text": [
      "0.6274677663943323\n",
      "0.43187093180416586\n",
      "MSE: 0.36338475921572205\n"
     ]
    }
   ],
   "source": [
    "plt.plot(ridge_predicted,test_y,'.')\n",
    "plt.show()\n",
    "print np.corrcoef(ridge_predicted,test_y)[0,1]\n",
    "tau,pval = kendalltau(ridge_predicted,test_y)\n",
    "print tau\n",
    "print 'MSE: '+repr(float(np.average([(ridge_predicted[i]-test_y[i])**2 for i in range(len(test_y))])))"
   ]
  },
  {
   "cell_type": "markdown",
   "metadata": {},
   "source": [
    "## Ridge regression using just the amino acid counts"
   ]
  },
  {
   "cell_type": "code",
   "execution_count": 250,
   "metadata": {
    "collapsed": true,
    "jupyter": {
     "outputs_hidden": true
    }
   },
   "outputs": [],
   "source": [
    "def sequence_to_aa_counts(sequence,cterm_amidation):\n",
    "    to_return = []\n",
    "    for char in CHARACTER_LIST:\n",
    "        to_return.append(sequence.count(char))\n",
    "    if cterm_amidation>0.5:\n",
    "        to_return.append(1)\n",
    "    else:\n",
    "        to_return.append(0)\n",
    "    return to_return"
   ]
  },
  {
   "cell_type": "code",
   "execution_count": 251,
   "metadata": {
    "collapsed": false,
    "jupyter": {
     "outputs_hidden": false
    }
   },
   "outputs": [
    {
     "name": "stdout",
     "output_type": "stream",
     "text": [
      "100.0\n"
     ]
    }
   ],
   "source": [
    "alphas_to_test = [0.0001,0.001,0.01,0.1,1,10,100,1000]\n",
    "ridge_train_counts = RidgeCV(alphas=alphas_to_test)\n",
    "ridge_train_counts.fit(train_x_aa_counts,train_y)\n",
    "print ridge_train_counts.alpha_"
   ]
  },
  {
   "cell_type": "code",
   "execution_count": 252,
   "metadata": {
    "collapsed": false,
    "jupyter": {
     "outputs_hidden": false
    }
   },
   "outputs": [
    {
     "name": "stdout",
     "output_type": "stream",
     "text": [
      "172.0\n"
     ]
    }
   ],
   "source": [
    "alphas_to_test = [0.0001,100,120,140,150,160,165,167,170,171,172,173,174,175,180,200,320,640]\n",
    "ridge_train_counts = RidgeCV(alphas=alphas_to_test)\n",
    "ridge_train_counts.fit(train_x_aa_counts,train_y)\n",
    "print ridge_train_counts.alpha_"
   ]
  },
  {
   "cell_type": "code",
   "execution_count": 253,
   "metadata": {
    "collapsed": false,
    "jupyter": {
     "outputs_hidden": false
    }
   },
   "outputs": [],
   "source": [
    "ridge_predicted_counts = ridge_train_counts.predict(test_x_aa_counts)"
   ]
  },
  {
   "cell_type": "code",
   "execution_count": 254,
   "metadata": {
    "collapsed": false,
    "jupyter": {
     "outputs_hidden": false
    }
   },
   "outputs": [
    {
     "data": {
      "image/png": "[encoded data removed]",
      "text/plain": [
       "<matplotlib.figure.Figure at 0x11cc15990>"
      ]
     },
     "metadata": {},
     "output_type": "display_data"
    }
   ],
   "source": [
    "plt.plot(ridge_predicted_counts,test_y,'.')\n",
    "plt.show()"
   ]
  },
  {
   "cell_type": "code",
   "execution_count": 255,
   "metadata": {
    "collapsed": false,
    "jupyter": {
     "outputs_hidden": false
    }
   },
   "outputs": [
    {
     "name": "stdout",
     "output_type": "stream",
     "text": [
      "Pearson corr: 0.5601172810273505\n",
      "Kendall tau: 0.3794419789437846\n",
      "MSE: 0.41544297774414196\n"
     ]
    }
   ],
   "source": [
    "print 'Pearson corr: '+repr(np.corrcoef(ridge_predicted_counts,test_y)[0,1])\n",
    "tau,pval = kendalltau(ridge_predicted_counts,test_y)\n",
    "print 'Kendall tau: '+repr(tau)\n",
    "print 'MSE: '+repr(float(np.average([(ridge_predicted_counts[i]-test_y[i])**2 for i in range(len(test_y))])))"
   ]
  },
  {
   "cell_type": "markdown",
   "metadata": {},
   "source": [
    "## Neural network analysis and comparisons; note default learning rate is 0.001"
   ]
  },
  {
   "cell_type": "code",
   "execution_count": 256,
   "metadata": {
    "collapsed": false,
    "jupyter": {
     "outputs_hidden": false
    }
   },
   "outputs": [
    {
     "name": "stdout",
     "output_type": "stream",
     "text": [
      "Epoch 1/100\n",
      "2895/2895 [==============================] - 9s 3ms/step - loss: 0.6607\n",
      "Epoch 2/100\n",
      "2895/2895 [==============================] - 1s 462us/step - loss: 0.4172\n",
      "Epoch 3/100\n",
      "2895/2895 [==============================] - 1s 494us/step - loss: 0.3710\n",
      "Epoch 4/100\n",
      "2895/2895 [==============================] - 1s 495us/step - loss: 0.3271\n",
      "Epoch 5/100\n",
      "2895/2895 [==============================] - 1s 478us/step - loss: 0.3004\n",
      "Epoch 6/100\n",
      "2895/2895 [==============================] - 1s 491us/step - loss: 0.2835\n",
      "Epoch 7/100\n",
      "2895/2895 [==============================] - 1s 454us/step - loss: 0.2547\n",
      "Epoch 8/100\n",
      "2895/2895 [==============================] - 1s 425us/step - loss: 0.2287\n",
      "Epoch 9/100\n",
      "2895/2895 [==============================] - 1s 376us/step - loss: 0.2244\n",
      "Epoch 10/100\n",
      "2895/2895 [==============================] - 1s 382us/step - loss: 0.2135\n",
      "Epoch 11/100\n",
      "2895/2895 [==============================] - 1s 385us/step - loss: 0.1946\n",
      "Epoch 12/100\n",
      "2895/2895 [==============================] - 1s 391us/step - loss: 0.1852\n",
      "Epoch 13/100\n",
      "2895/2895 [==============================] - 1s 386us/step - loss: 0.1770\n",
      "Epoch 14/100\n",
      "2895/2895 [==============================] - 1s 385us/step - loss: 0.1645\n",
      "Epoch 15/100\n",
      "2895/2895 [==============================] - 1s 391us/step - loss: 0.1629\n",
      "Epoch 16/100\n",
      "2895/2895 [==============================] - 1s 376us/step - loss: 0.1511\n",
      "Epoch 17/100\n",
      "2895/2895 [==============================] - 1s 417us/step - loss: 0.1387\n",
      "Epoch 18/100\n",
      "2895/2895 [==============================] - 1s 445us/step - loss: 0.1367\n",
      "Epoch 19/100\n",
      "2895/2895 [==============================] - 1s 435us/step - loss: 0.1293\n",
      "Epoch 20/100\n",
      "2895/2895 [==============================] - 1s 379us/step - loss: 0.1236\n",
      "Epoch 21/100\n",
      "2895/2895 [==============================] - 1s 397us/step - loss: 0.1192\n",
      "Epoch 22/100\n",
      "2895/2895 [==============================] - 1s 388us/step - loss: 0.1153\n",
      "Epoch 23/100\n",
      "2895/2895 [==============================] - 1s 416us/step - loss: 0.1116\n",
      "Epoch 24/100\n",
      "2895/2895 [==============================] - 2s 576us/step - loss: 0.1114\n",
      "Epoch 25/100\n",
      "2895/2895 [==============================] - 1s 447us/step - loss: 0.1061\n",
      "Epoch 26/100\n",
      "2895/2895 [==============================] - 1s 433us/step - loss: 0.1000\n",
      "Epoch 27/100\n",
      "2895/2895 [==============================] - 1s 458us/step - loss: 0.0978\n",
      "Epoch 28/100\n",
      "2895/2895 [==============================] - 1s 430us/step - loss: 0.0956\n",
      "Epoch 29/100\n",
      "2895/2895 [==============================] - 1s 427us/step - loss: 0.0946\n",
      "Epoch 30/100\n",
      "2895/2895 [==============================] - 1s 512us/step - loss: 0.0896\n",
      "Epoch 31/100\n",
      "2895/2895 [==============================] - 1s 475us/step - loss: 0.0888\n",
      "Epoch 32/100\n",
      "2895/2895 [==============================] - 2s 534us/step - loss: 0.0877\n",
      "Epoch 33/100\n",
      "2895/2895 [==============================] - 2s 569us/step - loss: 0.0857\n",
      "Epoch 34/100\n",
      "2895/2895 [==============================] - 1s 450us/step - loss: 0.0875\n",
      "Epoch 35/100\n",
      "2895/2895 [==============================] - 1s 427us/step - loss: 0.0927\n",
      "Epoch 36/100\n",
      "2895/2895 [==============================] - 1s 454us/step - loss: 0.0875\n",
      "Epoch 37/100\n",
      "2895/2895 [==============================] - 2s 598us/step - loss: 0.0847\n",
      "Epoch 38/100\n",
      "2895/2895 [==============================] - 2s 539us/step - loss: 0.0813\n",
      "Epoch 39/100\n",
      "2895/2895 [==============================] - 1s 452us/step - loss: 0.0829\n",
      "Epoch 40/100\n",
      "2895/2895 [==============================] - 1s 470us/step - loss: 0.0778\n",
      "Epoch 41/100\n",
      "2895/2895 [==============================] - 1s 485us/step - loss: 0.0735\n",
      "Epoch 42/100\n",
      "2895/2895 [==============================] - 1s 467us/step - loss: 0.0760\n",
      "Epoch 43/100\n",
      "2895/2895 [==============================] - 1s 462us/step - loss: 0.0722\n",
      "Epoch 44/100\n",
      "2895/2895 [==============================] - 2s 530us/step - loss: 0.0709\n",
      "Epoch 45/100\n",
      "2895/2895 [==============================] - 1s 443us/step - loss: 0.0710\n",
      "Epoch 46/100\n",
      "2895/2895 [==============================] - 1s 422us/step - loss: 0.0689\n",
      "Epoch 47/100\n",
      "2895/2895 [==============================] - 1s 406us/step - loss: 0.0690\n",
      "Epoch 48/100\n",
      "2895/2895 [==============================] - 1s 413us/step - loss: 0.0710\n",
      "Epoch 49/100\n",
      "2895/2895 [==============================] - 1s 444us/step - loss: 0.0713\n",
      "Epoch 50/100\n",
      "2895/2895 [==============================] - 1s 436us/step - loss: 0.0681\n",
      "Epoch 51/100\n",
      "2895/2895 [==============================] - 1s 499us/step - loss: 0.0649\n",
      "Epoch 52/100\n",
      "2895/2895 [==============================] - 1s 436us/step - loss: 0.0645\n",
      "Epoch 53/100\n",
      "2895/2895 [==============================] - 1s 418us/step - loss: 0.0649\n",
      "Epoch 54/100\n",
      "2895/2895 [==============================] - 1s 417us/step - loss: 0.0621\n",
      "Epoch 55/100\n",
      "2895/2895 [==============================] - 1s 472us/step - loss: 0.0585\n",
      "Epoch 56/100\n",
      "2895/2895 [==============================] - 1s 432us/step - loss: 0.0620\n",
      "Epoch 57/100\n",
      "2895/2895 [==============================] - 1s 438us/step - loss: 0.0578\n",
      "Epoch 58/100\n",
      "2895/2895 [==============================] - 1s 449us/step - loss: 0.0593\n",
      "Epoch 59/100\n",
      "2895/2895 [==============================] - 1s 445us/step - loss: 0.0566\n",
      "Epoch 60/100\n",
      "2895/2895 [==============================] - 1s 444us/step - loss: 0.0591\n",
      "Epoch 61/100\n",
      "2895/2895 [==============================] - 1s 442us/step - loss: 0.0565\n",
      "Epoch 62/100\n",
      "2895/2895 [==============================] - 1s 480us/step - loss: 0.0552\n",
      "Epoch 63/100\n",
      "2895/2895 [==============================] - 1s 415us/step - loss: 0.0579\n",
      "Epoch 64/100\n",
      "2895/2895 [==============================] - 1s 437us/step - loss: 0.0553\n",
      "Epoch 65/100\n",
      "2895/2895 [==============================] - 1s 442us/step - loss: 0.0553\n",
      "Epoch 66/100\n",
      "2895/2895 [==============================] - 1s 425us/step - loss: 0.0562\n",
      "Epoch 67/100\n",
      "2895/2895 [==============================] - 1s 430us/step - loss: 0.0548\n",
      "Epoch 68/100\n",
      "2895/2895 [==============================] - 1s 401us/step - loss: 0.0611\n",
      "Epoch 69/100\n",
      "2895/2895 [==============================] - 1s 421us/step - loss: 0.0545\n",
      "Epoch 70/100\n",
      "2895/2895 [==============================] - 1s 435us/step - loss: 0.0532\n",
      "Epoch 71/100\n",
      "2895/2895 [==============================] - 1s 430us/step - loss: 0.0562\n",
      "Epoch 72/100\n",
      "2895/2895 [==============================] - 1s 409us/step - loss: 0.0535\n",
      "Epoch 73/100\n",
      "2895/2895 [==============================] - 1s 393us/step - loss: 0.0556\n",
      "Epoch 74/100\n",
      "2895/2895 [==============================] - 1s 417us/step - loss: 0.0524\n",
      "Epoch 75/100\n",
      "2895/2895 [==============================] - 1s 424us/step - loss: 0.0506\n",
      "Epoch 76/100\n",
      "2895/2895 [==============================] - 1s 394us/step - loss: 0.0513\n",
      "Epoch 77/100\n",
      "2895/2895 [==============================] - 1s 390us/step - loss: 0.0483\n",
      "Epoch 78/100\n",
      "2895/2895 [==============================] - 1s 381us/step - loss: 0.0474\n",
      "Epoch 79/100\n",
      "2895/2895 [==============================] - 1s 378us/step - loss: 0.0488\n",
      "Epoch 80/100\n",
      "2895/2895 [==============================] - 1s 415us/step - loss: 0.0475\n",
      "Epoch 81/100\n",
      "2895/2895 [==============================] - 1s 465us/step - loss: 0.0498\n",
      "Epoch 82/100\n",
      "2895/2895 [==============================] - 2s 526us/step - loss: 0.0464\n",
      "Epoch 83/100\n",
      "2895/2895 [==============================] - 2s 560us/step - loss: 0.0475\n",
      "Epoch 84/100\n",
      "2895/2895 [==============================] - 1s 476us/step - loss: 0.0471\n",
      "Epoch 85/100\n",
      "2895/2895 [==============================] - 1s 508us/step - loss: 0.0500\n",
      "Epoch 86/100\n",
      "2895/2895 [==============================] - 1s 458us/step - loss: 0.0447\n",
      "Epoch 87/100\n",
      "2895/2895 [==============================] - 1s 482us/step - loss: 0.0476\n",
      "Epoch 88/100\n",
      "2895/2895 [==============================] - 1s 493us/step - loss: 0.0460\n",
      "Epoch 89/100\n",
      "2895/2895 [==============================] - 1s 454us/step - loss: 0.0449\n",
      "Epoch 90/100\n",
      "2895/2895 [==============================] - 1s 489us/step - loss: 0.0452\n",
      "Epoch 91/100\n",
      "2895/2895 [==============================] - 1s 493us/step - loss: 0.0418\n",
      "Epoch 92/100\n",
      "2895/2895 [==============================] - 1s 428us/step - loss: 0.0427\n",
      "Epoch 93/100\n",
      "2895/2895 [==============================] - 1s 481us/step - loss: 0.0482\n",
      "Epoch 94/100\n",
      "2895/2895 [==============================] - 1s 496us/step - loss: 0.0428\n",
      "Epoch 95/100\n",
      "2895/2895 [==============================] - 1s 470us/step - loss: 0.0412\n",
      "Epoch 96/100\n",
      "2895/2895 [==============================] - 1s 431us/step - loss: 0.0424\n",
      "Epoch 97/100\n",
      "2895/2895 [==============================] - 1s 415us/step - loss: 0.0430\n",
      "Epoch 98/100\n",
      "2895/2895 [==============================] - 1s 424us/step - loss: 0.0444\n",
      "Epoch 99/100\n",
      "2895/2895 [==============================] - 1s 496us/step - loss: 0.0439\n",
      "Epoch 100/100\n",
      "2895/2895 [==============================] - 1s 494us/step - loss: 0.0410\n"
     ]
    },
    {
     "data": {
      "text/plain": [
       "<keras.callbacks.History at 0x11cd61e10>"
      ]
     },
     "execution_count": 256,
     "metadata": {},
     "output_type": "execute_result"
    }
   ],
   "source": [
    "conv_model_normal = conv_model()\n",
    "conv_model_normal.fit(train_x,train_y,batch_size=40,epochs=100)\n",
    "\n",
    "# conv_model_kernel4 = conv_model(kernelsize=4)\n",
    "# conv_model_kernel4.fit(train_x,train_y,batch_size=40,epochs=100)\n",
    "\n",
    "# conv_model_kernel6 = conv_model(kernelsize=6)\n",
    "# conv_model_kernel6.fit(train_x,train_y,batch_size=40,epochs=100)\n",
    "\n",
    "# conv_model_kernel3 = conv_model(kernelsize=3)\n",
    "# conv_model_kernel3.fit(train_x,train_y,batch_size=40,epochs=100)\n",
    "\n",
    "# conv_model_kernel2 = conv_model(kernelsize=2)\n",
    "# conv_model_kernel2.fit(train_x,train_y,batch_size=40,epochs=100)\n",
    "\n",
    "# conv_model_kernel7 = conv_model(kernelsize=7)\n",
    "# conv_model_kernel7.fit(train_x,train_y,batch_size=40,epochs=100)\n",
    "\n",
    "# conv_model_kernel1 = conv_model(kernelsize=1)\n",
    "# conv_model_kernel1.fit(train_x,train_y,batch_size=40,epochs=100)\n",
    "\n",
    "# conv_model_one_layer = one_layer_conv_model()\n",
    "# conv_model_one_layer.fit(train_x,train_y,batch_size=40,epochs=100)\n",
    "\n",
    "# conv_model_moved_dropout = conv_model_move_dropout()\n",
    "# conv_model_moved_dropout.fit(train_x,train_y,batch_size=40,epochs=100)\n",
    "\n",
    "# conv_model_p9_dropout = conv_model_set_dropout(dropout_level=0.9)\n",
    "# conv_model_p9_dropout.fit(train_x,train_y,batch_size=40,epochs=100)\n",
    "\n",
    "# conv_model_p7_dropout = conv_model_set_dropout(dropout_level=0.7)\n",
    "# conv_model_p7_dropout.fit(train_x,train_y,batch_size=40,epochs=100)\n",
    "\n",
    "# conv_model_p3_dropout = conv_model_set_dropout(dropout_level=0.3)\n",
    "# conv_model_p3_dropout.fit(train_x,train_y,batch_size=40,epochs=100)\n",
    "\n",
    "# rnn_one_layer = one_layer_recurrent_model()\n",
    "# rnn_one_layer.fit(train_x,train_y,batch_size=40,epochs=100)\n",
    "\n",
    "# rnn_two_layers = two_layer_recurrent_model()\n",
    "# rnn_two_layers.fit(train_x,train_y,batch_size=40,epochs=100)\n",
    "\n",
    "# rnn_three_layers = three_layer_recurrent_model()\n",
    "# rnn_three_layers.fit(train_x,train_y,batch_size=40,epochs=100)\n",
    "\n",
    "# lstm_mod = lstm_model()\n",
    "# lstm_mod.fit(train_x,train_y,batch_size=40,epochs=100)\n",
    "\n",
    "# bi_rnn = birecurrent_model()\n",
    "# bi_rnn.fit(train_x,train_y,batch_size=40,epochs=100)\n",
    "\n",
    "# bi_lstm = bilstm_model()\n",
    "# bi_lstm.fit(train_x,train_y,batch_size=40,epochs=100)\n",
    "\n",
    "# bi_rnn_p01 = birecurrent_model(learn_rate=0.01)\n",
    "# bi_rnn_p01.fit(train_x,train_y,batch_size=40,epochs=100)\n",
    "\n",
    "# bi_rnn_p1 = birecurrent_model(learn_rate=0.1)\n",
    "# bi_rnn_p1.fit(train_x,train_y,batch_size=40,epochs=100)\n",
    "\n",
    "# bi_rnn_p0001 = birecurrent_model(learn_rate=0.0001)\n",
    "# bi_rnn_p0001.fit(train_x,train_y,batch_size=40,epochs=100)\n",
    "\n",
    "# bi_rnn_p00001 = birecurrent_model(learn_rate=0.00001)\n",
    "# bi_rnn_p00001.fit(train_x,train_y,batch_size=40,epochs=100)\n",
    "\n",
    "# lstm_p01 = lstm_model(learn_rate=0.01)\n",
    "# lstm_p01.fit(train_x,train_y,batch_size=40,epochs=100)\n",
    "\n",
    "# lstm_p1 = lstm_model(learn_rate=0.1)\n",
    "# lstm_p1.fit(train_x,train_y,batch_size=40,epochs=100)\n",
    "\n",
    "# lstm_p05 = lstm_model(learn_rate=0.05)\n",
    "# lstm_p05.fit(train_x,train_y,batch_size=40,epochs=100)\n",
    "\n",
    "# lstm_p02 = lstm_model(learn_rate=0.02)\n",
    "# lstm_p02.fit(train_x,train_y,batch_size=40,epochs=100)\n",
    "\n",
    "# lstm_p0001 = lstm_model(learn_rate=0.0001)\n",
    "# lstm_p0001.fit(train_x,train_y,batch_size=40,epochs=100)\n",
    "\n",
    "# lstm_p00001 = lstm_model(learn_rate=0.00001)\n",
    "# lstm_p00001.fit(train_x,train_y,batch_size=40,epochs=100)\n",
    "\n",
    "# bi_lstm_300 = bilstm_model()\n",
    "# bi_lstm_300.fit(train_x,train_y,batch_size=40,epochs=300)"
   ]
  },
  {
   "cell_type": "code",
   "execution_count": 231,
   "metadata": {
    "collapsed": false,
    "jupyter": {
     "outputs_hidden": false
    }
   },
   "outputs": [],
   "source": [
    "def evaluate_model(model):\n",
    "    predicted = model.predict(test_x)\n",
    "    predicted = [pred[0] for pred in predicted]\n",
    "#     plt.plot(predicted,test_y,'.')\n",
    "#     plt.show()\n",
    "    to_return = 'RMSE,'+repr(np.sqrt(float(np.average([(predicted[i]-test_y[i])**2 for i in range(len(test_y))]))))\n",
    "    to_return += ',Pearson Correlation,'+repr(float(np.corrcoef(predicted,test_y)[1,0]))\n",
    "    tau,pval = kendalltau(predicted,test_y)\n",
    "    to_return += ',Kendall tau Correlation,'+repr(tau)\n",
    "    to_return += ',MSE,'+repr(float(np.average([(predicted[i]-test_y[i])**2 for i in range(len(test_y))])))\n",
    "    print to_return\n",
    "    return to_return"
   ]
  },
  {
   "cell_type": "code",
   "execution_count": 257,
   "metadata": {
    "collapsed": false,
    "jupyter": {
     "outputs_hidden": false
    }
   },
   "outputs": [
    {
     "name": "stdout",
     "output_type": "stream",
     "text": [
      "RMSE,0.5017459404365912,Pearson Correlation,0.7700296338278537,Kendall tau Correlation,0.5705882658527176,MSE,0.2517489887445993\n"
     ]
    },
    {
     "data": {
      "text/plain": [
       "'RMSE,0.5017459404365912,Pearson Correlation,0.7700296338278537,Kendall tau Correlation,0.5705882658527176,MSE,0.2517489887445993'"
      ]
     },
     "execution_count": 257,
     "metadata": {},
     "output_type": "execute_result"
    }
   ],
   "source": [
    "evaluate_model(conv_model_normal)\n",
    "# evaluate_model(conv_model_kernel1)\n",
    "# evaluate_model(conv_model_kernel2)\n",
    "# evaluate_model(conv_model_kernel3)\n",
    "# evaluate_model(conv_model_kernel4)\n",
    "# evaluate_model(conv_model_kernel6)\n",
    "# evaluate_model(conv_model_kernel7)\n",
    "# evaluate_model(conv_model_one_layer)\n",
    "# evaluate_model(conv_model_moved_dropout)\n",
    "# evaluate_model(conv_model_p9_dropout)\n",
    "# evaluate_model(conv_model_p7_dropout)\n",
    "# evaluate_model(conv_model_p3_dropout)\n",
    "# evaluate_model(rnn_one_layer)\n",
    "# evaluate_model(rnn_two_layers)\n",
    "# evaluate_model(rnn_three_layers)\n",
    "# evaluate_model(bi_rnn)\n",
    "# evaluate_model(lstm_p00001)\n",
    "# evaluate_model(lstm_p0001)\n",
    "# evaluate_model(lstm_mod)\n",
    "# evaluate_model(lstm_p01)\n",
    "# evaluate_model(lstm_p1)\n",
    "# evaluate_model(bi_lstm)\n",
    "# evaluate_model(lstm_p02)\n",
    "# evaluate_model(lstm_p05)\n",
    "# evaluate_model(bi_rnn_p01)\n",
    "# evaluate_model(bi_rnn_p1)\n",
    "# evaluate_model(bi_rnn_p0001)\n",
    "# evaluate_model(bi_rnn_p00001)\n",
    "# evaluate_model(bi_lstm_300)"
   ]
  },
  {
   "cell_type": "markdown",
   "metadata": {},
   "source": [
    "# kNN regression"
   ]
  },
  {
   "cell_type": "code",
   "execution_count": 258,
   "metadata": {
    "collapsed": true,
    "jupyter": {
     "outputs_hidden": true
    }
   },
   "outputs": [],
   "source": [
    "def levenshtein(s1, s2):\n",
    "    if len(s1) < len(s2):\n",
    "        return levenshtein(s2, s1)\n",
    "\n",
    "    # len(s1) >= len(s2)\n",
    "    if len(s2) == 0:\n",
    "        return len(s1)\n",
    "\n",
    "    previous_row = range(len(s2) + 1)\n",
    "    for i, c1 in enumerate(s1):\n",
    "        current_row = [i + 1]\n",
    "        for j, c2 in enumerate(s2):\n",
    "            insertions = previous_row[j + 1] + 1 # j+1 instead of j since previous_row and current_row are one character longer\n",
    "            deletions = current_row[j] + 1       # than s2\n",
    "            substitutions = previous_row[j] + (c1 != c2)\n",
    "            current_row.append(min(insertions, deletions, substitutions))\n",
    "        previous_row = current_row\n",
    "    \n",
    "    return previous_row[-1]\n",
    "\n",
    "class kNN_model:\n",
    "    def __init__(self,seq_db,mic_vals,k,local=True,score_matrix=matlist.ident,gap_open_penalty=-9,gap_extension_penalty=-1,edit_distance=False):\n",
    "        self.seq_db = seq_db\n",
    "        self.k = k\n",
    "        self.mic_vals = mic_vals\n",
    "        self.local = local\n",
    "        self.score_matrix = score_matrix\n",
    "        self.gap_open_penalty = gap_open_penalty\n",
    "        self.gap_extension_penalty = gap_extension_penalty\n",
    "        self.edit_distance = edit_distance\n",
    "    def predict_knn(self,seq):\n",
    "        alignment_scores = [0]*len(self.seq_db)\n",
    "        for i in range(len(self.seq_db)):\n",
    "            sequence = self.seq_db[i]\n",
    "            if self.edit_distance:\n",
    "                alignment_scores[i] = -1*levenshtein(seq,sequence)\n",
    "            elif self.local:\n",
    "                alignment_scores[i] = pairwise2.align.localds(seq,sequence,self.score_matrix,self.gap_open_penalty,self.gap_extension_penalty,score_only=True)\n",
    "            else:\n",
    "                alignment_scores[i] = pairwise2.align.globalds(seq,sequence,self.score_matrix,self.gap_open_penalty,self.gap_extension_penalty,score_only=True)\n",
    "        indices = np.argpartition(alignment_scores,-1*self.k)[(-1*self.k):]\n",
    "        guess=0\n",
    "        for index in indices:\n",
    "            guess += float(self.mic_vals[index])\n",
    "        return guess/self.k\n",
    "    def prediction_with_similarity(self,seq):\n",
    "        alignment_scores = [0]*len(self.seq_db)\n",
    "        for i in range(len(self.seq_db)):\n",
    "            sequence = self.seq_db[i]\n",
    "            if self.edit_distance:\n",
    "                alignment_scores[i] = -1*levenshtein(seq,sequence)\n",
    "            elif self.local:\n",
    "                alignment_scores[i] = pairwise2.align.localds(seq,sequence,self.score_matrix,self.gap_open_penalty,self.gap_extension_penalty,score_only=True)\n",
    "            else:\n",
    "                alignment_scores[i] = pairwise2.align.globalds(seq,sequence,self.score_matrix,self.gap_open_penalty,self.gap_extension_penalty,score_only=True)\n",
    "        indices = np.argpartition(alignment_scores,-1*self.k)[(-1*self.k):]\n",
    "        max_align_score = max(alignment_scores)\n",
    "        guess=0\n",
    "        for index in indices:\n",
    "            guess += float(self.mic_vals[index])\n",
    "        return max_align_score,guess/self.k\n",
    "    def error_vs_align_score(self,seqs,test_mics):\n",
    "        scores = []\n",
    "        sqrt_errors = []\n",
    "        for i,seq in enumerate(seqs):\n",
    "            align_score,prediction = self.prediction_with_similarity(seq)\n",
    "            scores.append(align_score)\n",
    "            sqrt_errors.append(np.sqrt((prediction-test_mics[i])**2))\n",
    "        return scores,sqrt_errors     \n",
    "    def predict(self,seqs):\n",
    "        return [self.predict_knn(seq) for seq in seqs]"
   ]
  },
  {
   "cell_type": "code",
   "execution_count": 259,
   "metadata": {
    "collapsed": true,
    "jupyter": {
     "outputs_hidden": true
    }
   },
   "outputs": [],
   "source": [
    "def evaluate_knn_model(knn_model):\n",
    "    predicted = knn_model.predict(test_x_seqs)\n",
    "#     predicted = [pred[0] for pred in predicted]\n",
    "#     plt.plot(predicted,test_y,'.')\n",
    "#     plt.show()\n",
    "#     print 'MSE: '+repr(float(np.average([(predicted[i]-test_y[i])**2 for i in range(len(test_y))])))\n",
    "#     print 'Pearson Correlation: '+repr(float(np.corrcoef(predicted,test_y)[1,0]))\n",
    "    tau,pval = kendalltau(predicted,test_y)\n",
    "#     print 'Kendall tau Correlation: '+repr(tau)\n",
    "    mse = 'MSE,'+repr(float(np.average([(predicted[i]-test_y[i])**2 for i in range(len(test_y))])))\n",
    "    pearson = 'Pearson,'+repr(float(np.corrcoef(predicted,test_y)[1,0]))\n",
    "    tau = 'Kendall tau,'+repr(tau)\n",
    "    return mse+','+pearson+','+tau+','"
   ]
  },
  {
   "cell_type": "code",
   "execution_count": 260,
   "metadata": {
    "collapsed": false,
    "jupyter": {
     "outputs_hidden": false
    }
   },
   "outputs": [
    {
     "name": "stdout",
     "output_type": "stream",
     "text": [
      "k,5,Edit distance,n/a,MSE,0.2957386359801885,Pearson,0.7160638862911988,Kendall tau,0.5042597322796677,\n"
     ]
    }
   ],
   "source": [
    "# Using the best model based on validation set\n",
    "knn_model = kNN_model(train_x_seqs,train_y,5,edit_distance=True)\n",
    "print 'k,5,Edit distance,n/a,'+evaluate_knn_model(knn_model) "
   ]
  },
  {
   "cell_type": "code",
   "execution_count": 241,
   "metadata": {
    "collapsed": false,
    "jupyter": {
     "outputs_hidden": false
    }
   },
   "outputs": [
    {
     "name": "stdout",
     "output_type": "stream",
     "text": [
      "k,7,Edit distance,n/a,MSE,0.3274507158382785,Pearson,0.6809477603880043,Kendall tau,0.46321277683261175,\n",
      "k,7,Local,Pam30,MSE,0.4526885352717089,Pearson,0.5633828028223556,Kendall tau,0.36606249247518946,\n",
      "k,7,Global,Pam30,MSE,0.3806242975015145,Pearson,0.6264822905994067,Kendall tau,0.40547849088342036,\n",
      "k,7,Local,Identity,MSE,0.4383547597628035,Pearson,0.5827605124519708,Kendall tau,0.37579977635356787,\n",
      "k,7,Global,Identity,MSE,0.36692862058403447,Pearson,0.6423241268828116,Kendall tau,0.42125075354140473,\n",
      "k,8,Edit distance,n/a,MSE,0.3340565313305525,Pearson,0.6731233730264672,Kendall tau,0.459712301164396,\n",
      "k,8,Local,Pam30,MSE,0.4455778075656142,Pearson,0.5712035153263394,Kendall tau,0.36638180524951564,\n",
      "k,8,Global,Pam30,MSE,0.38298487393425007,Pearson,0.6225764746295971,Kendall tau,0.4040353159282329,\n",
      "k,8,Local,Identity,MSE,0.44224383420287583,Pearson,0.5750572594388242,Kendall tau,0.366543694729149,\n",
      "k,8,Global,Identity,MSE,0.3692584254390431,Pearson,0.6388163958967668,Kendall tau,0.4170535479147295,\n"
     ]
    }
   ],
   "source": [
    "for k in range(7,9):\n",
    "    knn_model = kNN_model(train_x_seqs,train_y,k,edit_distance=True)\n",
    "    print 'k,'+repr(k)+',Edit distance,n/a,'+evaluate_knn_model(knn_model)\n",
    "    knn_model = kNN_model(train_x_seqs,train_y,k,score_matrix=matlist.pam30)\n",
    "    print 'k,'+repr(k)+',Local,Pam30,'+evaluate_knn_model(knn_model)\n",
    "    knn_model = kNN_model(train_x_seqs,train_y,k,local=False,score_matrix=matlist.pam30)\n",
    "    print 'k,'+repr(k)+',Global,Pam30,'+evaluate_knn_model(knn_model)\n",
    "    knn_model = kNN_model(train_x_seqs,train_y,k)\n",
    "    print 'k,'+repr(k)+',Local,Identity,'+evaluate_knn_model(knn_model)\n",
    "    knn_model = kNN_model(train_x_seqs,train_y,k,local=False)\n",
    "    print 'k,'+repr(k)+',Global,Identity,'+evaluate_knn_model(knn_model)"
   ]
  }
 ],
 "metadata": {
  "kernelspec": {
   "display_name": "Python 3 (ipykernel)",
   "language": "python",
   "name": "python3"
  },
  "language_info": {
   "codemirror_mode": {
    "name": "ipython",
    "version": 3
   },
   "file_extension": ".py",
   "mimetype": "text/x-python",
   "name": "python",
   "nbconvert_exporter": "python",
   "pygments_lexer": "ipython3",
   "version": "3.10.12"
  }
 },
 "nbformat": 4,
 "nbformat_minor": 4
}
