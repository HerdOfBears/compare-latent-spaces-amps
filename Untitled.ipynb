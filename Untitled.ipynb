{
 "cells": [
  {
   "cell_type": "code",
   "execution_count": 3,
   "id": "bfeb97ef-5c99-4c4a-b3bd-22e5c5445e8a",
   "metadata": {},
   "outputs": [],
   "source": [
    "import pandas as pd\n",
    "import numpy as np\n",
    "import matplotlib.pyplot as plt\n",
    "import os"
   ]
  },
  {
   "cell_type": "code",
   "execution_count": 5,
   "id": "1f70024d-a6fd-4330-80cc-e6c876047a50",
   "metadata": {},
   "outputs": [
    {
     "data": {
      "text/plain": [
       "['log_aae-128_peptide.txt', 'log_peptide_rnn_test.txt']"
      ]
     },
     "execution_count": 5,
     "metadata": {},
     "output_type": "execute_result"
    }
   ],
   "source": [
    "os.listdir('trials')"
   ]
  },
  {
   "cell_type": "code",
   "execution_count": 6,
   "id": "ac561e57-ba8b-4f95-9c59-2e189239b6c2",
   "metadata": {},
   "outputs": [],
   "source": [
    "df = pd.read_csv(\"trials/log_peptide_rnn_test.txt\", sep=\",\")"
   ]
  },
  {
   "cell_type": "code",
   "execution_count": 7,
   "id": "719ad944-f2e4-4329-af5b-9d30b465cb70",
   "metadata": {},
   "outputs": [
    {
     "data": {
      "text/html": [
       "<div>\n",
       "<style scoped>\n",
       "    .dataframe tbody tr th:only-of-type {\n",
       "        vertical-align: middle;\n",
       "    }\n",
       "\n",
       "    .dataframe tbody tr th {\n",
       "        vertical-align: top;\n",
       "    }\n",
       "\n",
       "    .dataframe thead th {\n",
       "        text-align: right;\n",
       "    }\n",
       "</style>\n",
       "<table border=\"1\" class=\"dataframe\">\n",
       "  <thead>\n",
       "    <tr style=\"text-align: right;\">\n",
       "      <th></th>\n",
       "      <th>epoch</th>\n",
       "      <th>batch_idx</th>\n",
       "      <th>data_type</th>\n",
       "      <th>tot_loss</th>\n",
       "      <th>recon_loss</th>\n",
       "      <th>pred_loss</th>\n",
       "      <th>kld_loss</th>\n",
       "      <th>prop_bce_loss</th>\n",
       "      <th>disc_loss</th>\n",
       "      <th>mmd_loss</th>\n",
       "      <th>run_time</th>\n",
       "    </tr>\n",
       "  </thead>\n",
       "  <tbody>\n",
       "    <tr>\n",
       "      <th>0</th>\n",
       "      <td>0</td>\n",
       "      <td>0</td>\n",
       "      <td>train</td>\n",
       "      <td>3.588648</td>\n",
       "      <td>3.588648</td>\n",
       "      <td>0</td>\n",
       "      <td>7.854265e-09</td>\n",
       "      <td>0.0</td>\n",
       "      <td>0</td>\n",
       "      <td>0</td>\n",
       "      <td>2.11053</td>\n",
       "    </tr>\n",
       "    <tr>\n",
       "      <th>1</th>\n",
       "      <td>0</td>\n",
       "      <td>1</td>\n",
       "      <td>train</td>\n",
       "      <td>2.990926</td>\n",
       "      <td>2.990926</td>\n",
       "      <td>0</td>\n",
       "      <td>8.464995e-09</td>\n",
       "      <td>0.0</td>\n",
       "      <td>0</td>\n",
       "      <td>0</td>\n",
       "      <td>1.86787</td>\n",
       "    </tr>\n",
       "    <tr>\n",
       "      <th>2</th>\n",
       "      <td>0</td>\n",
       "      <td>2</td>\n",
       "      <td>train</td>\n",
       "      <td>2.886031</td>\n",
       "      <td>2.886031</td>\n",
       "      <td>0</td>\n",
       "      <td>9.149048e-09</td>\n",
       "      <td>0.0</td>\n",
       "      <td>0</td>\n",
       "      <td>0</td>\n",
       "      <td>1.87570</td>\n",
       "    </tr>\n",
       "    <tr>\n",
       "      <th>3</th>\n",
       "      <td>0</td>\n",
       "      <td>0</td>\n",
       "      <td>train</td>\n",
       "      <td>3.667768</td>\n",
       "      <td>3.667768</td>\n",
       "      <td>0</td>\n",
       "      <td>7.850473e-09</td>\n",
       "      <td>0.0</td>\n",
       "      <td>0</td>\n",
       "      <td>0</td>\n",
       "      <td>1.86182</td>\n",
       "    </tr>\n",
       "    <tr>\n",
       "      <th>4</th>\n",
       "      <td>0</td>\n",
       "      <td>1</td>\n",
       "      <td>train</td>\n",
       "      <td>2.933731</td>\n",
       "      <td>2.933731</td>\n",
       "      <td>0</td>\n",
       "      <td>8.015026e-09</td>\n",
       "      <td>0.0</td>\n",
       "      <td>0</td>\n",
       "      <td>0</td>\n",
       "      <td>1.77921</td>\n",
       "    </tr>\n",
       "  </tbody>\n",
       "</table>\n",
       "</div>"
      ],
      "text/plain": [
       "   epoch  batch_idx data_type  tot_loss  recon_loss  pred_loss      kld_loss  \\\n",
       "0      0          0     train  3.588648    3.588648          0  7.854265e-09   \n",
       "1      0          1     train  2.990926    2.990926          0  8.464995e-09   \n",
       "2      0          2     train  2.886031    2.886031          0  9.149048e-09   \n",
       "3      0          0     train  3.667768    3.667768          0  7.850473e-09   \n",
       "4      0          1     train  2.933731    2.933731          0  8.015026e-09   \n",
       "\n",
       "   prop_bce_loss  disc_loss  mmd_loss  run_time  \n",
       "0            0.0          0         0   2.11053  \n",
       "1            0.0          0         0   1.86787  \n",
       "2            0.0          0         0   1.87570  \n",
       "3            0.0          0         0   1.86182  \n",
       "4            0.0          0         0   1.77921  "
      ]
     },
     "execution_count": 7,
     "metadata": {},
     "output_type": "execute_result"
    }
   ],
   "source": [
    "df.head()"
   ]
  },
  {
   "cell_type": "code",
   "execution_count": 13,
   "id": "564def99-37a7-4312-8ff1-c6ab80df263f",
   "metadata": {},
   "outputs": [
    {
     "data": {
      "text/plain": [
       "<matplotlib.legend.Legend at 0x7a3a2f6764d0>"
      ]
     },
     "execution_count": 13,
     "metadata": {},
     "output_type": "execute_result"
    },
    {
     "data": {
      "image/png": "[encoded data removed]",
      "text/plain": [
       "<Figure size 640x480 with 1 Axes>"
      ]
     },
     "metadata": {},
     "output_type": "display_data"
    }
   ],
   "source": [
    "plt.plot(df[\"tot_loss\"], label=\"total\")\n",
    "plt.plot(df[\"recon_loss\"],label=\"recon\")\n",
    "plt.plot(df[\"kld_loss\"],label=\"kld\")\n",
    "plt.legend()"
   ]
  },
  {
   "cell_type": "code",
   "execution_count": null,
   "id": "1689d067-8d6f-4627-ab4c-13ba10fe6122",
   "metadata": {},
   "outputs": [],
   "source": []
  },
  {
   "cell_type": "code",
   "execution_count": null,
   "id": "81909ee7-47e5-444e-88e6-759089ebd419",
   "metadata": {},
   "outputs": [],
   "source": []
  }
 ],
 "metadata": {
  "kernelspec": {
   "display_name": "Python 3 (ipykernel)",
   "language": "python",
   "name": "python3"
  },
  "language_info": {
   "codemirror_mode": {
    "name": "ipython",
    "version": 3
   },
   "file_extension": ".py",
   "mimetype": "text/x-python",
   "name": "python",
   "nbconvert_exporter": "python",
   "pygments_lexer": "ipython3",
   "version": "3.10.12"
  }
 },
 "nbformat": 4,
 "nbformat_minor": 5
}
